{
  "cells": [
    {
      "cell_type": "markdown",
      "metadata": {
        "id": "0aStgWSO0E0E"
      },
      "source": [
        "# **Exploratory Data Analysis (EDA)**"
      ]
    },
    {
      "cell_type": "markdown",
      "metadata": {
        "id": "1eLEkw5O0ECa"
      },
      "source": [
        "## Objectives\n",
        "\n",
        "This notebook aims to use **Exploratory Data Analysis (EDA)** to explore, and understand the dataset and its existing patterns and trends. The EDA process aims to:\n",
        "- Conduct descriptive analysis of the data\n",
        "- Generate and refine features in features engineering\n",
        "- Test hypothesis using statistical tests\n",
        "- Generate visualisation to display trends\n",
        "- Gather insights on data that answers business requirements\n",
        "\n",
        "\n",
        "## Prerequisites\n",
        "- Python 3.12.8 is installed\n",
        "- Required Python Libaries from `requirements.txt` and their dependencies must be installed\n",
        "- Optional to set up Python virtual enviornment\n",
        "- Completed ETL step\n",
        "\n",
        "## Inputs\n",
        "\n",
        "- Cleaned dataset from ETL `cleaned_heart_data.csv`.\n",
        "\n",
        "## Initial hypothesis\n",
        "- Older individuals are more likely to develope cardiovascular disease (CVD)\n",
        "- Males are more likely to develope CVD than females\n",
        "- High blood pressure increase the likelihood of developing CDV\n",
        "- High cholesterol individuals are more likely to have CDV\n",
        "- Physically active individuals are less likely to have CDV\n",
        "- Smokers are more likely to have CDV\n",
        "- Alcohol consumption increase the likelyhood of developing CDV\n",
        "\n",
        "## Outputs\n",
        "\n",
        "- Generated insights and tested hypothesis\n",
        "- Data visualisations created using matplotlib, seaborn and plotly\n",
        "\n",
        "## Additional Comments\n",
        "\n",
        "- If you have any additional comments that don't fit in the previous bullets, please state them here. \n",
        "\n"
      ]
    },
    {
      "cell_type": "markdown",
      "metadata": {
        "id": "9uWZXH9LwoQg"
      },
      "source": [
        "---"
      ]
    },
    {
      "cell_type": "markdown",
      "metadata": {
        "id": "cqP-UeN-z3i2"
      },
      "source": [
        "# Change working directory"
      ]
    },
    {
      "cell_type": "markdown",
      "metadata": {
        "id": "aOGIGS-uz3i2"
      },
      "source": [
        "The working directory must be changed from its current folder to its parent folder\n",
        "* The current directory can be accessed with `os.getcwd()`"
      ]
    },
    {
      "cell_type": "code",
      "execution_count": 2,
      "metadata": {
        "id": "wZfF_j-Bz3i4",
        "outputId": "66943449-1436-4c3d-85c7-b85f9f78349b"
      },
      "outputs": [
        {
          "data": {
            "text/plain": [
              "'/workspaces/analysis-of-risk-factors-for-cardiovascular-diseases/jupyter_notebooks'"
            ]
          },
          "execution_count": 2,
          "metadata": {},
          "output_type": "execute_result"
        }
      ],
      "source": [
        "import os\n",
        "current_dir = os.getcwd()\n",
        "current_dir"
      ]
    },
    {
      "cell_type": "markdown",
      "metadata": {
        "id": "9MWW8E7lz3i7"
      },
      "source": [
        "The parent of the current directory will be the new current directory\n",
        "* os.path.dirname() gets the parent directory\n",
        "* os.chir() defines the new current directory"
      ]
    },
    {
      "cell_type": "code",
      "execution_count": 3,
      "metadata": {
        "id": "TwHsQRWjz3i9",
        "outputId": "86849db3-cd2f-4cc5-ebb8-2d0caafa1a2c"
      },
      "outputs": [
        {
          "name": "stdout",
          "output_type": "stream",
          "text": [
            "You set a new current directory\n"
          ]
        }
      ],
      "source": [
        "os.chdir(os.path.dirname(current_dir))\n",
        "print(\"You set a new current directory\")"
      ]
    },
    {
      "cell_type": "markdown",
      "metadata": {
        "id": "M_xPk_Ijz3i-"
      },
      "source": [
        "Confirm the new current directory"
      ]
    },
    {
      "cell_type": "code",
      "execution_count": 4,
      "metadata": {
        "id": "vz3S-_kjz3jA",
        "outputId": "00b79ae4-75d0-4a96-d193-ac9ef9847ea2"
      },
      "outputs": [
        {
          "data": {
            "text/plain": [
              "'/workspaces/analysis-of-risk-factors-for-cardiovascular-diseases'"
            ]
          },
          "execution_count": 4,
          "metadata": {},
          "output_type": "execute_result"
        }
      ],
      "source": [
        "current_dir = os.getcwd()\n",
        "current_dir"
      ]
    },
    {
      "cell_type": "markdown",
      "metadata": {},
      "source": [
        "---"
      ]
    },
    {
      "cell_type": "markdown",
      "metadata": {},
      "source": [
        "# Initial Setup"
      ]
    },
    {
      "cell_type": "markdown",
      "metadata": {},
      "source": [
        "### Import Libaries\n",
        "\n",
        "Essential data analysis and visualisation libaries are imported."
      ]
    },
    {
      "cell_type": "code",
      "execution_count": 5,
      "metadata": {},
      "outputs": [],
      "source": [
        "import numpy as np\n",
        "import pandas as pd\n",
        "import matplotlib.pyplot as plt\n",
        "import seaborn as sns\n",
        "import plotly.express as px\n",
        "import plotly.graph_objects as go"
      ]
    },
    {
      "cell_type": "markdown",
      "metadata": {
        "id": "-mavJ8DibrcQ"
      },
      "source": [
        "### Extract Dataset\n",
        "\n",
        "Extract the cleaned csv file as a pandas DataFrame"
      ]
    },
    {
      "cell_type": "code",
      "execution_count": 6,
      "metadata": {},
      "outputs": [
        {
          "data": {
            "text/html": [
              "<div>\n",
              "<style scoped>\n",
              "    .dataframe tbody tr th:only-of-type {\n",
              "        vertical-align: middle;\n",
              "    }\n",
              "\n",
              "    .dataframe tbody tr th {\n",
              "        vertical-align: top;\n",
              "    }\n",
              "\n",
              "    .dataframe thead th {\n",
              "        text-align: right;\n",
              "    }\n",
              "</style>\n",
              "<table border=\"1\" class=\"dataframe\">\n",
              "  <thead>\n",
              "    <tr style=\"text-align: right;\">\n",
              "      <th></th>\n",
              "      <th>id</th>\n",
              "      <th>age</th>\n",
              "      <th>gender</th>\n",
              "      <th>height</th>\n",
              "      <th>weight</th>\n",
              "      <th>ap_hi</th>\n",
              "      <th>ap_lo</th>\n",
              "      <th>cholesterol</th>\n",
              "      <th>gluc</th>\n",
              "      <th>smoke</th>\n",
              "      <th>alco</th>\n",
              "      <th>active</th>\n",
              "      <th>cardio</th>\n",
              "    </tr>\n",
              "  </thead>\n",
              "  <tbody>\n",
              "    <tr>\n",
              "      <th>0</th>\n",
              "      <td>0</td>\n",
              "      <td>18393</td>\n",
              "      <td>2</td>\n",
              "      <td>168</td>\n",
              "      <td>62.0</td>\n",
              "      <td>110</td>\n",
              "      <td>80</td>\n",
              "      <td>1</td>\n",
              "      <td>1</td>\n",
              "      <td>0</td>\n",
              "      <td>0</td>\n",
              "      <td>1</td>\n",
              "      <td>0</td>\n",
              "    </tr>\n",
              "    <tr>\n",
              "      <th>1</th>\n",
              "      <td>1</td>\n",
              "      <td>20228</td>\n",
              "      <td>1</td>\n",
              "      <td>156</td>\n",
              "      <td>85.0</td>\n",
              "      <td>140</td>\n",
              "      <td>90</td>\n",
              "      <td>3</td>\n",
              "      <td>1</td>\n",
              "      <td>0</td>\n",
              "      <td>0</td>\n",
              "      <td>1</td>\n",
              "      <td>1</td>\n",
              "    </tr>\n",
              "    <tr>\n",
              "      <th>2</th>\n",
              "      <td>2</td>\n",
              "      <td>18857</td>\n",
              "      <td>1</td>\n",
              "      <td>165</td>\n",
              "      <td>64.0</td>\n",
              "      <td>130</td>\n",
              "      <td>70</td>\n",
              "      <td>3</td>\n",
              "      <td>1</td>\n",
              "      <td>0</td>\n",
              "      <td>0</td>\n",
              "      <td>0</td>\n",
              "      <td>1</td>\n",
              "    </tr>\n",
              "    <tr>\n",
              "      <th>3</th>\n",
              "      <td>3</td>\n",
              "      <td>17623</td>\n",
              "      <td>2</td>\n",
              "      <td>169</td>\n",
              "      <td>82.0</td>\n",
              "      <td>150</td>\n",
              "      <td>100</td>\n",
              "      <td>1</td>\n",
              "      <td>1</td>\n",
              "      <td>0</td>\n",
              "      <td>0</td>\n",
              "      <td>1</td>\n",
              "      <td>1</td>\n",
              "    </tr>\n",
              "    <tr>\n",
              "      <th>4</th>\n",
              "      <td>4</td>\n",
              "      <td>17474</td>\n",
              "      <td>1</td>\n",
              "      <td>156</td>\n",
              "      <td>56.0</td>\n",
              "      <td>100</td>\n",
              "      <td>60</td>\n",
              "      <td>1</td>\n",
              "      <td>1</td>\n",
              "      <td>0</td>\n",
              "      <td>0</td>\n",
              "      <td>0</td>\n",
              "      <td>0</td>\n",
              "    </tr>\n",
              "  </tbody>\n",
              "</table>\n",
              "</div>"
            ],
            "text/plain": [
              "   id    age  gender  height  weight  ap_hi  ap_lo  cholesterol  gluc  smoke  \\\n",
              "0   0  18393       2     168    62.0    110     80            1     1      0   \n",
              "1   1  20228       1     156    85.0    140     90            3     1      0   \n",
              "2   2  18857       1     165    64.0    130     70            3     1      0   \n",
              "3   3  17623       2     169    82.0    150    100            1     1      0   \n",
              "4   4  17474       1     156    56.0    100     60            1     1      0   \n",
              "\n",
              "   alco  active  cardio  \n",
              "0     0       1       0  \n",
              "1     0       1       1  \n",
              "2     0       0       1  \n",
              "3     0       1       1  \n",
              "4     0       0       0  "
            ]
          },
          "execution_count": 6,
          "metadata": {},
          "output_type": "execute_result"
        }
      ],
      "source": [
        "'''Read the raw data and create a copy of the original data'''\n",
        "df = pd.read_csv('data/cleaned/cleaned_heart_data.csv') # Cleaned data directory\n",
        "df_original =df.copy()\n",
        "df.head()"
      ]
    },
    {
      "cell_type": "markdown",
      "metadata": {},
      "source": [
        "---"
      ]
    },
    {
      "cell_type": "markdown",
      "metadata": {},
      "source": [
        "# EDA: Features Engineering and Descriptive Analysis"
      ]
    },
    {
      "cell_type": "markdown",
      "metadata": {},
      "source": [
        "## Data type conversion\n",
        "A basic summary of the DataFrame is generated using `.info()`. Although the data types of categorical data were changed in the previous ETL notebooks, they have reverted back to integer data types. This is because the actural values of those rows were not replaced, so when the saved csv file is read, it gets assigned to an integer data type."
      ]
    },
    {
      "cell_type": "code",
      "execution_count": 39,
      "metadata": {},
      "outputs": [
        {
          "name": "stdout",
          "output_type": "stream",
          "text": [
            "<class 'pandas.core.frame.DataFrame'>\n",
            "Index: 68612 entries, 0 to 68767\n",
            "Data columns (total 16 columns):\n",
            " #   Column       Non-Null Count  Dtype   \n",
            "---  ------       --------------  -----   \n",
            " 0   id           68612 non-null  int64   \n",
            " 1   age          68612 non-null  int64   \n",
            " 2   gender       68612 non-null  category\n",
            " 3   height       68612 non-null  int64   \n",
            " 4   weight       68612 non-null  float64 \n",
            " 5   ap_hi        68612 non-null  int64   \n",
            " 6   ap_lo        68612 non-null  int64   \n",
            " 7   cholesterol  68612 non-null  category\n",
            " 8   gluc         68612 non-null  category\n",
            " 9   smoke        68612 non-null  category\n",
            " 10  alco         68612 non-null  category\n",
            " 11  active       68612 non-null  category\n",
            " 12  cardio       68612 non-null  category\n",
            " 13  pp           68612 non-null  int64   \n",
            " 14  bmi          68612 non-null  float64 \n",
            " 15  age_years    68612 non-null  int64   \n",
            "dtypes: category(7), float64(2), int64(7)\n",
            "memory usage: 7.7 MB\n"
          ]
        }
      ],
      "source": [
        "df.info()"
      ]
    },
    {
      "cell_type": "markdown",
      "metadata": {},
      "source": [
        "The integer values of `gender`, `cholesterol`, `gluc`, smoke, alco, active and cardio are replaced with string variables representing the same thing. The rows are then converted to category data types."
      ]
    },
    {
      "cell_type": "code",
      "execution_count": 40,
      "metadata": {},
      "outputs": [
        {
          "data": {
            "text/html": [
              "<div>\n",
              "<style scoped>\n",
              "    .dataframe tbody tr th:only-of-type {\n",
              "        vertical-align: middle;\n",
              "    }\n",
              "\n",
              "    .dataframe tbody tr th {\n",
              "        vertical-align: top;\n",
              "    }\n",
              "\n",
              "    .dataframe thead th {\n",
              "        text-align: right;\n",
              "    }\n",
              "</style>\n",
              "<table border=\"1\" class=\"dataframe\">\n",
              "  <thead>\n",
              "    <tr style=\"text-align: right;\">\n",
              "      <th></th>\n",
              "      <th>id</th>\n",
              "      <th>age</th>\n",
              "      <th>gender</th>\n",
              "      <th>height</th>\n",
              "      <th>weight</th>\n",
              "      <th>ap_hi</th>\n",
              "      <th>ap_lo</th>\n",
              "      <th>cholesterol</th>\n",
              "      <th>gluc</th>\n",
              "      <th>smoke</th>\n",
              "      <th>alco</th>\n",
              "      <th>active</th>\n",
              "      <th>cardio</th>\n",
              "      <th>pp</th>\n",
              "      <th>bmi</th>\n",
              "      <th>age_years</th>\n",
              "    </tr>\n",
              "  </thead>\n",
              "  <tbody>\n",
              "    <tr>\n",
              "      <th>0</th>\n",
              "      <td>0</td>\n",
              "      <td>18393</td>\n",
              "      <td>Female</td>\n",
              "      <td>168</td>\n",
              "      <td>62.0</td>\n",
              "      <td>110</td>\n",
              "      <td>80</td>\n",
              "      <td>Normal</td>\n",
              "      <td>Normal</td>\n",
              "      <td>Non-smoker</td>\n",
              "      <td>Non-drinker</td>\n",
              "      <td>Active</td>\n",
              "      <td>No CVD</td>\n",
              "      <td>30</td>\n",
              "      <td>21.97</td>\n",
              "      <td>50</td>\n",
              "    </tr>\n",
              "    <tr>\n",
              "      <th>1</th>\n",
              "      <td>1</td>\n",
              "      <td>20228</td>\n",
              "      <td>Male</td>\n",
              "      <td>156</td>\n",
              "      <td>85.0</td>\n",
              "      <td>140</td>\n",
              "      <td>90</td>\n",
              "      <td>Very high</td>\n",
              "      <td>Normal</td>\n",
              "      <td>Non-smoker</td>\n",
              "      <td>Non-drinker</td>\n",
              "      <td>Active</td>\n",
              "      <td>CVD</td>\n",
              "      <td>50</td>\n",
              "      <td>34.93</td>\n",
              "      <td>55</td>\n",
              "    </tr>\n",
              "    <tr>\n",
              "      <th>2</th>\n",
              "      <td>2</td>\n",
              "      <td>18857</td>\n",
              "      <td>Male</td>\n",
              "      <td>165</td>\n",
              "      <td>64.0</td>\n",
              "      <td>130</td>\n",
              "      <td>70</td>\n",
              "      <td>Very high</td>\n",
              "      <td>Normal</td>\n",
              "      <td>Non-smoker</td>\n",
              "      <td>Non-drinker</td>\n",
              "      <td>Inactive</td>\n",
              "      <td>CVD</td>\n",
              "      <td>60</td>\n",
              "      <td>23.51</td>\n",
              "      <td>52</td>\n",
              "    </tr>\n",
              "    <tr>\n",
              "      <th>3</th>\n",
              "      <td>3</td>\n",
              "      <td>17623</td>\n",
              "      <td>Female</td>\n",
              "      <td>169</td>\n",
              "      <td>82.0</td>\n",
              "      <td>150</td>\n",
              "      <td>100</td>\n",
              "      <td>Normal</td>\n",
              "      <td>Normal</td>\n",
              "      <td>Non-smoker</td>\n",
              "      <td>Non-drinker</td>\n",
              "      <td>Active</td>\n",
              "      <td>CVD</td>\n",
              "      <td>50</td>\n",
              "      <td>28.71</td>\n",
              "      <td>48</td>\n",
              "    </tr>\n",
              "    <tr>\n",
              "      <th>4</th>\n",
              "      <td>4</td>\n",
              "      <td>17474</td>\n",
              "      <td>Male</td>\n",
              "      <td>156</td>\n",
              "      <td>56.0</td>\n",
              "      <td>100</td>\n",
              "      <td>60</td>\n",
              "      <td>Normal</td>\n",
              "      <td>Normal</td>\n",
              "      <td>Non-smoker</td>\n",
              "      <td>Non-drinker</td>\n",
              "      <td>Inactive</td>\n",
              "      <td>No CVD</td>\n",
              "      <td>40</td>\n",
              "      <td>23.01</td>\n",
              "      <td>48</td>\n",
              "    </tr>\n",
              "  </tbody>\n",
              "</table>\n",
              "</div>"
            ],
            "text/plain": [
              "   id    age  gender  height  weight  ap_hi  ap_lo cholesterol    gluc  \\\n",
              "0   0  18393  Female     168    62.0    110     80      Normal  Normal   \n",
              "1   1  20228    Male     156    85.0    140     90   Very high  Normal   \n",
              "2   2  18857    Male     165    64.0    130     70   Very high  Normal   \n",
              "3   3  17623  Female     169    82.0    150    100      Normal  Normal   \n",
              "4   4  17474    Male     156    56.0    100     60      Normal  Normal   \n",
              "\n",
              "        smoke         alco    active  cardio  pp    bmi  age_years  \n",
              "0  Non-smoker  Non-drinker    Active  No CVD  30  21.97         50  \n",
              "1  Non-smoker  Non-drinker    Active     CVD  50  34.93         55  \n",
              "2  Non-smoker  Non-drinker  Inactive     CVD  60  23.51         52  \n",
              "3  Non-smoker  Non-drinker    Active     CVD  50  28.71         48  \n",
              "4  Non-smoker  Non-drinker  Inactive  No CVD  40  23.01         48  "
            ]
          },
          "execution_count": 40,
          "metadata": {},
          "output_type": "execute_result"
        }
      ],
      "source": [
        "'''Replace integer values with descriptive names and convert to category data type'''#\n",
        "catago_cols = ['gender', 'cholesterol', 'gluc', 'smoke', 'alco', 'active', 'cardio']\n",
        "\n",
        "df['gender'].replace({1: 'Male', 2: 'Female'}, inplace=True)\n",
        "df['cholesterol'].replace({1: 'Normal', 2: 'High', 3: 'Very high'}, inplace=True)\n",
        "df['gluc'].replace({1: 'Normal', 2: 'High', 3: 'Very high'}, inplace=True)\n",
        "df['smoke'].replace({0: 'Non-smoker', 1: 'Smoker'}, inplace=True)\n",
        "df['alco'].replace({0: 'Non-drinker', 1: 'Drinker'}, inplace=True)\n",
        "df['active'].replace({0: 'Inactive', 1: 'Active'}, inplace=True)\n",
        "df['cardio'].replace({0: 'No CVD', 1: 'CVD'}, inplace=True)\n",
        "\n",
        "for col in catago_cols:\n",
        "    df[col] = df[col].astype('category')\n",
        "\n",
        "df.head()"
      ]
    },
    {
      "cell_type": "markdown",
      "metadata": {},
      "source": [
        "Confirm that the data types have been changed to category"
      ]
    },
    {
      "cell_type": "code",
      "execution_count": 41,
      "metadata": {},
      "outputs": [
        {
          "name": "stdout",
          "output_type": "stream",
          "text": [
            "<class 'pandas.core.frame.DataFrame'>\n",
            "Index: 68612 entries, 0 to 68767\n",
            "Data columns (total 16 columns):\n",
            " #   Column       Non-Null Count  Dtype   \n",
            "---  ------       --------------  -----   \n",
            " 0   id           68612 non-null  int64   \n",
            " 1   age          68612 non-null  int64   \n",
            " 2   gender       68612 non-null  category\n",
            " 3   height       68612 non-null  int64   \n",
            " 4   weight       68612 non-null  float64 \n",
            " 5   ap_hi        68612 non-null  int64   \n",
            " 6   ap_lo        68612 non-null  int64   \n",
            " 7   cholesterol  68612 non-null  category\n",
            " 8   gluc         68612 non-null  category\n",
            " 9   smoke        68612 non-null  category\n",
            " 10  alco         68612 non-null  category\n",
            " 11  active       68612 non-null  category\n",
            " 12  cardio       68612 non-null  category\n",
            " 13  pp           68612 non-null  int64   \n",
            " 14  bmi          68612 non-null  float64 \n",
            " 15  age_years    68612 non-null  int64   \n",
            "dtypes: category(7), float64(2), int64(7)\n",
            "memory usage: 7.7 MB\n"
          ]
        }
      ],
      "source": [
        "df.info()"
      ]
    },
    {
      "cell_type": "markdown",
      "metadata": {},
      "source": [
        "## Feature creation"
      ]
    },
    {
      "cell_type": "markdown",
      "metadata": {},
      "source": [
        "Pulse pressure, body mass index and age in years were created."
      ]
    },
    {
      "cell_type": "code",
      "execution_count": 42,
      "metadata": {},
      "outputs": [
        {
          "data": {
            "text/html": [
              "<div>\n",
              "<style scoped>\n",
              "    .dataframe tbody tr th:only-of-type {\n",
              "        vertical-align: middle;\n",
              "    }\n",
              "\n",
              "    .dataframe tbody tr th {\n",
              "        vertical-align: top;\n",
              "    }\n",
              "\n",
              "    .dataframe thead th {\n",
              "        text-align: right;\n",
              "    }\n",
              "</style>\n",
              "<table border=\"1\" class=\"dataframe\">\n",
              "  <thead>\n",
              "    <tr style=\"text-align: right;\">\n",
              "      <th></th>\n",
              "      <th>id</th>\n",
              "      <th>age</th>\n",
              "      <th>gender</th>\n",
              "      <th>height</th>\n",
              "      <th>weight</th>\n",
              "      <th>ap_hi</th>\n",
              "      <th>ap_lo</th>\n",
              "      <th>cholesterol</th>\n",
              "      <th>gluc</th>\n",
              "      <th>smoke</th>\n",
              "      <th>alco</th>\n",
              "      <th>active</th>\n",
              "      <th>cardio</th>\n",
              "      <th>pp</th>\n",
              "      <th>bmi</th>\n",
              "      <th>age_years</th>\n",
              "    </tr>\n",
              "  </thead>\n",
              "  <tbody>\n",
              "    <tr>\n",
              "      <th>0</th>\n",
              "      <td>0</td>\n",
              "      <td>18393</td>\n",
              "      <td>Female</td>\n",
              "      <td>168</td>\n",
              "      <td>62.0</td>\n",
              "      <td>110</td>\n",
              "      <td>80</td>\n",
              "      <td>Normal</td>\n",
              "      <td>Normal</td>\n",
              "      <td>Non-smoker</td>\n",
              "      <td>Non-drinker</td>\n",
              "      <td>Active</td>\n",
              "      <td>No CVD</td>\n",
              "      <td>30</td>\n",
              "      <td>21.97</td>\n",
              "      <td>50</td>\n",
              "    </tr>\n",
              "    <tr>\n",
              "      <th>1</th>\n",
              "      <td>1</td>\n",
              "      <td>20228</td>\n",
              "      <td>Male</td>\n",
              "      <td>156</td>\n",
              "      <td>85.0</td>\n",
              "      <td>140</td>\n",
              "      <td>90</td>\n",
              "      <td>Very high</td>\n",
              "      <td>Normal</td>\n",
              "      <td>Non-smoker</td>\n",
              "      <td>Non-drinker</td>\n",
              "      <td>Active</td>\n",
              "      <td>CVD</td>\n",
              "      <td>50</td>\n",
              "      <td>34.93</td>\n",
              "      <td>55</td>\n",
              "    </tr>\n",
              "    <tr>\n",
              "      <th>2</th>\n",
              "      <td>2</td>\n",
              "      <td>18857</td>\n",
              "      <td>Male</td>\n",
              "      <td>165</td>\n",
              "      <td>64.0</td>\n",
              "      <td>130</td>\n",
              "      <td>70</td>\n",
              "      <td>Very high</td>\n",
              "      <td>Normal</td>\n",
              "      <td>Non-smoker</td>\n",
              "      <td>Non-drinker</td>\n",
              "      <td>Inactive</td>\n",
              "      <td>CVD</td>\n",
              "      <td>60</td>\n",
              "      <td>23.51</td>\n",
              "      <td>52</td>\n",
              "    </tr>\n",
              "    <tr>\n",
              "      <th>3</th>\n",
              "      <td>3</td>\n",
              "      <td>17623</td>\n",
              "      <td>Female</td>\n",
              "      <td>169</td>\n",
              "      <td>82.0</td>\n",
              "      <td>150</td>\n",
              "      <td>100</td>\n",
              "      <td>Normal</td>\n",
              "      <td>Normal</td>\n",
              "      <td>Non-smoker</td>\n",
              "      <td>Non-drinker</td>\n",
              "      <td>Active</td>\n",
              "      <td>CVD</td>\n",
              "      <td>50</td>\n",
              "      <td>28.71</td>\n",
              "      <td>48</td>\n",
              "    </tr>\n",
              "    <tr>\n",
              "      <th>4</th>\n",
              "      <td>4</td>\n",
              "      <td>17474</td>\n",
              "      <td>Male</td>\n",
              "      <td>156</td>\n",
              "      <td>56.0</td>\n",
              "      <td>100</td>\n",
              "      <td>60</td>\n",
              "      <td>Normal</td>\n",
              "      <td>Normal</td>\n",
              "      <td>Non-smoker</td>\n",
              "      <td>Non-drinker</td>\n",
              "      <td>Inactive</td>\n",
              "      <td>No CVD</td>\n",
              "      <td>40</td>\n",
              "      <td>23.01</td>\n",
              "      <td>48</td>\n",
              "    </tr>\n",
              "  </tbody>\n",
              "</table>\n",
              "</div>"
            ],
            "text/plain": [
              "   id    age  gender  height  weight  ap_hi  ap_lo cholesterol    gluc  \\\n",
              "0   0  18393  Female     168    62.0    110     80      Normal  Normal   \n",
              "1   1  20228    Male     156    85.0    140     90   Very high  Normal   \n",
              "2   2  18857    Male     165    64.0    130     70   Very high  Normal   \n",
              "3   3  17623  Female     169    82.0    150    100      Normal  Normal   \n",
              "4   4  17474    Male     156    56.0    100     60      Normal  Normal   \n",
              "\n",
              "        smoke         alco    active  cardio  pp    bmi  age_years  \n",
              "0  Non-smoker  Non-drinker    Active  No CVD  30  21.97         50  \n",
              "1  Non-smoker  Non-drinker    Active     CVD  50  34.93         55  \n",
              "2  Non-smoker  Non-drinker  Inactive     CVD  60  23.51         52  \n",
              "3  Non-smoker  Non-drinker    Active     CVD  50  28.71         48  \n",
              "4  Non-smoker  Non-drinker  Inactive  No CVD  40  23.01         48  "
            ]
          },
          "execution_count": 42,
          "metadata": {},
          "output_type": "execute_result"
        }
      ],
      "source": [
        "'''Create new features: pulse pressure (pp), body mass index (bmi), age in years (age_years)'''\n",
        "df['pp'] = df['ap_hi'] - df['ap_lo']\n",
        "df['bmi'] = (df['weight'] / (df['height']/100)**2).round(2)\n",
        "df[\"age_years\"] = (df[\"age\"] / 365.25).round().astype(int)\n",
        "df.head()"
      ]
    },
    {
      "cell_type": "markdown",
      "metadata": {},
      "source": [
        "Updated Features Description\n",
        "\n",
        "|Name of feature|Description|Data type|\n",
        "| ----------- | ----------- | ----------- |\n",
        "|`id`|Unique identifier assigned to each person|Integer|\n",
        "|`age`|Age of the person in days|Integer|\n",
        "|`gender`|Gender of the person|Category|\n",
        "|`height`|Height of the person in cm|Integer|\n",
        "|`weight`|Weight of the person in kg|Float|\n",
        "|`ap_hi`|Systolic blood pressure reading|Integer|\n",
        "|`ap_lo`|Diastolic blood pressure reading|Integer|\n",
        "|`cholesterol`|Cholesterol level|Category|\n",
        "|`gluc`|Glucose level|Category|\n",
        "|`smoke`|Smoking status|Category|\n",
        "|`alco`|Alcohol status|Category|\n",
        "|`active`|Physical activity status|Category|\n",
        "|`cardio`|Presence of cardiovascular disease|Category|\n",
        "|`pp`|Pulse pressure|Integer|\n",
        "|`bmi`|Body Mass Index in kg/m²|Float|\n",
        "|`age_years`|Age of the person in years|Integer|\n"
      ]
    },
    {
      "cell_type": "markdown",
      "metadata": {},
      "source": [
        "## Identifying and handling outliers\n",
        "Basic distribution of numerical values can be found using `.describe()`. This will be done to the columns with numerical data values. The age demographic of the data consists of adults between 30 to 65 years old.\n",
        "\n",
        "The descriptive statistics indicate the presence of outliers and errors: \n",
        "- Minimum height and weight of 55 cm and 11 kg is implausible considering that the youngest individual in the dataset is 29 years old (10,798 days).\n",
        "- pulse pressure (pp) can not be negative as Systolic pressure can not be lower than Diastolic pressure. A typical range is 30–60 mmHg but pulse pressure higher than 100 mmHg is possible in individuals with medical conditions.\n",
        "- Lowest BMI is 3.47 kg/m² which is very likely an error as lowest ever recorded BMI is 6.7 kg/m².\n",
        "- Highest BMI is 298.67 kg/m² which also seems unlikely."
      ]
    },
    {
      "cell_type": "code",
      "execution_count": 43,
      "metadata": {},
      "outputs": [
        {
          "data": {
            "text/html": [
              "<div>\n",
              "<style scoped>\n",
              "    .dataframe tbody tr th:only-of-type {\n",
              "        vertical-align: middle;\n",
              "    }\n",
              "\n",
              "    .dataframe tbody tr th {\n",
              "        vertical-align: top;\n",
              "    }\n",
              "\n",
              "    .dataframe thead th {\n",
              "        text-align: right;\n",
              "    }\n",
              "</style>\n",
              "<table border=\"1\" class=\"dataframe\">\n",
              "  <thead>\n",
              "    <tr style=\"text-align: right;\">\n",
              "      <th></th>\n",
              "      <th>min</th>\n",
              "      <th>max</th>\n",
              "      <th>range</th>\n",
              "      <th>mean</th>\n",
              "      <th>50%</th>\n",
              "      <th>std</th>\n",
              "      <th>var</th>\n",
              "      <th>skew</th>\n",
              "      <th>kurtosis</th>\n",
              "    </tr>\n",
              "  </thead>\n",
              "  <tbody>\n",
              "    <tr>\n",
              "      <th>id</th>\n",
              "      <td>0.00</td>\n",
              "      <td>99999.0</td>\n",
              "      <td>99999.00</td>\n",
              "      <td>49975.68</td>\n",
              "      <td>50016.50</td>\n",
              "      <td>28844.58</td>\n",
              "      <td>8.320096e+08</td>\n",
              "      <td>-0.00</td>\n",
              "      <td>-1.20</td>\n",
              "    </tr>\n",
              "    <tr>\n",
              "      <th>age</th>\n",
              "      <td>10798.00</td>\n",
              "      <td>23713.0</td>\n",
              "      <td>12915.00</td>\n",
              "      <td>19464.32</td>\n",
              "      <td>19701.00</td>\n",
              "      <td>2468.13</td>\n",
              "      <td>6.091687e+06</td>\n",
              "      <td>-0.31</td>\n",
              "      <td>-0.83</td>\n",
              "    </tr>\n",
              "    <tr>\n",
              "      <th>height</th>\n",
              "      <td>100.00</td>\n",
              "      <td>250.0</td>\n",
              "      <td>150.00</td>\n",
              "      <td>164.41</td>\n",
              "      <td>165.00</td>\n",
              "      <td>7.94</td>\n",
              "      <td>6.306000e+01</td>\n",
              "      <td>0.00</td>\n",
              "      <td>1.06</td>\n",
              "    </tr>\n",
              "    <tr>\n",
              "      <th>weight</th>\n",
              "      <td>28.00</td>\n",
              "      <td>200.0</td>\n",
              "      <td>172.00</td>\n",
              "      <td>74.09</td>\n",
              "      <td>72.00</td>\n",
              "      <td>14.21</td>\n",
              "      <td>2.020200e+02</td>\n",
              "      <td>0.94</td>\n",
              "      <td>2.04</td>\n",
              "    </tr>\n",
              "    <tr>\n",
              "      <th>ap_hi</th>\n",
              "      <td>60.00</td>\n",
              "      <td>240.0</td>\n",
              "      <td>180.00</td>\n",
              "      <td>126.67</td>\n",
              "      <td>120.00</td>\n",
              "      <td>16.68</td>\n",
              "      <td>2.780900e+02</td>\n",
              "      <td>0.93</td>\n",
              "      <td>1.83</td>\n",
              "    </tr>\n",
              "    <tr>\n",
              "      <th>ap_lo</th>\n",
              "      <td>30.00</td>\n",
              "      <td>150.0</td>\n",
              "      <td>120.00</td>\n",
              "      <td>81.29</td>\n",
              "      <td>80.00</td>\n",
              "      <td>9.43</td>\n",
              "      <td>8.901000e+01</td>\n",
              "      <td>0.30</td>\n",
              "      <td>1.64</td>\n",
              "    </tr>\n",
              "    <tr>\n",
              "      <th>pp</th>\n",
              "      <td>10.00</td>\n",
              "      <td>140.0</td>\n",
              "      <td>130.00</td>\n",
              "      <td>45.37</td>\n",
              "      <td>40.00</td>\n",
              "      <td>11.67</td>\n",
              "      <td>1.362300e+02</td>\n",
              "      <td>1.32</td>\n",
              "      <td>3.59</td>\n",
              "    </tr>\n",
              "    <tr>\n",
              "      <th>bmi</th>\n",
              "      <td>10.73</td>\n",
              "      <td>60.0</td>\n",
              "      <td>49.27</td>\n",
              "      <td>27.45</td>\n",
              "      <td>26.35</td>\n",
              "      <td>5.21</td>\n",
              "      <td>2.716000e+01</td>\n",
              "      <td>1.19</td>\n",
              "      <td>2.43</td>\n",
              "    </tr>\n",
              "    <tr>\n",
              "      <th>age_years</th>\n",
              "      <td>30.00</td>\n",
              "      <td>65.0</td>\n",
              "      <td>35.00</td>\n",
              "      <td>53.29</td>\n",
              "      <td>54.00</td>\n",
              "      <td>6.76</td>\n",
              "      <td>4.573000e+01</td>\n",
              "      <td>-0.31</td>\n",
              "      <td>-0.82</td>\n",
              "    </tr>\n",
              "  </tbody>\n",
              "</table>\n",
              "</div>"
            ],
            "text/plain": [
              "                min      max     range      mean       50%       std  \\\n",
              "id             0.00  99999.0  99999.00  49975.68  50016.50  28844.58   \n",
              "age        10798.00  23713.0  12915.00  19464.32  19701.00   2468.13   \n",
              "height       100.00    250.0    150.00    164.41    165.00      7.94   \n",
              "weight        28.00    200.0    172.00     74.09     72.00     14.21   \n",
              "ap_hi         60.00    240.0    180.00    126.67    120.00     16.68   \n",
              "ap_lo         30.00    150.0    120.00     81.29     80.00      9.43   \n",
              "pp            10.00    140.0    130.00     45.37     40.00     11.67   \n",
              "bmi           10.73     60.0     49.27     27.45     26.35      5.21   \n",
              "age_years     30.00     65.0     35.00     53.29     54.00      6.76   \n",
              "\n",
              "                    var  skew  kurtosis  \n",
              "id         8.320096e+08 -0.00     -1.20  \n",
              "age        6.091687e+06 -0.31     -0.83  \n",
              "height     6.306000e+01  0.00      1.06  \n",
              "weight     2.020200e+02  0.94      2.04  \n",
              "ap_hi      2.780900e+02  0.93      1.83  \n",
              "ap_lo      8.901000e+01  0.30      1.64  \n",
              "pp         1.362300e+02  1.32      3.59  \n",
              "bmi        2.716000e+01  1.19      2.43  \n",
              "age_years  4.573000e+01 -0.31     -0.82  "
            ]
          },
          "execution_count": 43,
          "metadata": {},
          "output_type": "execute_result"
        }
      ],
      "source": [
        "'''Get a statistical summary of the numerical columns'''\n",
        "def stat_summary(dataframe):\n",
        "    desc = dataframe.describe().T\n",
        "    desc['range'] = desc['max'] - desc['min']\n",
        "    desc['var'] = dataframe.var()\n",
        "    desc['skew'] = dataframe.skew()\n",
        "    desc['kurtosis'] = dataframe.kurtosis()\n",
        "    cols = ['min', 'max', 'range', 'mean', '50%', 'std', 'var', 'skew', 'kurtosis']\n",
        "    return desc[cols].round(2)\n",
        "stat_summary(df.select_dtypes(exclude='category'))"
      ]
    },
    {
      "cell_type": "markdown",
      "metadata": {},
      "source": [
        "There are 86 entries with negative pulse pressure values. Since these results are impossible, they will be removed from the dataset."
      ]
    },
    {
      "cell_type": "code",
      "execution_count": 44,
      "metadata": {},
      "outputs": [
        {
          "data": {
            "text/html": [
              "<div>\n",
              "<style scoped>\n",
              "    .dataframe tbody tr th:only-of-type {\n",
              "        vertical-align: middle;\n",
              "    }\n",
              "\n",
              "    .dataframe tbody tr th {\n",
              "        vertical-align: top;\n",
              "    }\n",
              "\n",
              "    .dataframe thead th {\n",
              "        text-align: right;\n",
              "    }\n",
              "</style>\n",
              "<table border=\"1\" class=\"dataframe\">\n",
              "  <thead>\n",
              "    <tr style=\"text-align: right;\">\n",
              "      <th></th>\n",
              "      <th>id</th>\n",
              "      <th>age</th>\n",
              "      <th>gender</th>\n",
              "      <th>height</th>\n",
              "      <th>weight</th>\n",
              "      <th>ap_hi</th>\n",
              "      <th>ap_lo</th>\n",
              "      <th>cholesterol</th>\n",
              "      <th>gluc</th>\n",
              "      <th>smoke</th>\n",
              "      <th>alco</th>\n",
              "      <th>active</th>\n",
              "      <th>cardio</th>\n",
              "      <th>pp</th>\n",
              "      <th>bmi</th>\n",
              "      <th>age_years</th>\n",
              "    </tr>\n",
              "  </thead>\n",
              "  <tbody>\n",
              "  </tbody>\n",
              "</table>\n",
              "</div>"
            ],
            "text/plain": [
              "Empty DataFrame\n",
              "Columns: [id, age, gender, height, weight, ap_hi, ap_lo, cholesterol, gluc, smoke, alco, active, cardio, pp, bmi, age_years]\n",
              "Index: []"
            ]
          },
          "execution_count": 44,
          "metadata": {},
          "output_type": "execute_result"
        }
      ],
      "source": [
        "df[df['pp'] < 0]"
      ]
    },
    {
      "cell_type": "markdown",
      "metadata": {},
      "source": [
        "Pulse pressure of 0 is impossible, and any pulse pressure below 10 is implausable. A pulse pressure of less than 25 mmHg is already considered to be dangerously low and requires medical evaluation."
      ]
    },
    {
      "cell_type": "code",
      "execution_count": 45,
      "metadata": {},
      "outputs": [
        {
          "data": {
            "text/html": [
              "<div>\n",
              "<style scoped>\n",
              "    .dataframe tbody tr th:only-of-type {\n",
              "        vertical-align: middle;\n",
              "    }\n",
              "\n",
              "    .dataframe tbody tr th {\n",
              "        vertical-align: top;\n",
              "    }\n",
              "\n",
              "    .dataframe thead th {\n",
              "        text-align: right;\n",
              "    }\n",
              "</style>\n",
              "<table border=\"1\" class=\"dataframe\">\n",
              "  <thead>\n",
              "    <tr style=\"text-align: right;\">\n",
              "      <th></th>\n",
              "      <th>id</th>\n",
              "      <th>age</th>\n",
              "      <th>gender</th>\n",
              "      <th>height</th>\n",
              "      <th>weight</th>\n",
              "      <th>ap_hi</th>\n",
              "      <th>ap_lo</th>\n",
              "      <th>cholesterol</th>\n",
              "      <th>gluc</th>\n",
              "      <th>smoke</th>\n",
              "      <th>alco</th>\n",
              "      <th>active</th>\n",
              "      <th>cardio</th>\n",
              "      <th>pp</th>\n",
              "      <th>bmi</th>\n",
              "      <th>age_years</th>\n",
              "    </tr>\n",
              "  </thead>\n",
              "  <tbody>\n",
              "  </tbody>\n",
              "</table>\n",
              "</div>"
            ],
            "text/plain": [
              "Empty DataFrame\n",
              "Columns: [id, age, gender, height, weight, ap_hi, ap_lo, cholesterol, gluc, smoke, alco, active, cardio, pp, bmi, age_years]\n",
              "Index: []"
            ]
          },
          "execution_count": 45,
          "metadata": {},
          "output_type": "execute_result"
        }
      ],
      "source": [
        "df[df['pp']<10]"
      ]
    },
    {
      "cell_type": "code",
      "execution_count": 46,
      "metadata": {},
      "outputs": [
        {
          "data": {
            "text/plain": [
              "(68612, 16)"
            ]
          },
          "execution_count": 46,
          "metadata": {},
          "output_type": "execute_result"
        }
      ],
      "source": [
        "'''Removing entries with negative pulse pressure values and implausibly low pulse pressure values'''\n",
        "df = df[df['pp'] >= 10]\n",
        "df.shape"
      ]
    },
    {
      "cell_type": "markdown",
      "metadata": {},
      "source": [
        "The extremely low BMI Values are likely due to incorrect weight measurements. Its unrealistic for adults to have weights of below 30 kg, especially considering the height of the entries. "
      ]
    },
    {
      "cell_type": "code",
      "execution_count": 47,
      "metadata": {},
      "outputs": [
        {
          "data": {
            "text/html": [
              "<div>\n",
              "<style scoped>\n",
              "    .dataframe tbody tr th:only-of-type {\n",
              "        vertical-align: middle;\n",
              "    }\n",
              "\n",
              "    .dataframe tbody tr th {\n",
              "        vertical-align: top;\n",
              "    }\n",
              "\n",
              "    .dataframe thead th {\n",
              "        text-align: right;\n",
              "    }\n",
              "</style>\n",
              "<table border=\"1\" class=\"dataframe\">\n",
              "  <thead>\n",
              "    <tr style=\"text-align: right;\">\n",
              "      <th></th>\n",
              "      <th>id</th>\n",
              "      <th>age</th>\n",
              "      <th>gender</th>\n",
              "      <th>height</th>\n",
              "      <th>weight</th>\n",
              "      <th>ap_hi</th>\n",
              "      <th>ap_lo</th>\n",
              "      <th>cholesterol</th>\n",
              "      <th>gluc</th>\n",
              "      <th>smoke</th>\n",
              "      <th>alco</th>\n",
              "      <th>active</th>\n",
              "      <th>cardio</th>\n",
              "      <th>pp</th>\n",
              "      <th>bmi</th>\n",
              "      <th>age_years</th>\n",
              "    </tr>\n",
              "  </thead>\n",
              "  <tbody>\n",
              "  </tbody>\n",
              "</table>\n",
              "</div>"
            ],
            "text/plain": [
              "Empty DataFrame\n",
              "Columns: [id, age, gender, height, weight, ap_hi, ap_lo, cholesterol, gluc, smoke, alco, active, cardio, pp, bmi, age_years]\n",
              "Index: []"
            ]
          },
          "execution_count": 47,
          "metadata": {},
          "output_type": "execute_result"
        }
      ],
      "source": [
        "df[df['bmi']<10]"
      ]
    },
    {
      "cell_type": "markdown",
      "metadata": {},
      "source": [
        "A BMI above 40 kg/m² is classified as [class III (severe) obesity](https://www.nhs.uk/conditions/obesity/). Values exceeding 60 kg/m² are more likely the result of data entry errors rather than genuine outliers. Upon inspecting these abnormally high BMI values, many entries have heights below 100 cm, which is highly unlikely for adults, even for individuals with restricted growth conditions. This further supports the idea that the high BMI values are likely caused by incorrect height or weight measurements and should be removed."
      ]
    },
    {
      "cell_type": "code",
      "execution_count": 48,
      "metadata": {},
      "outputs": [
        {
          "data": {
            "text/html": [
              "<div>\n",
              "<style scoped>\n",
              "    .dataframe tbody tr th:only-of-type {\n",
              "        vertical-align: middle;\n",
              "    }\n",
              "\n",
              "    .dataframe tbody tr th {\n",
              "        vertical-align: top;\n",
              "    }\n",
              "\n",
              "    .dataframe thead th {\n",
              "        text-align: right;\n",
              "    }\n",
              "</style>\n",
              "<table border=\"1\" class=\"dataframe\">\n",
              "  <thead>\n",
              "    <tr style=\"text-align: right;\">\n",
              "      <th></th>\n",
              "      <th>id</th>\n",
              "      <th>age</th>\n",
              "      <th>gender</th>\n",
              "      <th>height</th>\n",
              "      <th>weight</th>\n",
              "      <th>ap_hi</th>\n",
              "      <th>ap_lo</th>\n",
              "      <th>cholesterol</th>\n",
              "      <th>gluc</th>\n",
              "      <th>smoke</th>\n",
              "      <th>alco</th>\n",
              "      <th>active</th>\n",
              "      <th>cardio</th>\n",
              "      <th>pp</th>\n",
              "      <th>bmi</th>\n",
              "      <th>age_years</th>\n",
              "    </tr>\n",
              "  </thead>\n",
              "  <tbody>\n",
              "  </tbody>\n",
              "</table>\n",
              "</div>"
            ],
            "text/plain": [
              "Empty DataFrame\n",
              "Columns: [id, age, gender, height, weight, ap_hi, ap_lo, cholesterol, gluc, smoke, alco, active, cardio, pp, bmi, age_years]\n",
              "Index: []"
            ]
          },
          "execution_count": 48,
          "metadata": {},
          "output_type": "execute_result"
        }
      ],
      "source": [
        "'''Inspecting extremely high BMI values'''\n",
        "df[df['bmi']>60].sort_values(by='bmi')"
      ]
    },
    {
      "cell_type": "markdown",
      "metadata": {},
      "source": [
        "To maintain data quality, BMI values were limited to the range 10–60. This removes implausible entries likely due to data errors while preserving plausible extreme values. Values beyond this range are unrealistic for adults aged 30–65."
      ]
    },
    {
      "cell_type": "code",
      "execution_count": 49,
      "metadata": {},
      "outputs": [
        {
          "data": {
            "text/html": [
              "<div>\n",
              "<style scoped>\n",
              "    .dataframe tbody tr th:only-of-type {\n",
              "        vertical-align: middle;\n",
              "    }\n",
              "\n",
              "    .dataframe tbody tr th {\n",
              "        vertical-align: top;\n",
              "    }\n",
              "\n",
              "    .dataframe thead th {\n",
              "        text-align: right;\n",
              "    }\n",
              "</style>\n",
              "<table border=\"1\" class=\"dataframe\">\n",
              "  <thead>\n",
              "    <tr style=\"text-align: right;\">\n",
              "      <th></th>\n",
              "      <th>id</th>\n",
              "      <th>age</th>\n",
              "      <th>gender</th>\n",
              "      <th>height</th>\n",
              "      <th>weight</th>\n",
              "      <th>ap_hi</th>\n",
              "      <th>ap_lo</th>\n",
              "      <th>cholesterol</th>\n",
              "      <th>gluc</th>\n",
              "      <th>smoke</th>\n",
              "      <th>alco</th>\n",
              "      <th>active</th>\n",
              "      <th>cardio</th>\n",
              "      <th>pp</th>\n",
              "      <th>bmi</th>\n",
              "      <th>age_years</th>\n",
              "    </tr>\n",
              "  </thead>\n",
              "  <tbody>\n",
              "    <tr>\n",
              "      <th>0</th>\n",
              "      <td>0</td>\n",
              "      <td>18393</td>\n",
              "      <td>Female</td>\n",
              "      <td>168</td>\n",
              "      <td>62.0</td>\n",
              "      <td>110</td>\n",
              "      <td>80</td>\n",
              "      <td>Normal</td>\n",
              "      <td>Normal</td>\n",
              "      <td>Non-smoker</td>\n",
              "      <td>Non-drinker</td>\n",
              "      <td>Active</td>\n",
              "      <td>No CVD</td>\n",
              "      <td>30</td>\n",
              "      <td>21.97</td>\n",
              "      <td>50</td>\n",
              "    </tr>\n",
              "    <tr>\n",
              "      <th>1</th>\n",
              "      <td>1</td>\n",
              "      <td>20228</td>\n",
              "      <td>Male</td>\n",
              "      <td>156</td>\n",
              "      <td>85.0</td>\n",
              "      <td>140</td>\n",
              "      <td>90</td>\n",
              "      <td>Very high</td>\n",
              "      <td>Normal</td>\n",
              "      <td>Non-smoker</td>\n",
              "      <td>Non-drinker</td>\n",
              "      <td>Active</td>\n",
              "      <td>CVD</td>\n",
              "      <td>50</td>\n",
              "      <td>34.93</td>\n",
              "      <td>55</td>\n",
              "    </tr>\n",
              "    <tr>\n",
              "      <th>2</th>\n",
              "      <td>2</td>\n",
              "      <td>18857</td>\n",
              "      <td>Male</td>\n",
              "      <td>165</td>\n",
              "      <td>64.0</td>\n",
              "      <td>130</td>\n",
              "      <td>70</td>\n",
              "      <td>Very high</td>\n",
              "      <td>Normal</td>\n",
              "      <td>Non-smoker</td>\n",
              "      <td>Non-drinker</td>\n",
              "      <td>Inactive</td>\n",
              "      <td>CVD</td>\n",
              "      <td>60</td>\n",
              "      <td>23.51</td>\n",
              "      <td>52</td>\n",
              "    </tr>\n",
              "    <tr>\n",
              "      <th>3</th>\n",
              "      <td>3</td>\n",
              "      <td>17623</td>\n",
              "      <td>Female</td>\n",
              "      <td>169</td>\n",
              "      <td>82.0</td>\n",
              "      <td>150</td>\n",
              "      <td>100</td>\n",
              "      <td>Normal</td>\n",
              "      <td>Normal</td>\n",
              "      <td>Non-smoker</td>\n",
              "      <td>Non-drinker</td>\n",
              "      <td>Active</td>\n",
              "      <td>CVD</td>\n",
              "      <td>50</td>\n",
              "      <td>28.71</td>\n",
              "      <td>48</td>\n",
              "    </tr>\n",
              "    <tr>\n",
              "      <th>4</th>\n",
              "      <td>4</td>\n",
              "      <td>17474</td>\n",
              "      <td>Male</td>\n",
              "      <td>156</td>\n",
              "      <td>56.0</td>\n",
              "      <td>100</td>\n",
              "      <td>60</td>\n",
              "      <td>Normal</td>\n",
              "      <td>Normal</td>\n",
              "      <td>Non-smoker</td>\n",
              "      <td>Non-drinker</td>\n",
              "      <td>Inactive</td>\n",
              "      <td>No CVD</td>\n",
              "      <td>40</td>\n",
              "      <td>23.01</td>\n",
              "      <td>48</td>\n",
              "    </tr>\n",
              "    <tr>\n",
              "      <th>...</th>\n",
              "      <td>...</td>\n",
              "      <td>...</td>\n",
              "      <td>...</td>\n",
              "      <td>...</td>\n",
              "      <td>...</td>\n",
              "      <td>...</td>\n",
              "      <td>...</td>\n",
              "      <td>...</td>\n",
              "      <td>...</td>\n",
              "      <td>...</td>\n",
              "      <td>...</td>\n",
              "      <td>...</td>\n",
              "      <td>...</td>\n",
              "      <td>...</td>\n",
              "      <td>...</td>\n",
              "      <td>...</td>\n",
              "    </tr>\n",
              "    <tr>\n",
              "      <th>68763</th>\n",
              "      <td>99993</td>\n",
              "      <td>19240</td>\n",
              "      <td>Female</td>\n",
              "      <td>168</td>\n",
              "      <td>76.0</td>\n",
              "      <td>120</td>\n",
              "      <td>80</td>\n",
              "      <td>Normal</td>\n",
              "      <td>Normal</td>\n",
              "      <td>Smoker</td>\n",
              "      <td>Non-drinker</td>\n",
              "      <td>Active</td>\n",
              "      <td>No CVD</td>\n",
              "      <td>40</td>\n",
              "      <td>26.93</td>\n",
              "      <td>53</td>\n",
              "    </tr>\n",
              "    <tr>\n",
              "      <th>68764</th>\n",
              "      <td>99995</td>\n",
              "      <td>22601</td>\n",
              "      <td>Male</td>\n",
              "      <td>158</td>\n",
              "      <td>126.0</td>\n",
              "      <td>140</td>\n",
              "      <td>90</td>\n",
              "      <td>High</td>\n",
              "      <td>High</td>\n",
              "      <td>Non-smoker</td>\n",
              "      <td>Non-drinker</td>\n",
              "      <td>Active</td>\n",
              "      <td>CVD</td>\n",
              "      <td>50</td>\n",
              "      <td>50.47</td>\n",
              "      <td>62</td>\n",
              "    </tr>\n",
              "    <tr>\n",
              "      <th>68765</th>\n",
              "      <td>99996</td>\n",
              "      <td>19066</td>\n",
              "      <td>Female</td>\n",
              "      <td>183</td>\n",
              "      <td>105.0</td>\n",
              "      <td>180</td>\n",
              "      <td>90</td>\n",
              "      <td>Very high</td>\n",
              "      <td>Normal</td>\n",
              "      <td>Non-smoker</td>\n",
              "      <td>Drinker</td>\n",
              "      <td>Inactive</td>\n",
              "      <td>CVD</td>\n",
              "      <td>90</td>\n",
              "      <td>31.35</td>\n",
              "      <td>52</td>\n",
              "    </tr>\n",
              "    <tr>\n",
              "      <th>68766</th>\n",
              "      <td>99998</td>\n",
              "      <td>22431</td>\n",
              "      <td>Male</td>\n",
              "      <td>163</td>\n",
              "      <td>72.0</td>\n",
              "      <td>135</td>\n",
              "      <td>80</td>\n",
              "      <td>Normal</td>\n",
              "      <td>High</td>\n",
              "      <td>Non-smoker</td>\n",
              "      <td>Non-drinker</td>\n",
              "      <td>Inactive</td>\n",
              "      <td>CVD</td>\n",
              "      <td>55</td>\n",
              "      <td>27.10</td>\n",
              "      <td>61</td>\n",
              "    </tr>\n",
              "    <tr>\n",
              "      <th>68767</th>\n",
              "      <td>99999</td>\n",
              "      <td>20540</td>\n",
              "      <td>Male</td>\n",
              "      <td>170</td>\n",
              "      <td>72.0</td>\n",
              "      <td>120</td>\n",
              "      <td>80</td>\n",
              "      <td>High</td>\n",
              "      <td>Normal</td>\n",
              "      <td>Non-smoker</td>\n",
              "      <td>Non-drinker</td>\n",
              "      <td>Active</td>\n",
              "      <td>No CVD</td>\n",
              "      <td>40</td>\n",
              "      <td>24.91</td>\n",
              "      <td>56</td>\n",
              "    </tr>\n",
              "  </tbody>\n",
              "</table>\n",
              "<p>68612 rows × 16 columns</p>\n",
              "</div>"
            ],
            "text/plain": [
              "          id    age  gender  height  weight  ap_hi  ap_lo cholesterol    gluc  \\\n",
              "0          0  18393  Female     168    62.0    110     80      Normal  Normal   \n",
              "1          1  20228    Male     156    85.0    140     90   Very high  Normal   \n",
              "2          2  18857    Male     165    64.0    130     70   Very high  Normal   \n",
              "3          3  17623  Female     169    82.0    150    100      Normal  Normal   \n",
              "4          4  17474    Male     156    56.0    100     60      Normal  Normal   \n",
              "...      ...    ...     ...     ...     ...    ...    ...         ...     ...   \n",
              "68763  99993  19240  Female     168    76.0    120     80      Normal  Normal   \n",
              "68764  99995  22601    Male     158   126.0    140     90        High    High   \n",
              "68765  99996  19066  Female     183   105.0    180     90   Very high  Normal   \n",
              "68766  99998  22431    Male     163    72.0    135     80      Normal    High   \n",
              "68767  99999  20540    Male     170    72.0    120     80        High  Normal   \n",
              "\n",
              "            smoke         alco    active  cardio  pp    bmi  age_years  \n",
              "0      Non-smoker  Non-drinker    Active  No CVD  30  21.97         50  \n",
              "1      Non-smoker  Non-drinker    Active     CVD  50  34.93         55  \n",
              "2      Non-smoker  Non-drinker  Inactive     CVD  60  23.51         52  \n",
              "3      Non-smoker  Non-drinker    Active     CVD  50  28.71         48  \n",
              "4      Non-smoker  Non-drinker  Inactive  No CVD  40  23.01         48  \n",
              "...           ...          ...       ...     ...  ..    ...        ...  \n",
              "68763      Smoker  Non-drinker    Active  No CVD  40  26.93         53  \n",
              "68764  Non-smoker  Non-drinker    Active     CVD  50  50.47         62  \n",
              "68765  Non-smoker      Drinker  Inactive     CVD  90  31.35         52  \n",
              "68766  Non-smoker  Non-drinker  Inactive     CVD  55  27.10         61  \n",
              "68767  Non-smoker  Non-drinker    Active  No CVD  40  24.91         56  \n",
              "\n",
              "[68612 rows x 16 columns]"
            ]
          },
          "execution_count": 49,
          "metadata": {},
          "output_type": "execute_result"
        }
      ],
      "source": [
        "'''Removing BMI outliers'''\n",
        "df = df[(df['bmi'] <= 60) & (df['bmi'] >= 10)]\n",
        "df"
      ]
    },
    {
      "cell_type": "markdown",
      "metadata": {},
      "source": [
        "Whilst heights of below 130 cm seems unlikely in adults, it is plausable for thoses with [restricted growth conditions](https://www.nhs.uk/conditions/restricted-growth/). Therefore these entries will be kept. "
      ]
    },
    {
      "cell_type": "code",
      "execution_count": 50,
      "metadata": {},
      "outputs": [
        {
          "data": {
            "text/html": [
              "<div>\n",
              "<style scoped>\n",
              "    .dataframe tbody tr th:only-of-type {\n",
              "        vertical-align: middle;\n",
              "    }\n",
              "\n",
              "    .dataframe tbody tr th {\n",
              "        vertical-align: top;\n",
              "    }\n",
              "\n",
              "    .dataframe thead th {\n",
              "        text-align: right;\n",
              "    }\n",
              "</style>\n",
              "<table border=\"1\" class=\"dataframe\">\n",
              "  <thead>\n",
              "    <tr style=\"text-align: right;\">\n",
              "      <th></th>\n",
              "      <th>id</th>\n",
              "      <th>age</th>\n",
              "      <th>height</th>\n",
              "      <th>weight</th>\n",
              "      <th>ap_hi</th>\n",
              "      <th>ap_lo</th>\n",
              "      <th>pp</th>\n",
              "      <th>bmi</th>\n",
              "      <th>age_years</th>\n",
              "    </tr>\n",
              "  </thead>\n",
              "  <tbody>\n",
              "    <tr>\n",
              "      <th>count</th>\n",
              "      <td>46.00</td>\n",
              "      <td>46.00</td>\n",
              "      <td>46.00</td>\n",
              "      <td>46.00</td>\n",
              "      <td>46.00</td>\n",
              "      <td>46.00</td>\n",
              "      <td>46.00</td>\n",
              "      <td>46.00</td>\n",
              "      <td>46.00</td>\n",
              "    </tr>\n",
              "    <tr>\n",
              "      <th>mean</th>\n",
              "      <td>57050.67</td>\n",
              "      <td>18853.70</td>\n",
              "      <td>118.24</td>\n",
              "      <td>72.70</td>\n",
              "      <td>120.65</td>\n",
              "      <td>77.39</td>\n",
              "      <td>43.26</td>\n",
              "      <td>52.27</td>\n",
              "      <td>51.54</td>\n",
              "    </tr>\n",
              "    <tr>\n",
              "      <th>std</th>\n",
              "      <td>29288.79</td>\n",
              "      <td>2607.13</td>\n",
              "      <td>5.13</td>\n",
              "      <td>11.98</td>\n",
              "      <td>9.04</td>\n",
              "      <td>7.13</td>\n",
              "      <td>6.34</td>\n",
              "      <td>8.95</td>\n",
              "      <td>7.11</td>\n",
              "    </tr>\n",
              "    <tr>\n",
              "      <th>min</th>\n",
              "      <td>5278.00</td>\n",
              "      <td>14445.00</td>\n",
              "      <td>100.00</td>\n",
              "      <td>28.00</td>\n",
              "      <td>100.00</td>\n",
              "      <td>60.00</td>\n",
              "      <td>40.00</td>\n",
              "      <td>17.09</td>\n",
              "      <td>40.00</td>\n",
              "    </tr>\n",
              "    <tr>\n",
              "      <th>25%</th>\n",
              "      <td>33591.50</td>\n",
              "      <td>17071.75</td>\n",
              "      <td>120.00</td>\n",
              "      <td>70.00</td>\n",
              "      <td>120.00</td>\n",
              "      <td>70.00</td>\n",
              "      <td>40.00</td>\n",
              "      <td>54.52</td>\n",
              "      <td>46.50</td>\n",
              "    </tr>\n",
              "    <tr>\n",
              "      <th>50%</th>\n",
              "      <td>64626.00</td>\n",
              "      <td>18976.00</td>\n",
              "      <td>120.00</td>\n",
              "      <td>80.00</td>\n",
              "      <td>120.00</td>\n",
              "      <td>80.00</td>\n",
              "      <td>40.00</td>\n",
              "      <td>55.56</td>\n",
              "      <td>52.00</td>\n",
              "    </tr>\n",
              "    <tr>\n",
              "      <th>75%</th>\n",
              "      <td>82360.75</td>\n",
              "      <td>20693.75</td>\n",
              "      <td>120.00</td>\n",
              "      <td>80.00</td>\n",
              "      <td>120.00</td>\n",
              "      <td>80.00</td>\n",
              "      <td>40.00</td>\n",
              "      <td>55.56</td>\n",
              "      <td>56.75</td>\n",
              "    </tr>\n",
              "    <tr>\n",
              "      <th>max</th>\n",
              "      <td>98630.00</td>\n",
              "      <td>23422.00</td>\n",
              "      <td>128.00</td>\n",
              "      <td>80.00</td>\n",
              "      <td>150.00</td>\n",
              "      <td>90.00</td>\n",
              "      <td>60.00</td>\n",
              "      <td>60.00</td>\n",
              "      <td>64.00</td>\n",
              "    </tr>\n",
              "  </tbody>\n",
              "</table>\n",
              "</div>"
            ],
            "text/plain": [
              "             id       age  height  weight   ap_hi  ap_lo     pp    bmi  \\\n",
              "count     46.00     46.00   46.00   46.00   46.00  46.00  46.00  46.00   \n",
              "mean   57050.67  18853.70  118.24   72.70  120.65  77.39  43.26  52.27   \n",
              "std    29288.79   2607.13    5.13   11.98    9.04   7.13   6.34   8.95   \n",
              "min     5278.00  14445.00  100.00   28.00  100.00  60.00  40.00  17.09   \n",
              "25%    33591.50  17071.75  120.00   70.00  120.00  70.00  40.00  54.52   \n",
              "50%    64626.00  18976.00  120.00   80.00  120.00  80.00  40.00  55.56   \n",
              "75%    82360.75  20693.75  120.00   80.00  120.00  80.00  40.00  55.56   \n",
              "max    98630.00  23422.00  128.00   80.00  150.00  90.00  60.00  60.00   \n",
              "\n",
              "       age_years  \n",
              "count      46.00  \n",
              "mean       51.54  \n",
              "std         7.11  \n",
              "min        40.00  \n",
              "25%        46.50  \n",
              "50%        52.00  \n",
              "75%        56.75  \n",
              "max        64.00  "
            ]
          },
          "execution_count": 50,
          "metadata": {},
          "output_type": "execute_result"
        }
      ],
      "source": [
        "'''Inspecting extremely low height values'''\n",
        "(df[df['height']<130]\n",
        " .select_dtypes(exclude='category')\n",
        " .describe()\n",
        " .round(2)\n",
        " )"
      ]
    },
    {
      "cell_type": "markdown",
      "metadata": {},
      "source": [
        "Load Transformed Data"
      ]
    },
    {
      "cell_type": "code",
      "execution_count": 51,
      "metadata": {},
      "outputs": [],
      "source": [
        "'''Save dataframe as CSV'''\n",
        "df.to_csv('data/processed/processed_heart_data.csv', index=False)"
      ]
    },
    {
      "cell_type": "markdown",
      "metadata": {},
      "source": [
        "## Descriptive Analysis\n",
        "\n",
        "A statistical summary of the numerical features shows that most variables have acceptable skew and kurtosis values. Pulse pressure, however, shows a slightly high kurtosis, suggesting some outliers still present."
      ]
    },
    {
      "cell_type": "code",
      "execution_count": 52,
      "metadata": {},
      "outputs": [
        {
          "data": {
            "text/html": [
              "<div>\n",
              "<style scoped>\n",
              "    .dataframe tbody tr th:only-of-type {\n",
              "        vertical-align: middle;\n",
              "    }\n",
              "\n",
              "    .dataframe tbody tr th {\n",
              "        vertical-align: top;\n",
              "    }\n",
              "\n",
              "    .dataframe thead th {\n",
              "        text-align: right;\n",
              "    }\n",
              "</style>\n",
              "<table border=\"1\" class=\"dataframe\">\n",
              "  <thead>\n",
              "    <tr style=\"text-align: right;\">\n",
              "      <th></th>\n",
              "      <th>min</th>\n",
              "      <th>max</th>\n",
              "      <th>range</th>\n",
              "      <th>mean</th>\n",
              "      <th>50%</th>\n",
              "      <th>std</th>\n",
              "      <th>var</th>\n",
              "      <th>skew</th>\n",
              "      <th>kurtosis</th>\n",
              "    </tr>\n",
              "  </thead>\n",
              "  <tbody>\n",
              "    <tr>\n",
              "      <th>id</th>\n",
              "      <td>0.00</td>\n",
              "      <td>99999.0</td>\n",
              "      <td>99999.00</td>\n",
              "      <td>49975.68</td>\n",
              "      <td>50016.50</td>\n",
              "      <td>28844.58</td>\n",
              "      <td>8.320096e+08</td>\n",
              "      <td>-0.00</td>\n",
              "      <td>-1.20</td>\n",
              "    </tr>\n",
              "    <tr>\n",
              "      <th>age</th>\n",
              "      <td>10798.00</td>\n",
              "      <td>23713.0</td>\n",
              "      <td>12915.00</td>\n",
              "      <td>19464.32</td>\n",
              "      <td>19701.00</td>\n",
              "      <td>2468.13</td>\n",
              "      <td>6.091687e+06</td>\n",
              "      <td>-0.31</td>\n",
              "      <td>-0.83</td>\n",
              "    </tr>\n",
              "    <tr>\n",
              "      <th>height</th>\n",
              "      <td>100.00</td>\n",
              "      <td>250.0</td>\n",
              "      <td>150.00</td>\n",
              "      <td>164.41</td>\n",
              "      <td>165.00</td>\n",
              "      <td>7.94</td>\n",
              "      <td>6.306000e+01</td>\n",
              "      <td>0.00</td>\n",
              "      <td>1.06</td>\n",
              "    </tr>\n",
              "    <tr>\n",
              "      <th>weight</th>\n",
              "      <td>28.00</td>\n",
              "      <td>200.0</td>\n",
              "      <td>172.00</td>\n",
              "      <td>74.09</td>\n",
              "      <td>72.00</td>\n",
              "      <td>14.21</td>\n",
              "      <td>2.020200e+02</td>\n",
              "      <td>0.94</td>\n",
              "      <td>2.04</td>\n",
              "    </tr>\n",
              "    <tr>\n",
              "      <th>ap_hi</th>\n",
              "      <td>60.00</td>\n",
              "      <td>240.0</td>\n",
              "      <td>180.00</td>\n",
              "      <td>126.67</td>\n",
              "      <td>120.00</td>\n",
              "      <td>16.68</td>\n",
              "      <td>2.780900e+02</td>\n",
              "      <td>0.93</td>\n",
              "      <td>1.83</td>\n",
              "    </tr>\n",
              "    <tr>\n",
              "      <th>ap_lo</th>\n",
              "      <td>30.00</td>\n",
              "      <td>150.0</td>\n",
              "      <td>120.00</td>\n",
              "      <td>81.29</td>\n",
              "      <td>80.00</td>\n",
              "      <td>9.43</td>\n",
              "      <td>8.901000e+01</td>\n",
              "      <td>0.30</td>\n",
              "      <td>1.64</td>\n",
              "    </tr>\n",
              "    <tr>\n",
              "      <th>pp</th>\n",
              "      <td>10.00</td>\n",
              "      <td>140.0</td>\n",
              "      <td>130.00</td>\n",
              "      <td>45.37</td>\n",
              "      <td>40.00</td>\n",
              "      <td>11.67</td>\n",
              "      <td>1.362300e+02</td>\n",
              "      <td>1.32</td>\n",
              "      <td>3.59</td>\n",
              "    </tr>\n",
              "    <tr>\n",
              "      <th>bmi</th>\n",
              "      <td>10.73</td>\n",
              "      <td>60.0</td>\n",
              "      <td>49.27</td>\n",
              "      <td>27.45</td>\n",
              "      <td>26.35</td>\n",
              "      <td>5.21</td>\n",
              "      <td>2.716000e+01</td>\n",
              "      <td>1.19</td>\n",
              "      <td>2.43</td>\n",
              "    </tr>\n",
              "    <tr>\n",
              "      <th>age_years</th>\n",
              "      <td>30.00</td>\n",
              "      <td>65.0</td>\n",
              "      <td>35.00</td>\n",
              "      <td>53.29</td>\n",
              "      <td>54.00</td>\n",
              "      <td>6.76</td>\n",
              "      <td>4.573000e+01</td>\n",
              "      <td>-0.31</td>\n",
              "      <td>-0.82</td>\n",
              "    </tr>\n",
              "  </tbody>\n",
              "</table>\n",
              "</div>"
            ],
            "text/plain": [
              "                min      max     range      mean       50%       std  \\\n",
              "id             0.00  99999.0  99999.00  49975.68  50016.50  28844.58   \n",
              "age        10798.00  23713.0  12915.00  19464.32  19701.00   2468.13   \n",
              "height       100.00    250.0    150.00    164.41    165.00      7.94   \n",
              "weight        28.00    200.0    172.00     74.09     72.00     14.21   \n",
              "ap_hi         60.00    240.0    180.00    126.67    120.00     16.68   \n",
              "ap_lo         30.00    150.0    120.00     81.29     80.00      9.43   \n",
              "pp            10.00    140.0    130.00     45.37     40.00     11.67   \n",
              "bmi           10.73     60.0     49.27     27.45     26.35      5.21   \n",
              "age_years     30.00     65.0     35.00     53.29     54.00      6.76   \n",
              "\n",
              "                    var  skew  kurtosis  \n",
              "id         8.320096e+08 -0.00     -1.20  \n",
              "age        6.091687e+06 -0.31     -0.83  \n",
              "height     6.306000e+01  0.00      1.06  \n",
              "weight     2.020200e+02  0.94      2.04  \n",
              "ap_hi      2.780900e+02  0.93      1.83  \n",
              "ap_lo      8.901000e+01  0.30      1.64  \n",
              "pp         1.362300e+02  1.32      3.59  \n",
              "bmi        2.716000e+01  1.19      2.43  \n",
              "age_years  4.573000e+01 -0.31     -0.82  "
            ]
          },
          "execution_count": 52,
          "metadata": {},
          "output_type": "execute_result"
        }
      ],
      "source": [
        "'''Statistical summary of numerical values after outlier removal'''\n",
        "stat_summary(df.select_dtypes(exclude='category'))"
      ]
    },
    {
      "cell_type": "code",
      "execution_count": 22,
      "metadata": {},
      "outputs": [
        {
          "data": {
            "image/png": "[encoded data removed]",
            "text/plain": [
              "<Figure size 1200x600 with 1 Axes>"
            ]
          },
          "metadata": {},
          "output_type": "display_data"
        }
      ],
      "source": [
        "''' Plot boxplots for numerical features to visualize distributions'''\n",
        "numeric_cols = ['age_years', 'height', 'weight', 'ap_hi', 'ap_lo', 'pp', 'bmi']\n",
        "list_of_data = []\n",
        "plt.figure(figsize=(12,6))\n",
        "for col in numeric_cols:\n",
        "  list_of_data.append(df[col])\n",
        "\n",
        "plt.boxplot(x=list_of_data)\n",
        "plt.xticks(np.arange(1,len(numeric_cols)+1), numeric_cols)\n",
        "plt.show()"
      ]
    },
    {
      "cell_type": "code",
      "execution_count": 53,
      "metadata": {},
      "outputs": [
        {
          "data": {
            "text/html": [
              "<div>\n",
              "<style scoped>\n",
              "    .dataframe tbody tr th:only-of-type {\n",
              "        vertical-align: middle;\n",
              "    }\n",
              "\n",
              "    .dataframe tbody tr th {\n",
              "        vertical-align: top;\n",
              "    }\n",
              "\n",
              "    .dataframe thead th {\n",
              "        text-align: right;\n",
              "    }\n",
              "</style>\n",
              "<table border=\"1\" class=\"dataframe\">\n",
              "  <thead>\n",
              "    <tr style=\"text-align: right;\">\n",
              "      <th></th>\n",
              "      <th>col</th>\n",
              "      <th>value</th>\n",
              "      <th>count</th>\n",
              "      <th>percent</th>\n",
              "    </tr>\n",
              "  </thead>\n",
              "  <tbody>\n",
              "    <tr>\n",
              "      <th>0</th>\n",
              "      <td>gender</td>\n",
              "      <td>Male</td>\n",
              "      <td>44686</td>\n",
              "      <td>65.13</td>\n",
              "    </tr>\n",
              "    <tr>\n",
              "      <th>1</th>\n",
              "      <td>gender</td>\n",
              "      <td>Female</td>\n",
              "      <td>23926</td>\n",
              "      <td>34.87</td>\n",
              "    </tr>\n",
              "    <tr>\n",
              "      <th>2</th>\n",
              "      <td>cholesterol</td>\n",
              "      <td>Normal</td>\n",
              "      <td>51451</td>\n",
              "      <td>74.99</td>\n",
              "    </tr>\n",
              "    <tr>\n",
              "      <th>3</th>\n",
              "      <td>cholesterol</td>\n",
              "      <td>High</td>\n",
              "      <td>9296</td>\n",
              "      <td>13.55</td>\n",
              "    </tr>\n",
              "    <tr>\n",
              "      <th>4</th>\n",
              "      <td>cholesterol</td>\n",
              "      <td>Very high</td>\n",
              "      <td>7865</td>\n",
              "      <td>11.46</td>\n",
              "    </tr>\n",
              "    <tr>\n",
              "      <th>5</th>\n",
              "      <td>gluc</td>\n",
              "      <td>Normal</td>\n",
              "      <td>58336</td>\n",
              "      <td>85.02</td>\n",
              "    </tr>\n",
              "    <tr>\n",
              "      <th>6</th>\n",
              "      <td>gluc</td>\n",
              "      <td>Very high</td>\n",
              "      <td>5212</td>\n",
              "      <td>7.60</td>\n",
              "    </tr>\n",
              "    <tr>\n",
              "      <th>7</th>\n",
              "      <td>gluc</td>\n",
              "      <td>High</td>\n",
              "      <td>5064</td>\n",
              "      <td>7.38</td>\n",
              "    </tr>\n",
              "    <tr>\n",
              "      <th>8</th>\n",
              "      <td>smoke</td>\n",
              "      <td>Non-smoker</td>\n",
              "      <td>62577</td>\n",
              "      <td>91.20</td>\n",
              "    </tr>\n",
              "    <tr>\n",
              "      <th>9</th>\n",
              "      <td>smoke</td>\n",
              "      <td>Smoker</td>\n",
              "      <td>6035</td>\n",
              "      <td>8.80</td>\n",
              "    </tr>\n",
              "    <tr>\n",
              "      <th>10</th>\n",
              "      <td>alco</td>\n",
              "      <td>Non-drinker</td>\n",
              "      <td>64953</td>\n",
              "      <td>94.67</td>\n",
              "    </tr>\n",
              "    <tr>\n",
              "      <th>11</th>\n",
              "      <td>alco</td>\n",
              "      <td>Drinker</td>\n",
              "      <td>3659</td>\n",
              "      <td>5.33</td>\n",
              "    </tr>\n",
              "    <tr>\n",
              "      <th>12</th>\n",
              "      <td>active</td>\n",
              "      <td>Active</td>\n",
              "      <td>55118</td>\n",
              "      <td>80.33</td>\n",
              "    </tr>\n",
              "    <tr>\n",
              "      <th>13</th>\n",
              "      <td>active</td>\n",
              "      <td>Inactive</td>\n",
              "      <td>13494</td>\n",
              "      <td>19.67</td>\n",
              "    </tr>\n",
              "    <tr>\n",
              "      <th>14</th>\n",
              "      <td>cardio</td>\n",
              "      <td>No CVD</td>\n",
              "      <td>34669</td>\n",
              "      <td>50.53</td>\n",
              "    </tr>\n",
              "    <tr>\n",
              "      <th>15</th>\n",
              "      <td>cardio</td>\n",
              "      <td>CVD</td>\n",
              "      <td>33943</td>\n",
              "      <td>49.47</td>\n",
              "    </tr>\n",
              "  </tbody>\n",
              "</table>\n",
              "</div>"
            ],
            "text/plain": [
              "            col        value  count  percent\n",
              "0        gender         Male  44686    65.13\n",
              "1        gender       Female  23926    34.87\n",
              "2   cholesterol       Normal  51451    74.99\n",
              "3   cholesterol         High   9296    13.55\n",
              "4   cholesterol    Very high   7865    11.46\n",
              "5          gluc       Normal  58336    85.02\n",
              "6          gluc    Very high   5212     7.60\n",
              "7          gluc         High   5064     7.38\n",
              "8         smoke   Non-smoker  62577    91.20\n",
              "9         smoke       Smoker   6035     8.80\n",
              "10         alco  Non-drinker  64953    94.67\n",
              "11         alco      Drinker   3659     5.33\n",
              "12       active       Active  55118    80.33\n",
              "13       active     Inactive  13494    19.67\n",
              "14       cardio       No CVD  34669    50.53\n",
              "15       cardio          CVD  33943    49.47"
            ]
          },
          "execution_count": 53,
          "metadata": {},
          "output_type": "execute_result"
        }
      ],
      "source": [
        "'''Get the distribution of categorical columns and put into a dataframe'''\n",
        "stats = []\n",
        "for col in df.select_dtypes(include='category').columns:\n",
        "    counts = df[col].value_counts()\n",
        "    percents = df[col].value_counts(normalize=True)* 100\n",
        "    stat = pd.DataFrame({\n",
        "        'col': col,\n",
        "        'value': counts.index, \n",
        "        'count': counts.values, \n",
        "        'percent': percents.round(2)\n",
        "        })\n",
        "    stats.append(stat)\n",
        "\n",
        "catago_stats = pd.concat(stats).reset_index(drop=True)\n",
        "catago_stats"
      ]
    },
    {
      "cell_type": "markdown",
      "metadata": {},
      "source": [
        "A brief description of the population of the dataset and its characteristics after removing outliers:\n",
        "- Total of 68612 individuals\n",
        "- Population has more males (65.1%) than females (34.9%)\n",
        "- ≈75% have normal cholesterol levels, others have higher than normal cholesterol levels\n",
        "- ≈85% have normal glucose levels, others have higher than normal glucose levels\n",
        "- Majority of the population does not drink or smoke\n",
        "- ≈80% of the population are physically active\n",
        "- Roughly half of the population have CVD present"
      ]
    },
    {
      "cell_type": "markdown",
      "metadata": {},
      "source": [
        "---"
      ]
    },
    {
      "cell_type": "markdown",
      "metadata": {},
      "source": [
        "# EDA: Visualisation and Hypothesis Testing"
      ]
    },
    {
      "cell_type": "markdown",
      "metadata": {},
      "source": [
        "The following hypotheses will be tested using statistical tests:\n",
        "1. Older individuals are more likely to develope cardiovascular disease (CVD)\n",
        "2. Males are more likely to develope CVD than females\n",
        "3. High blood pressure increase the likelihood of developing CDV\n",
        "4. High cholesterol individuals are more likely to have CDV\n",
        "5. Physically active individuals are less likely to have CDV\n",
        "6. Smokers are more likely to have CDV\n",
        "7. Alcohol consumption increase the likelyhood of developing CDV\n",
        "\n",
        "Visualisations will be also created using matplotlib, seaborn and plotly to show trends and distributions of the data and support the conclusions from testing the hypotheses. "
      ]
    },
    {
      "cell_type": "code",
      "execution_count": 21,
      "metadata": {},
      "outputs": [],
      "source": [
        "'''Set seaborn theme for all plots'''\n",
        "sns.set_theme(style=\"whitegrid\", palette=\"colorblind\")"
      ]
    },
    {
      "cell_type": "markdown",
      "metadata": {},
      "source": [
        "## Hypothesis 1:\n",
        "\n",
        ">H0: Older individuals does not have a higher chance of having CVD <br>\n",
        ">H1: Older individuals are more likely to have CVD"
      ]
    },
    {
      "cell_type": "code",
      "execution_count": 96,
      "metadata": {},
      "outputs": [],
      "source": [
        "from scipy.stats import ttest_ind, shapiro, mannwhitneyu, levene"
      ]
    },
    {
      "cell_type": "code",
      "execution_count": 97,
      "metadata": {},
      "outputs": [],
      "source": [
        "'''Split age data into two groups based on CVD status'''\n",
        "age_cvd = df[df['cardio']=='CVD']['age_years']\n",
        "age_no_cvd = df[df['cardio']=='No CVD']['age_years']"
      ]
    },
    {
      "cell_type": "markdown",
      "metadata": {},
      "source": [
        "Shapiro-Wilk test is used to test for normality, as both groups gave a p-value much smaller than the significant level of 0.05, normality is rejected and a non parametric statistical test must be used."
      ]
    },
    {
      "cell_type": "code",
      "execution_count": null,
      "metadata": {},
      "outputs": [
        {
          "name": "stdout",
          "output_type": "stream",
          "text": [
            "  CVD group p-value: 5.932556579591069e-36\n",
            "  No CVD group p-value: 8.238124942747106e-33\n"
          ]
        }
      ],
      "source": [
        "'''Test for normality using the Shapiro-Wilk test'''\n",
        "sample_size = 5000\n",
        "\n",
        "def normality_test(dataset, n=5000):\n",
        "    '''Shapiro-Wilk test for normality'''\n",
        "    sample = dataset.sample(n=n, random_state=123)\n",
        "    stat, p = shapiro(sample)\n",
        "    return stat, p\n",
        "\n",
        "stat_cvd, p_cvd = normality_test(age_cvd)\n",
        "stat_no_cvd, p_no_cvd = normality_test(age_no_cvd)\n",
        "\n",
        "print(f\"  CVD group p-value: {p_cvd}\")\n",
        "print(f\"  No CVD group p-value: {p_no_cvd}\")"
      ]
    },
    {
      "cell_type": "code",
      "execution_count": 99,
      "metadata": {},
      "outputs": [
        {
          "name": "stdout",
          "output_type": "stream",
          "text": [
            "Mann–Whitney U Test for Age vs CVD\n",
            "U-statistic = 748951099.0\n",
            "p-value = 0.0\n"
          ]
        }
      ],
      "source": [
        "'''Mann-Whitney U test'''\n",
        "u_stat, p_value = mannwhitneyu(age_cvd, age_no_cvd, alternative='greater')\n",
        "\n",
        "print(\"Mann–Whitney U Test for Age vs CVD\")\n",
        "print(f\"U-statistic = {u_stat}\")\n",
        "print(f\"p-value = {p_value}\")\n"
      ]
    },
    {
      "cell_type": "markdown",
      "metadata": {},
      "source": [
        "Mann-Whitney test is used to test the null hypothesis:\n",
        ">H0: Older individuals does not have a higher chance of having CVD\n",
        "\n",
        "A one-tailed test is used as H1 states \"*older* individuals are more likely to have CVD\". \n",
        "\n",
        "The resulted p-value is so small that it is rounded to 0.0, meaning it is too small to calculate. As p-value is much smaller than 0.05 H0 is confidently rejected at the 5% significance level and H1 is accepted. \n",
        "\n",
        "Conclusion: ***Older individuals are more likely to have CVD***\n"
      ]
    },
    {
      "cell_type": "markdown",
      "metadata": {},
      "source": [
        "### Visualisations"
      ]
    },
    {
      "cell_type": "code",
      "execution_count": 100,
      "metadata": {},
      "outputs": [
        {
          "data": {
            "image/png": "[encoded data removed]",
            "text/plain": [
              "<Figure size 800x500 with 1 Axes>"
            ]
          },
          "metadata": {},
          "output_type": "display_data"
        }
      ],
      "source": [
        "plt.figure(figsize=(8, 5))\n",
        "sns.boxplot(data=df, y='cardio', x='age_years',)\n",
        "plt.show()"
      ]
    },
    {
      "cell_type": "code",
      "execution_count": null,
      "metadata": {},
      "outputs": [
        {
          "data": {
            "image/png": "[encoded data removed]",
            "text/plain": [
              "<Figure size 1073.38x400 with 2 Axes>"
            ]
          },
          "metadata": {},
          "output_type": "display_data"
        }
      ],
      "source": [
        "'''Visualize the age distribution for both CVD and No CVD groups'''\n",
        "sns.displot(\n",
        "    data=df,\n",
        "    x=\"age_years\",\n",
        "    col=\"cardio\",\n",
        "    hue=\"cardio\",\n",
        "    bins=30,\n",
        "    kde=True,\n",
        "    height=4, aspect=1.2\n",
        ")\n",
        "plt.show()"
      ]
    },
    {
      "cell_type": "markdown",
      "metadata": {},
      "source": [
        "## Hypothesis 2:\n",
        ">H0: No significant difference in the likelihood of developing CVD between males and females <br>\n",
        ">H1: Males are more likely to develop CVD than females"
      ]
    },
    {
      "cell_type": "code",
      "execution_count": 93,
      "metadata": {},
      "outputs": [],
      "source": [
        "from scipy.stats import chi2_contingency"
      ]
    },
    {
      "cell_type": "code",
      "execution_count": null,
      "metadata": {},
      "outputs": [
        {
          "name": "stdout",
          "output_type": "stream",
          "text": [
            "Contingency Table:\n",
            " cardio    CVD  No CVD\n",
            "gender               \n",
            "Female  11955   11971\n",
            "Male    21988   22698\n",
            "\n",
            "Chi-Square Test Results:\n",
            "Chi2 statistic = 3.57968306145962\n",
            "Degrees of freedom = 1\n",
            "p-value = 0.058490309641719154\n"
          ]
        }
      ],
      "source": [
        "'''Chi-square test'''\n",
        "def chi2_square_test(var1, var2):\n",
        "    '''Chi-square test function'''\n",
        "    contingency_table = pd.crosstab(df[var1], df[var2])\n",
        "    print(\"Contingency Table:\\n\", contingency_table)\n",
        "\n",
        "    chi2, p, dof, expected = chi2_contingency(contingency_table)\n",
        "    print(\"\\nChi-Square Test Results:\")\n",
        "    print(f\"Chi2 statistic = {chi2}\")\n",
        "    print(f\"Degrees of freedom = {dof}\")\n",
        "    print(f\"p-value = {p}\")\n",
        "chi2_square_test('gender', 'cardio')"
      ]
    },
    {
      "cell_type": "markdown",
      "metadata": {},
      "source": [
        "Chi square test is used to test the null hypothesis:\n",
        ">H0: No significant difference in the likelihood of developing CVD between males and females\n",
        "\n",
        "The p-value of 0.058 is recieved. As 0.058 > 0.05, there is not enough evidence to reject the null hypothesis and H0 is accepted at the 5% significance level.\n",
        "\n",
        "Conclusion: ***No significant difference in the likelihood of developing CVD between males and females***"
      ]
    },
    {
      "cell_type": "markdown",
      "metadata": {},
      "source": [
        "### Visualisation"
      ]
    },
    {
      "cell_type": "code",
      "execution_count": 103,
      "metadata": {},
      "outputs": [
        {
          "data": {
            "image/png": "[encoded data removed]",
            "text/plain": [
              "<Figure size 640x480 with 1 Axes>"
            ]
          },
          "metadata": {},
          "output_type": "display_data"
        }
      ],
      "source": [
        "sns.countplot(data=df, x='cardio',hue='gender')\n",
        "plt.show()"
      ]
    },
    {
      "cell_type": "markdown",
      "metadata": {},
      "source": [
        "The visualisation shows how male and female distribution are very similar for those with CVD and without CVD"
      ]
    },
    {
      "cell_type": "markdown",
      "metadata": {},
      "source": [
        "## Hypothesis 3:\n",
        ">H0: Blood pressure has no correlation with developing CVD <br>\n",
        ">H1: High blood pressure increases the likelihood of developing CVD"
      ]
    },
    {
      "cell_type": "code",
      "execution_count": 110,
      "metadata": {},
      "outputs": [],
      "source": [
        "'''Splitting blood pressure data'''\n",
        "# Systolic BP\n",
        "hi_cvd = df[df['cardio'] == 'CVD']['ap_hi']\n",
        "hi_no_cvd = df[df['cardio'] == 'No CVD']['ap_hi']\n",
        "\n",
        "# Diastolic BP\n",
        "lo_cvd = df[df['cardio'] == 'CVD']['ap_lo']\n",
        "lo_no_cvd = df[df['cardio'] == 'No CVD']['ap_lo']\n"
      ]
    },
    {
      "cell_type": "markdown",
      "metadata": {},
      "source": [
        "All groups have a p-value much lower than 0.05, normality is rejected at the 5% significance level and non parametric test is needed."
      ]
    },
    {
      "cell_type": "code",
      "execution_count": null,
      "metadata": {},
      "outputs": [
        {
          "name": "stdout",
          "output_type": "stream",
          "text": [
            "Systolic BP normality p-values: CVD=2.7908729858652275e-40, No CVD=1.0550031772591162e-55\n",
            "Diastolic BP normality p-values: CVD=2.2169384952703853e-50, No CVD=3.6683254738619266e-56\n"
          ]
        }
      ],
      "source": [
        "'''Normality test'''\n",
        "#sys\n",
        "p_hi_cvd = normality_test(bp_hi_cvd)[1]\n",
        "p_hi_no_cvd = normality_test(bp_hi_no_cvd)[1]\n",
        "\n",
        "# Dia\n",
        "p_lo_cvd = normality_test(bp_lo_cvd)[1]\n",
        "p_lo_no_cvd = normality_test(bp_lo_no_cvd)[1]\n",
        "\n",
        "print(f\"Systolic BP normality p-values: CVD={p_hi_cvd}, No CVD={p_hi_no_cvd}\")\n",
        "print(f\"Diastolic BP normality p-values: CVD={p_lo_cvd}, No CVD={p_lo_no_cvd}\")"
      ]
    },
    {
      "cell_type": "code",
      "execution_count": 116,
      "metadata": {},
      "outputs": [
        {
          "name": "stdout",
          "output_type": "stream",
          "text": [
            "Mann–Whitney U Test Results\n",
            "Systolic BP: U = 884063397.5, p = 0.0\n",
            "Diastolic BP: U = 812828489.0, p = 0.0\n"
          ]
        }
      ],
      "source": [
        "'''Mann-Whitney test'''\n",
        "# Sys\n",
        "u_hi, p_hi = mannwhitneyu(bp_hi_cvd, bp_hi_no_cvd, alternative='greater')\n",
        "\n",
        "# Dia\n",
        "u_lo, p_lo = mannwhitneyu(bp_lo_cvd, bp_lo_no_cvd, alternative='greater')\n",
        "\n",
        "print(\"Mann–Whitney U Test Results\")\n",
        "print(f\"Systolic BP: U = {u_hi}, p = {p_hi}\")\n",
        "print(f\"Diastolic BP: U = {u_lo}, p = {p_lo}\")"
      ]
    },
    {
      "cell_type": "markdown",
      "metadata": {},
      "source": [
        "Mann-Whitney test is used to test the null hypothesis for both Systolic and Diastolic readings:\n",
        ">H0: Blood pressure has no correlation with developing CVD\n",
        "\n",
        "A one-tailed test is used for both tests as H1 mentions \"*Higher* blood pressure\". \n",
        "\n",
        "The resulted p-values are so small that it is rounded to 0.0, as p-value is much smaller than 0.05, H0 is confidently rejected at the 5% significance level and H1 is accepted. \n",
        "\n",
        "Conclusion: ***High blood pressure increases the likelihood of developing CVD***"
      ]
    },
    {
      "cell_type": "markdown",
      "metadata": {},
      "source": [
        "### Visualisation"
      ]
    },
    {
      "cell_type": "code",
      "execution_count": null,
      "metadata": {},
      "outputs": [
        {
          "data": {
            "image/png": "[encoded data removed]",
            "text/plain": [
              "<Figure size 800x500 with 1 Axes>"
            ]
          },
          "metadata": {},
          "output_type": "display_data"
        },
        {
          "data": {
            "image/png": "[encoded data removed]",
            "text/plain": [
              "<Figure size 800x500 with 1 Axes>"
            ]
          },
          "metadata": {},
          "output_type": "display_data"
        }
      ],
      "source": [
        "for col in ['ap_hi', 'ap_lo']:\n",
        "    plt.figure(figsize=(8, 5))\n",
        "    sns.boxplot(data=df, y='cardio', x=col,)\n",
        "    plt.show()"
      ]
    },
    {
      "cell_type": "code",
      "execution_count": 120,
      "metadata": {},
      "outputs": [
        {
          "data": {
            "image/png": "[encoded data removed]",
            "text/plain": [
              "<Figure size 1073.38x400 with 2 Axes>"
            ]
          },
          "metadata": {},
          "output_type": "display_data"
        },
        {
          "data": {
            "image/png": "[encoded data removed]",
            "text/plain": [
              "<Figure size 1073.38x400 with 2 Axes>"
            ]
          },
          "metadata": {},
          "output_type": "display_data"
        }
      ],
      "source": [
        "'''Visualize the bp distribution for both CVD and No CVD groups'''\n",
        "for col in ['ap_hi', 'ap_lo']:\n",
        "    sns.displot(\n",
        "        data=df,\n",
        "        x=col,\n",
        "        col=\"cardio\",\n",
        "        hue=\"cardio\",\n",
        "        bins=30,\n",
        "        kde=True,\n",
        "        height=4, aspect=1.2\n",
        "    )\n",
        "    plt.show()"
      ]
    },
    {
      "cell_type": "markdown",
      "metadata": {},
      "source": [
        "## Hypothesis 4:\n",
        ">H0: No significant correlation between cholesterol level and developing CVD <br>\n",
        ">H1: High cholesterol individuals are more likely to have CVD"
      ]
    },
    {
      "cell_type": "code",
      "execution_count": 124,
      "metadata": {},
      "outputs": [
        {
          "name": "stdout",
          "output_type": "stream",
          "text": [
            "Contingency Table:\n",
            " cardio         CVD  No CVD\n",
            "cholesterol               \n",
            "High          5542    3754\n",
            "Normal       22403   29048\n",
            "Very high     5998    1867\n",
            "\n",
            "Chi-Square Test Results:\n",
            "Chi2 statistic = 3364.574982312851\n",
            "Degrees of freedom = 2\n",
            "p-value = 0.0\n"
          ]
        }
      ],
      "source": [
        "'''Chi-square test'''\n",
        "chi2_square_test('cholesterol', 'cardio')"
      ]
    },
    {
      "cell_type": "markdown",
      "metadata": {},
      "source": [
        "Chi square test is used to test the null hypothesis:\n",
        ">H0: No significant correlation between cholesterol level and developing CVD\n",
        "\n",
        "The p-value of 0.0 is recieved. As 0.0 is much smaller than 0.05, there is enough evidence to reject the null hypothesis and H1 is accepted at the 5% significance level.\n",
        "\n",
        "Conclusion: ***High cholesterol individuals are more likely to have CVD***"
      ]
    },
    {
      "cell_type": "markdown",
      "metadata": {},
      "source": [
        "### Visualisation"
      ]
    },
    {
      "cell_type": "code",
      "execution_count": 128,
      "metadata": {},
      "outputs": [
        {
          "data": {
            "image/png": "[encoded data removed]",
            "text/plain": [
              "<Figure size 640x480 with 1 Axes>"
            ]
          },
          "metadata": {},
          "output_type": "display_data"
        }
      ],
      "source": [
        "sns.countplot(data=df, x='cardio',hue='cholesterol')\n",
        "plt.show()"
      ]
    },
    {
      "cell_type": "markdown",
      "metadata": {},
      "source": [
        "`High` and `Very high` levels of cholesterol are much more in the CVD group."
      ]
    },
    {
      "cell_type": "markdown",
      "metadata": {},
      "source": [
        "---"
      ]
    },
    {
      "cell_type": "markdown",
      "metadata": {},
      "source": [
        "* You may add as many sections as you want, as long as it supports your project workflow.\n",
        "* All notebook's cells should be run top-down (you can't create a dynamic wherein a given point you need to go back to a previous cell to execute some task, like go back to a previous cell and refresh a variable content)"
      ]
    },
    {
      "cell_type": "markdown",
      "metadata": {},
      "source": [
        "---"
      ]
    },
    {
      "cell_type": "markdown",
      "metadata": {
        "id": "ltNetd085qHf"
      },
      "source": [
        "# Push files to Repo"
      ]
    },
    {
      "cell_type": "markdown",
      "metadata": {},
      "source": [
        "* In cases where you don't need to push files to Repo, you may replace this section with \"Conclusions and Next Steps\" and state your conclusions and next steps."
      ]
    }
  ],
  "metadata": {
    "accelerator": "GPU",
    "colab": {
      "name": "Data Practitioner Jupyter Notebook.ipynb",
      "provenance": [],
      "toc_visible": true
    },
    "kernelspec": {
      "display_name": ".venv",
      "language": "python",
      "name": "python3"
    },
    "language_info": {
      "codemirror_mode": {
        "name": "ipython",
        "version": 3
      },
      "file_extension": ".py",
      "mimetype": "text/x-python",
      "name": "python",
      "nbconvert_exporter": "python",
      "pygments_lexer": "ipython3",
      "version": "3.12.1"
    },
    "orig_nbformat": 2
  },
  "nbformat": 4,
  "nbformat_minor": 2
}
