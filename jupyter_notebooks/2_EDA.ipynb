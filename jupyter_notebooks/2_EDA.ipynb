{
  "cells": [
    {
      "cell_type": "markdown",
      "metadata": {
        "id": "0aStgWSO0E0E"
      },
      "source": [
        "# **Exploratory Data Analysis (EDA)**"
      ]
    },
    {
      "cell_type": "markdown",
      "metadata": {
        "id": "1eLEkw5O0ECa"
      },
      "source": [
        "## Objectives\n",
        "\n",
        "This notebook aims to use **Exploratory Data Analysis (EDA)** to explore, and understand the dataset and its existing patterns and trends. The EDA process aims to:\n",
        "- Conduct descriptive analysis of the data\n",
        "- Generate and refine features in features engineering\n",
        "- Test hypothesis using statistical tests\n",
        "- Generate visualisation to display trends\n",
        "- Gather insights on data that answers business requirements\n",
        "\n",
        "\n",
        "## Prerequisites\n",
        "- Python 3.12.8 is installed\n",
        "- Required Python Libaries from `requirements.txt` and their dependencies must be installed\n",
        "- Optional to set up Python virtual enviornment\n",
        "- Completed ETL step\n",
        "\n",
        "## Inputs\n",
        "\n",
        "- Cleaned dataset from ETL `cleaned_heart_data.csv`.\n",
        "\n",
        "## Initial hypothesis\n",
        "- Older individuals are more likely to develope cardiovascular disease (CVD)\n",
        "- Males are more likely to develope CVD than females\n",
        "- High blood pressure increase the likelihood of developing CDV\n",
        "- High cholesterol individuals are more likely to have CDV\n",
        "- Physically active individuals are less likely to have CDV\n",
        "- Smokers are more likely to have CDV\n",
        "- Alcohol consumption increase the likelyhood of developing CDV\n",
        "\n",
        "## Outputs\n",
        "\n",
        "- Generated insights and tested hypothesis\n",
        "- Data visualisations created using matplotlib, seaborn and plotly\n",
        "- Processed Dataset"
      ]
    },
    {
      "cell_type": "markdown",
      "metadata": {
        "id": "9uWZXH9LwoQg"
      },
      "source": [
        "---"
      ]
    },
    {
      "cell_type": "markdown",
      "metadata": {
        "id": "cqP-UeN-z3i2"
      },
      "source": [
        "# Change working directory"
      ]
    },
    {
      "cell_type": "markdown",
      "metadata": {
        "id": "aOGIGS-uz3i2"
      },
      "source": [
        "The working directory must be changed from its current folder to its parent folder\n",
        "* The current directory can be accessed with `os.getcwd()`"
      ]
    },
    {
      "cell_type": "code",
      "execution_count": 1,
      "metadata": {
        "id": "wZfF_j-Bz3i4",
        "outputId": "66943449-1436-4c3d-85c7-b85f9f78349b"
      },
      "outputs": [
        {
          "data": {
            "text/plain": [
              "'/workspaces/analysis-of-risk-factors-for-cardiovascular-diseases/jupyter_notebooks'"
            ]
          },
          "execution_count": 1,
          "metadata": {},
          "output_type": "execute_result"
        }
      ],
      "source": [
        "import os\n",
        "current_dir = os.getcwd()\n",
        "current_dir"
      ]
    },
    {
      "cell_type": "markdown",
      "metadata": {
        "id": "9MWW8E7lz3i7"
      },
      "source": [
        "The parent of the current directory will be the new current directory\n",
        "* os.path.dirname() gets the parent directory\n",
        "* os.chir() defines the new current directory"
      ]
    },
    {
      "cell_type": "code",
      "execution_count": 2,
      "metadata": {
        "id": "TwHsQRWjz3i9",
        "outputId": "86849db3-cd2f-4cc5-ebb8-2d0caafa1a2c"
      },
      "outputs": [
        {
          "name": "stdout",
          "output_type": "stream",
          "text": [
            "You set a new current directory\n"
          ]
        }
      ],
      "source": [
        "os.chdir(os.path.dirname(current_dir))\n",
        "print(\"You set a new current directory\")"
      ]
    },
    {
      "cell_type": "markdown",
      "metadata": {
        "id": "M_xPk_Ijz3i-"
      },
      "source": [
        "Confirm the new current directory"
      ]
    },
    {
      "cell_type": "code",
      "execution_count": 3,
      "metadata": {
        "id": "vz3S-_kjz3jA",
        "outputId": "00b79ae4-75d0-4a96-d193-ac9ef9847ea2"
      },
      "outputs": [
        {
          "data": {
            "text/plain": [
              "'/workspaces/analysis-of-risk-factors-for-cardiovascular-diseases'"
            ]
          },
          "execution_count": 3,
          "metadata": {},
          "output_type": "execute_result"
        }
      ],
      "source": [
        "current_dir = os.getcwd()\n",
        "current_dir"
      ]
    },
    {
      "cell_type": "markdown",
      "metadata": {},
      "source": [
        "---"
      ]
    },
    {
      "cell_type": "markdown",
      "metadata": {},
      "source": [
        "# Initial Setup"
      ]
    },
    {
      "cell_type": "markdown",
      "metadata": {},
      "source": [
        "### Import Libaries\n",
        "\n",
        "Essential data analysis and visualisation libaries are imported."
      ]
    },
    {
      "cell_type": "code",
      "execution_count": 4,
      "metadata": {},
      "outputs": [],
      "source": [
        "import numpy as np\n",
        "import pandas as pd\n",
        "import matplotlib.pyplot as plt\n",
        "import seaborn as sns\n",
        "import plotly.express as px\n",
        "import plotly.graph_objects as go"
      ]
    },
    {
      "cell_type": "markdown",
      "metadata": {
        "id": "-mavJ8DibrcQ"
      },
      "source": [
        "### Extract Dataset\n",
        "\n",
        "Extract the cleaned csv file as a pandas DataFrame"
      ]
    },
    {
      "cell_type": "code",
      "execution_count": 5,
      "metadata": {},
      "outputs": [
        {
          "data": {
            "text/html": [
              "<div>\n",
              "<style scoped>\n",
              "    .dataframe tbody tr th:only-of-type {\n",
              "        vertical-align: middle;\n",
              "    }\n",
              "\n",
              "    .dataframe tbody tr th {\n",
              "        vertical-align: top;\n",
              "    }\n",
              "\n",
              "    .dataframe thead th {\n",
              "        text-align: right;\n",
              "    }\n",
              "</style>\n",
              "<table border=\"1\" class=\"dataframe\">\n",
              "  <thead>\n",
              "    <tr style=\"text-align: right;\">\n",
              "      <th></th>\n",
              "      <th>id</th>\n",
              "      <th>age</th>\n",
              "      <th>gender</th>\n",
              "      <th>height</th>\n",
              "      <th>weight</th>\n",
              "      <th>ap_hi</th>\n",
              "      <th>ap_lo</th>\n",
              "      <th>cholesterol</th>\n",
              "      <th>gluc</th>\n",
              "      <th>smoke</th>\n",
              "      <th>alco</th>\n",
              "      <th>active</th>\n",
              "      <th>cardio</th>\n",
              "    </tr>\n",
              "  </thead>\n",
              "  <tbody>\n",
              "    <tr>\n",
              "      <th>0</th>\n",
              "      <td>0</td>\n",
              "      <td>18393</td>\n",
              "      <td>2</td>\n",
              "      <td>168</td>\n",
              "      <td>62.0</td>\n",
              "      <td>110</td>\n",
              "      <td>80</td>\n",
              "      <td>1</td>\n",
              "      <td>1</td>\n",
              "      <td>0</td>\n",
              "      <td>0</td>\n",
              "      <td>1</td>\n",
              "      <td>0</td>\n",
              "    </tr>\n",
              "    <tr>\n",
              "      <th>1</th>\n",
              "      <td>1</td>\n",
              "      <td>20228</td>\n",
              "      <td>1</td>\n",
              "      <td>156</td>\n",
              "      <td>85.0</td>\n",
              "      <td>140</td>\n",
              "      <td>90</td>\n",
              "      <td>3</td>\n",
              "      <td>1</td>\n",
              "      <td>0</td>\n",
              "      <td>0</td>\n",
              "      <td>1</td>\n",
              "      <td>1</td>\n",
              "    </tr>\n",
              "    <tr>\n",
              "      <th>2</th>\n",
              "      <td>2</td>\n",
              "      <td>18857</td>\n",
              "      <td>1</td>\n",
              "      <td>165</td>\n",
              "      <td>64.0</td>\n",
              "      <td>130</td>\n",
              "      <td>70</td>\n",
              "      <td>3</td>\n",
              "      <td>1</td>\n",
              "      <td>0</td>\n",
              "      <td>0</td>\n",
              "      <td>0</td>\n",
              "      <td>1</td>\n",
              "    </tr>\n",
              "    <tr>\n",
              "      <th>3</th>\n",
              "      <td>3</td>\n",
              "      <td>17623</td>\n",
              "      <td>2</td>\n",
              "      <td>169</td>\n",
              "      <td>82.0</td>\n",
              "      <td>150</td>\n",
              "      <td>100</td>\n",
              "      <td>1</td>\n",
              "      <td>1</td>\n",
              "      <td>0</td>\n",
              "      <td>0</td>\n",
              "      <td>1</td>\n",
              "      <td>1</td>\n",
              "    </tr>\n",
              "    <tr>\n",
              "      <th>4</th>\n",
              "      <td>4</td>\n",
              "      <td>17474</td>\n",
              "      <td>1</td>\n",
              "      <td>156</td>\n",
              "      <td>56.0</td>\n",
              "      <td>100</td>\n",
              "      <td>60</td>\n",
              "      <td>1</td>\n",
              "      <td>1</td>\n",
              "      <td>0</td>\n",
              "      <td>0</td>\n",
              "      <td>0</td>\n",
              "      <td>0</td>\n",
              "    </tr>\n",
              "  </tbody>\n",
              "</table>\n",
              "</div>"
            ],
            "text/plain": [
              "   id    age  gender  height  weight  ap_hi  ap_lo  cholesterol  gluc  smoke  \\\n",
              "0   0  18393       2     168    62.0    110     80            1     1      0   \n",
              "1   1  20228       1     156    85.0    140     90            3     1      0   \n",
              "2   2  18857       1     165    64.0    130     70            3     1      0   \n",
              "3   3  17623       2     169    82.0    150    100            1     1      0   \n",
              "4   4  17474       1     156    56.0    100     60            1     1      0   \n",
              "\n",
              "   alco  active  cardio  \n",
              "0     0       1       0  \n",
              "1     0       1       1  \n",
              "2     0       0       1  \n",
              "3     0       1       1  \n",
              "4     0       0       0  "
            ]
          },
          "execution_count": 5,
          "metadata": {},
          "output_type": "execute_result"
        }
      ],
      "source": [
        "'''Read the raw data and create a copy of the original data'''\n",
        "df = pd.read_csv('data/cleaned/cleaned_heart_data.csv') # Cleaned data directory\n",
        "df_original =df.copy()\n",
        "df.head()"
      ]
    },
    {
      "cell_type": "markdown",
      "metadata": {},
      "source": [
        "---"
      ]
    },
    {
      "cell_type": "markdown",
      "metadata": {},
      "source": [
        "# EDA: Features Engineering and Descriptive Analysis"
      ]
    },
    {
      "cell_type": "markdown",
      "metadata": {},
      "source": [
        "## Data type conversion\n",
        "A basic summary of the DataFrame is generated using `.info()`. Although the data types of categorical data were changed in the previous ETL notebooks, they have reverted back to integer data types. This is because the actural values of those rows were not replaced, so when the saved csv file is read, it gets assigned to an integer data type."
      ]
    },
    {
      "cell_type": "code",
      "execution_count": 6,
      "metadata": {},
      "outputs": [
        {
          "name": "stdout",
          "output_type": "stream",
          "text": [
            "<class 'pandas.core.frame.DataFrame'>\n",
            "RangeIndex: 68768 entries, 0 to 68767\n",
            "Data columns (total 13 columns):\n",
            " #   Column       Non-Null Count  Dtype  \n",
            "---  ------       --------------  -----  \n",
            " 0   id           68768 non-null  int64  \n",
            " 1   age          68768 non-null  int64  \n",
            " 2   gender       68768 non-null  int64  \n",
            " 3   height       68768 non-null  int64  \n",
            " 4   weight       68768 non-null  float64\n",
            " 5   ap_hi        68768 non-null  int64  \n",
            " 6   ap_lo        68768 non-null  int64  \n",
            " 7   cholesterol  68768 non-null  int64  \n",
            " 8   gluc         68768 non-null  int64  \n",
            " 9   smoke        68768 non-null  int64  \n",
            " 10  alco         68768 non-null  int64  \n",
            " 11  active       68768 non-null  int64  \n",
            " 12  cardio       68768 non-null  int64  \n",
            "dtypes: float64(1), int64(12)\n",
            "memory usage: 6.8 MB\n"
          ]
        }
      ],
      "source": [
        "df.info()"
      ]
    },
    {
      "cell_type": "markdown",
      "metadata": {},
      "source": [
        "The integer values of `gender`, `cholesterol`, `gluc`, smoke, alco, active and cardio are replaced with string variables representing the same thing. The rows are then converted to category data types."
      ]
    },
    {
      "cell_type": "code",
      "execution_count": 7,
      "metadata": {},
      "outputs": [
        {
          "data": {
            "text/html": [
              "<div>\n",
              "<style scoped>\n",
              "    .dataframe tbody tr th:only-of-type {\n",
              "        vertical-align: middle;\n",
              "    }\n",
              "\n",
              "    .dataframe tbody tr th {\n",
              "        vertical-align: top;\n",
              "    }\n",
              "\n",
              "    .dataframe thead th {\n",
              "        text-align: right;\n",
              "    }\n",
              "</style>\n",
              "<table border=\"1\" class=\"dataframe\">\n",
              "  <thead>\n",
              "    <tr style=\"text-align: right;\">\n",
              "      <th></th>\n",
              "      <th>id</th>\n",
              "      <th>age</th>\n",
              "      <th>gender</th>\n",
              "      <th>height</th>\n",
              "      <th>weight</th>\n",
              "      <th>ap_hi</th>\n",
              "      <th>ap_lo</th>\n",
              "      <th>cholesterol</th>\n",
              "      <th>gluc</th>\n",
              "      <th>smoke</th>\n",
              "      <th>alco</th>\n",
              "      <th>active</th>\n",
              "      <th>cardio</th>\n",
              "    </tr>\n",
              "  </thead>\n",
              "  <tbody>\n",
              "    <tr>\n",
              "      <th>0</th>\n",
              "      <td>0</td>\n",
              "      <td>18393</td>\n",
              "      <td>Female</td>\n",
              "      <td>168</td>\n",
              "      <td>62.0</td>\n",
              "      <td>110</td>\n",
              "      <td>80</td>\n",
              "      <td>Normal</td>\n",
              "      <td>Normal</td>\n",
              "      <td>Non-smoker</td>\n",
              "      <td>Non-drinker</td>\n",
              "      <td>Active</td>\n",
              "      <td>No CVD</td>\n",
              "    </tr>\n",
              "    <tr>\n",
              "      <th>1</th>\n",
              "      <td>1</td>\n",
              "      <td>20228</td>\n",
              "      <td>Male</td>\n",
              "      <td>156</td>\n",
              "      <td>85.0</td>\n",
              "      <td>140</td>\n",
              "      <td>90</td>\n",
              "      <td>Very high</td>\n",
              "      <td>Normal</td>\n",
              "      <td>Non-smoker</td>\n",
              "      <td>Non-drinker</td>\n",
              "      <td>Active</td>\n",
              "      <td>CVD</td>\n",
              "    </tr>\n",
              "    <tr>\n",
              "      <th>2</th>\n",
              "      <td>2</td>\n",
              "      <td>18857</td>\n",
              "      <td>Male</td>\n",
              "      <td>165</td>\n",
              "      <td>64.0</td>\n",
              "      <td>130</td>\n",
              "      <td>70</td>\n",
              "      <td>Very high</td>\n",
              "      <td>Normal</td>\n",
              "      <td>Non-smoker</td>\n",
              "      <td>Non-drinker</td>\n",
              "      <td>Inactive</td>\n",
              "      <td>CVD</td>\n",
              "    </tr>\n",
              "    <tr>\n",
              "      <th>3</th>\n",
              "      <td>3</td>\n",
              "      <td>17623</td>\n",
              "      <td>Female</td>\n",
              "      <td>169</td>\n",
              "      <td>82.0</td>\n",
              "      <td>150</td>\n",
              "      <td>100</td>\n",
              "      <td>Normal</td>\n",
              "      <td>Normal</td>\n",
              "      <td>Non-smoker</td>\n",
              "      <td>Non-drinker</td>\n",
              "      <td>Active</td>\n",
              "      <td>CVD</td>\n",
              "    </tr>\n",
              "    <tr>\n",
              "      <th>4</th>\n",
              "      <td>4</td>\n",
              "      <td>17474</td>\n",
              "      <td>Male</td>\n",
              "      <td>156</td>\n",
              "      <td>56.0</td>\n",
              "      <td>100</td>\n",
              "      <td>60</td>\n",
              "      <td>Normal</td>\n",
              "      <td>Normal</td>\n",
              "      <td>Non-smoker</td>\n",
              "      <td>Non-drinker</td>\n",
              "      <td>Inactive</td>\n",
              "      <td>No CVD</td>\n",
              "    </tr>\n",
              "  </tbody>\n",
              "</table>\n",
              "</div>"
            ],
            "text/plain": [
              "   id    age  gender  height  weight  ap_hi  ap_lo cholesterol    gluc  \\\n",
              "0   0  18393  Female     168    62.0    110     80      Normal  Normal   \n",
              "1   1  20228    Male     156    85.0    140     90   Very high  Normal   \n",
              "2   2  18857    Male     165    64.0    130     70   Very high  Normal   \n",
              "3   3  17623  Female     169    82.0    150    100      Normal  Normal   \n",
              "4   4  17474    Male     156    56.0    100     60      Normal  Normal   \n",
              "\n",
              "        smoke         alco    active  cardio  \n",
              "0  Non-smoker  Non-drinker    Active  No CVD  \n",
              "1  Non-smoker  Non-drinker    Active     CVD  \n",
              "2  Non-smoker  Non-drinker  Inactive     CVD  \n",
              "3  Non-smoker  Non-drinker    Active     CVD  \n",
              "4  Non-smoker  Non-drinker  Inactive  No CVD  "
            ]
          },
          "execution_count": 7,
          "metadata": {},
          "output_type": "execute_result"
        }
      ],
      "source": [
        "'''Replace integer values with descriptive names and convert to category data type'''#\n",
        "catago_cols = ['gender', 'cholesterol', 'gluc', 'smoke', 'alco', 'active', 'cardio']\n",
        "\n",
        "df['gender'].replace({1: 'Male', 2: 'Female'}, inplace=True)\n",
        "df['cholesterol'].replace({1: 'Normal', 2: 'High', 3: 'Very high'}, inplace=True)\n",
        "df['gluc'].replace({1: 'Normal', 2: 'High', 3: 'Very high'}, inplace=True)\n",
        "df['smoke'].replace({0: 'Non-smoker', 1: 'Smoker'}, inplace=True)\n",
        "df['alco'].replace({0: 'Non-drinker', 1: 'Drinker'}, inplace=True)\n",
        "df['active'].replace({0: 'Inactive', 1: 'Active'}, inplace=True)\n",
        "df['cardio'].replace({0: 'No CVD', 1: 'CVD'}, inplace=True)\n",
        "\n",
        "for col in catago_cols:\n",
        "    df[col] = df[col].astype('category')\n",
        "\n",
        "df.head()"
      ]
    },
    {
      "cell_type": "markdown",
      "metadata": {},
      "source": [
        "Confirm that the data types have been changed to category"
      ]
    },
    {
      "cell_type": "code",
      "execution_count": 8,
      "metadata": {},
      "outputs": [
        {
          "name": "stdout",
          "output_type": "stream",
          "text": [
            "<class 'pandas.core.frame.DataFrame'>\n",
            "RangeIndex: 68768 entries, 0 to 68767\n",
            "Data columns (total 13 columns):\n",
            " #   Column       Non-Null Count  Dtype   \n",
            "---  ------       --------------  -----   \n",
            " 0   id           68768 non-null  int64   \n",
            " 1   age          68768 non-null  int64   \n",
            " 2   gender       68768 non-null  category\n",
            " 3   height       68768 non-null  int64   \n",
            " 4   weight       68768 non-null  float64 \n",
            " 5   ap_hi        68768 non-null  int64   \n",
            " 6   ap_lo        68768 non-null  int64   \n",
            " 7   cholesterol  68768 non-null  category\n",
            " 8   gluc         68768 non-null  category\n",
            " 9   smoke        68768 non-null  category\n",
            " 10  alco         68768 non-null  category\n",
            " 11  active       68768 non-null  category\n",
            " 12  cardio       68768 non-null  category\n",
            "dtypes: category(7), float64(1), int64(5)\n",
            "memory usage: 3.6 MB\n"
          ]
        }
      ],
      "source": [
        "df.info()"
      ]
    },
    {
      "cell_type": "markdown",
      "metadata": {},
      "source": [
        "## Feature creation"
      ]
    },
    {
      "cell_type": "markdown",
      "metadata": {},
      "source": [
        "Pulse pressure, body mass index and age in years were created."
      ]
    },
    {
      "cell_type": "code",
      "execution_count": 9,
      "metadata": {},
      "outputs": [
        {
          "data": {
            "text/html": [
              "<div>\n",
              "<style scoped>\n",
              "    .dataframe tbody tr th:only-of-type {\n",
              "        vertical-align: middle;\n",
              "    }\n",
              "\n",
              "    .dataframe tbody tr th {\n",
              "        vertical-align: top;\n",
              "    }\n",
              "\n",
              "    .dataframe thead th {\n",
              "        text-align: right;\n",
              "    }\n",
              "</style>\n",
              "<table border=\"1\" class=\"dataframe\">\n",
              "  <thead>\n",
              "    <tr style=\"text-align: right;\">\n",
              "      <th></th>\n",
              "      <th>id</th>\n",
              "      <th>age</th>\n",
              "      <th>gender</th>\n",
              "      <th>height</th>\n",
              "      <th>weight</th>\n",
              "      <th>ap_hi</th>\n",
              "      <th>ap_lo</th>\n",
              "      <th>cholesterol</th>\n",
              "      <th>gluc</th>\n",
              "      <th>smoke</th>\n",
              "      <th>alco</th>\n",
              "      <th>active</th>\n",
              "      <th>cardio</th>\n",
              "      <th>pp</th>\n",
              "      <th>bmi</th>\n",
              "      <th>age_years</th>\n",
              "    </tr>\n",
              "  </thead>\n",
              "  <tbody>\n",
              "    <tr>\n",
              "      <th>0</th>\n",
              "      <td>0</td>\n",
              "      <td>18393</td>\n",
              "      <td>Female</td>\n",
              "      <td>168</td>\n",
              "      <td>62.0</td>\n",
              "      <td>110</td>\n",
              "      <td>80</td>\n",
              "      <td>Normal</td>\n",
              "      <td>Normal</td>\n",
              "      <td>Non-smoker</td>\n",
              "      <td>Non-drinker</td>\n",
              "      <td>Active</td>\n",
              "      <td>No CVD</td>\n",
              "      <td>30</td>\n",
              "      <td>21.97</td>\n",
              "      <td>50</td>\n",
              "    </tr>\n",
              "    <tr>\n",
              "      <th>1</th>\n",
              "      <td>1</td>\n",
              "      <td>20228</td>\n",
              "      <td>Male</td>\n",
              "      <td>156</td>\n",
              "      <td>85.0</td>\n",
              "      <td>140</td>\n",
              "      <td>90</td>\n",
              "      <td>Very high</td>\n",
              "      <td>Normal</td>\n",
              "      <td>Non-smoker</td>\n",
              "      <td>Non-drinker</td>\n",
              "      <td>Active</td>\n",
              "      <td>CVD</td>\n",
              "      <td>50</td>\n",
              "      <td>34.93</td>\n",
              "      <td>55</td>\n",
              "    </tr>\n",
              "    <tr>\n",
              "      <th>2</th>\n",
              "      <td>2</td>\n",
              "      <td>18857</td>\n",
              "      <td>Male</td>\n",
              "      <td>165</td>\n",
              "      <td>64.0</td>\n",
              "      <td>130</td>\n",
              "      <td>70</td>\n",
              "      <td>Very high</td>\n",
              "      <td>Normal</td>\n",
              "      <td>Non-smoker</td>\n",
              "      <td>Non-drinker</td>\n",
              "      <td>Inactive</td>\n",
              "      <td>CVD</td>\n",
              "      <td>60</td>\n",
              "      <td>23.51</td>\n",
              "      <td>52</td>\n",
              "    </tr>\n",
              "    <tr>\n",
              "      <th>3</th>\n",
              "      <td>3</td>\n",
              "      <td>17623</td>\n",
              "      <td>Female</td>\n",
              "      <td>169</td>\n",
              "      <td>82.0</td>\n",
              "      <td>150</td>\n",
              "      <td>100</td>\n",
              "      <td>Normal</td>\n",
              "      <td>Normal</td>\n",
              "      <td>Non-smoker</td>\n",
              "      <td>Non-drinker</td>\n",
              "      <td>Active</td>\n",
              "      <td>CVD</td>\n",
              "      <td>50</td>\n",
              "      <td>28.71</td>\n",
              "      <td>48</td>\n",
              "    </tr>\n",
              "    <tr>\n",
              "      <th>4</th>\n",
              "      <td>4</td>\n",
              "      <td>17474</td>\n",
              "      <td>Male</td>\n",
              "      <td>156</td>\n",
              "      <td>56.0</td>\n",
              "      <td>100</td>\n",
              "      <td>60</td>\n",
              "      <td>Normal</td>\n",
              "      <td>Normal</td>\n",
              "      <td>Non-smoker</td>\n",
              "      <td>Non-drinker</td>\n",
              "      <td>Inactive</td>\n",
              "      <td>No CVD</td>\n",
              "      <td>40</td>\n",
              "      <td>23.01</td>\n",
              "      <td>48</td>\n",
              "    </tr>\n",
              "  </tbody>\n",
              "</table>\n",
              "</div>"
            ],
            "text/plain": [
              "   id    age  gender  height  weight  ap_hi  ap_lo cholesterol    gluc  \\\n",
              "0   0  18393  Female     168    62.0    110     80      Normal  Normal   \n",
              "1   1  20228    Male     156    85.0    140     90   Very high  Normal   \n",
              "2   2  18857    Male     165    64.0    130     70   Very high  Normal   \n",
              "3   3  17623  Female     169    82.0    150    100      Normal  Normal   \n",
              "4   4  17474    Male     156    56.0    100     60      Normal  Normal   \n",
              "\n",
              "        smoke         alco    active  cardio  pp    bmi  age_years  \n",
              "0  Non-smoker  Non-drinker    Active  No CVD  30  21.97         50  \n",
              "1  Non-smoker  Non-drinker    Active     CVD  50  34.93         55  \n",
              "2  Non-smoker  Non-drinker  Inactive     CVD  60  23.51         52  \n",
              "3  Non-smoker  Non-drinker    Active     CVD  50  28.71         48  \n",
              "4  Non-smoker  Non-drinker  Inactive  No CVD  40  23.01         48  "
            ]
          },
          "execution_count": 9,
          "metadata": {},
          "output_type": "execute_result"
        }
      ],
      "source": [
        "'''Create new features: pulse pressure (pp), body mass index (bmi), age in years (age_years)'''\n",
        "df['pp'] = df['ap_hi'] - df['ap_lo']\n",
        "df['bmi'] = (df['weight'] / (df['height']/100)**2).round(2)\n",
        "df[\"age_years\"] = (df[\"age\"] / 365.25).round().astype(int)\n",
        "df.head()"
      ]
    },
    {
      "cell_type": "markdown",
      "metadata": {},
      "source": [
        "Updated Features Description\n",
        "\n",
        "|Name of feature|Description|Data type|\n",
        "| ----------- | ----------- | ----------- |\n",
        "|`id`|Unique identifier assigned to each person|Integer|\n",
        "|`age`|Age of the person in days|Integer|\n",
        "|`gender`|Gender of the person|Category|\n",
        "|`height`|Height of the person in cm|Integer|\n",
        "|`weight`|Weight of the person in kg|Float|\n",
        "|`ap_hi`|Systolic blood pressure reading|Integer|\n",
        "|`ap_lo`|Diastolic blood pressure reading|Integer|\n",
        "|`cholesterol`|Cholesterol level|Category|\n",
        "|`gluc`|Glucose level|Category|\n",
        "|`smoke`|Smoking status|Category|\n",
        "|`alco`|Alcohol status|Category|\n",
        "|`active`|Physical activity status|Category|\n",
        "|`cardio`|Presence of cardiovascular disease|Category|\n",
        "|`pp`|Pulse pressure|Integer|\n",
        "|`bmi`|Body Mass Index in kg/m²|Float|\n",
        "|`age_years`|Age of the person in years|Integer|\n"
      ]
    },
    {
      "cell_type": "markdown",
      "metadata": {},
      "source": [
        "## Identifying and handling outliers\n",
        "Basic distribution of numerical values can be found using `.describe()`. This will be done to the columns with numerical data values. The age demographic of the data consists of adults between 30 to 65 years old.\n",
        "\n",
        "The descriptive statistics indicate the presence of outliers and errors: \n",
        "- Minimum height and weight of 55 cm and 11 kg is implausible considering that the youngest individual in the dataset is 29 years old (10,798 days).\n",
        "- pulse pressure (pp) can not be negative as Systolic pressure can not be lower than Diastolic pressure. A typical range is 30–60 mmHg but pulse pressure higher than 100 mmHg is possible in individuals with medical conditions.\n",
        "- Lowest BMI is 3.47 kg/m² which is very likely an error as lowest ever recorded BMI is 6.7 kg/m².\n",
        "- Highest BMI is 298.67 kg/m² which also seems unlikely."
      ]
    },
    {
      "cell_type": "code",
      "execution_count": 10,
      "metadata": {},
      "outputs": [
        {
          "data": {
            "text/html": [
              "<div>\n",
              "<style scoped>\n",
              "    .dataframe tbody tr th:only-of-type {\n",
              "        vertical-align: middle;\n",
              "    }\n",
              "\n",
              "    .dataframe tbody tr th {\n",
              "        vertical-align: top;\n",
              "    }\n",
              "\n",
              "    .dataframe thead th {\n",
              "        text-align: right;\n",
              "    }\n",
              "</style>\n",
              "<table border=\"1\" class=\"dataframe\">\n",
              "  <thead>\n",
              "    <tr style=\"text-align: right;\">\n",
              "      <th></th>\n",
              "      <th>min</th>\n",
              "      <th>max</th>\n",
              "      <th>range</th>\n",
              "      <th>mean</th>\n",
              "      <th>50%</th>\n",
              "      <th>std</th>\n",
              "      <th>var</th>\n",
              "      <th>skew</th>\n",
              "      <th>kurtosis</th>\n",
              "    </tr>\n",
              "  </thead>\n",
              "  <tbody>\n",
              "    <tr>\n",
              "      <th>id</th>\n",
              "      <td>0.00</td>\n",
              "      <td>99999.00</td>\n",
              "      <td>99999.0</td>\n",
              "      <td>49969.66</td>\n",
              "      <td>50007.50</td>\n",
              "      <td>28844.51</td>\n",
              "      <td>8.320056e+08</td>\n",
              "      <td>-0.00</td>\n",
              "      <td>-1.20</td>\n",
              "    </tr>\n",
              "    <tr>\n",
              "      <th>age</th>\n",
              "      <td>10798.00</td>\n",
              "      <td>23713.00</td>\n",
              "      <td>12915.0</td>\n",
              "      <td>19464.34</td>\n",
              "      <td>19701.00</td>\n",
              "      <td>2468.21</td>\n",
              "      <td>6.092059e+06</td>\n",
              "      <td>-0.31</td>\n",
              "      <td>-0.83</td>\n",
              "    </tr>\n",
              "    <tr>\n",
              "      <th>height</th>\n",
              "      <td>55.00</td>\n",
              "      <td>250.00</td>\n",
              "      <td>195.0</td>\n",
              "      <td>164.36</td>\n",
              "      <td>165.00</td>\n",
              "      <td>8.18</td>\n",
              "      <td>6.699000e+01</td>\n",
              "      <td>-0.61</td>\n",
              "      <td>7.59</td>\n",
              "    </tr>\n",
              "    <tr>\n",
              "      <th>weight</th>\n",
              "      <td>11.00</td>\n",
              "      <td>200.00</td>\n",
              "      <td>189.0</td>\n",
              "      <td>74.12</td>\n",
              "      <td>72.00</td>\n",
              "      <td>14.33</td>\n",
              "      <td>2.054000e+02</td>\n",
              "      <td>1.01</td>\n",
              "      <td>2.56</td>\n",
              "    </tr>\n",
              "    <tr>\n",
              "      <th>ap_hi</th>\n",
              "      <td>60.00</td>\n",
              "      <td>240.00</td>\n",
              "      <td>180.0</td>\n",
              "      <td>126.61</td>\n",
              "      <td>120.00</td>\n",
              "      <td>16.75</td>\n",
              "      <td>2.804500e+02</td>\n",
              "      <td>0.90</td>\n",
              "      <td>1.83</td>\n",
              "    </tr>\n",
              "    <tr>\n",
              "      <th>ap_lo</th>\n",
              "      <td>30.00</td>\n",
              "      <td>150.00</td>\n",
              "      <td>120.0</td>\n",
              "      <td>81.35</td>\n",
              "      <td>80.00</td>\n",
              "      <td>9.57</td>\n",
              "      <td>9.154000e+01</td>\n",
              "      <td>0.43</td>\n",
              "      <td>2.24</td>\n",
              "    </tr>\n",
              "    <tr>\n",
              "      <th>pp</th>\n",
              "      <td>-60.00</td>\n",
              "      <td>140.00</td>\n",
              "      <td>200.0</td>\n",
              "      <td>45.26</td>\n",
              "      <td>40.00</td>\n",
              "      <td>12.08</td>\n",
              "      <td>1.459400e+02</td>\n",
              "      <td>0.73</td>\n",
              "      <td>6.49</td>\n",
              "    </tr>\n",
              "    <tr>\n",
              "      <th>bmi</th>\n",
              "      <td>3.47</td>\n",
              "      <td>298.67</td>\n",
              "      <td>295.2</td>\n",
              "      <td>27.52</td>\n",
              "      <td>26.35</td>\n",
              "      <td>6.05</td>\n",
              "      <td>3.661000e+01</td>\n",
              "      <td>7.79</td>\n",
              "      <td>227.24</td>\n",
              "    </tr>\n",
              "    <tr>\n",
              "      <th>age_years</th>\n",
              "      <td>30.00</td>\n",
              "      <td>65.00</td>\n",
              "      <td>35.0</td>\n",
              "      <td>53.29</td>\n",
              "      <td>54.00</td>\n",
              "      <td>6.76</td>\n",
              "      <td>4.574000e+01</td>\n",
              "      <td>-0.31</td>\n",
              "      <td>-0.82</td>\n",
              "    </tr>\n",
              "  </tbody>\n",
              "</table>\n",
              "</div>"
            ],
            "text/plain": [
              "                min       max    range      mean       50%       std  \\\n",
              "id             0.00  99999.00  99999.0  49969.66  50007.50  28844.51   \n",
              "age        10798.00  23713.00  12915.0  19464.34  19701.00   2468.21   \n",
              "height        55.00    250.00    195.0    164.36    165.00      8.18   \n",
              "weight        11.00    200.00    189.0     74.12     72.00     14.33   \n",
              "ap_hi         60.00    240.00    180.0    126.61    120.00     16.75   \n",
              "ap_lo         30.00    150.00    120.0     81.35     80.00      9.57   \n",
              "pp           -60.00    140.00    200.0     45.26     40.00     12.08   \n",
              "bmi            3.47    298.67    295.2     27.52     26.35      6.05   \n",
              "age_years     30.00     65.00     35.0     53.29     54.00      6.76   \n",
              "\n",
              "                    var  skew  kurtosis  \n",
              "id         8.320056e+08 -0.00     -1.20  \n",
              "age        6.092059e+06 -0.31     -0.83  \n",
              "height     6.699000e+01 -0.61      7.59  \n",
              "weight     2.054000e+02  1.01      2.56  \n",
              "ap_hi      2.804500e+02  0.90      1.83  \n",
              "ap_lo      9.154000e+01  0.43      2.24  \n",
              "pp         1.459400e+02  0.73      6.49  \n",
              "bmi        3.661000e+01  7.79    227.24  \n",
              "age_years  4.574000e+01 -0.31     -0.82  "
            ]
          },
          "execution_count": 10,
          "metadata": {},
          "output_type": "execute_result"
        }
      ],
      "source": [
        "'''Get a statistical summary of the numerical columns'''\n",
        "def stat_summary(dataframe):\n",
        "    desc = dataframe.describe().T\n",
        "    desc['range'] = desc['max'] - desc['min']\n",
        "    desc['var'] = dataframe.var()\n",
        "    desc['skew'] = dataframe.skew()\n",
        "    desc['kurtosis'] = dataframe.kurtosis()\n",
        "    cols = ['min', 'max', 'range', 'mean', '50%', 'std', 'var', 'skew', 'kurtosis']\n",
        "    return desc[cols].round(2)\n",
        "stat_summary(df.select_dtypes(exclude='category'))"
      ]
    },
    {
      "cell_type": "markdown",
      "metadata": {},
      "source": [
        "There are 86 entries with negative pulse pressure values. Since these results are impossible, they will be removed from the dataset."
      ]
    },
    {
      "cell_type": "code",
      "execution_count": 11,
      "metadata": {},
      "outputs": [
        {
          "data": {
            "text/html": [
              "<div>\n",
              "<style scoped>\n",
              "    .dataframe tbody tr th:only-of-type {\n",
              "        vertical-align: middle;\n",
              "    }\n",
              "\n",
              "    .dataframe tbody tr th {\n",
              "        vertical-align: top;\n",
              "    }\n",
              "\n",
              "    .dataframe thead th {\n",
              "        text-align: right;\n",
              "    }\n",
              "</style>\n",
              "<table border=\"1\" class=\"dataframe\">\n",
              "  <thead>\n",
              "    <tr style=\"text-align: right;\">\n",
              "      <th></th>\n",
              "      <th>id</th>\n",
              "      <th>age</th>\n",
              "      <th>gender</th>\n",
              "      <th>height</th>\n",
              "      <th>weight</th>\n",
              "      <th>ap_hi</th>\n",
              "      <th>ap_lo</th>\n",
              "      <th>cholesterol</th>\n",
              "      <th>gluc</th>\n",
              "      <th>smoke</th>\n",
              "      <th>alco</th>\n",
              "      <th>active</th>\n",
              "      <th>cardio</th>\n",
              "      <th>pp</th>\n",
              "      <th>bmi</th>\n",
              "      <th>age_years</th>\n",
              "    </tr>\n",
              "  </thead>\n",
              "  <tbody>\n",
              "    <tr>\n",
              "      <th>468</th>\n",
              "      <td>681</td>\n",
              "      <td>19099</td>\n",
              "      <td>Male</td>\n",
              "      <td>156</td>\n",
              "      <td>65.0</td>\n",
              "      <td>120</td>\n",
              "      <td>150</td>\n",
              "      <td>High</td>\n",
              "      <td>Normal</td>\n",
              "      <td>Non-smoker</td>\n",
              "      <td>Non-drinker</td>\n",
              "      <td>Active</td>\n",
              "      <td>No CVD</td>\n",
              "      <td>-30</td>\n",
              "      <td>26.71</td>\n",
              "      <td>52</td>\n",
              "    </tr>\n",
              "    <tr>\n",
              "      <th>627</th>\n",
              "      <td>913</td>\n",
              "      <td>20457</td>\n",
              "      <td>Female</td>\n",
              "      <td>169</td>\n",
              "      <td>68.0</td>\n",
              "      <td>70</td>\n",
              "      <td>110</td>\n",
              "      <td>Normal</td>\n",
              "      <td>Normal</td>\n",
              "      <td>Non-smoker</td>\n",
              "      <td>Non-drinker</td>\n",
              "      <td>Active</td>\n",
              "      <td>No CVD</td>\n",
              "      <td>-40</td>\n",
              "      <td>23.81</td>\n",
              "      <td>56</td>\n",
              "    </tr>\n",
              "    <tr>\n",
              "      <th>2341</th>\n",
              "      <td>3356</td>\n",
              "      <td>23361</td>\n",
              "      <td>Male</td>\n",
              "      <td>154</td>\n",
              "      <td>102.0</td>\n",
              "      <td>90</td>\n",
              "      <td>150</td>\n",
              "      <td>Normal</td>\n",
              "      <td>Normal</td>\n",
              "      <td>Non-smoker</td>\n",
              "      <td>Non-drinker</td>\n",
              "      <td>Inactive</td>\n",
              "      <td>CVD</td>\n",
              "      <td>-60</td>\n",
              "      <td>43.01</td>\n",
              "      <td>64</td>\n",
              "    </tr>\n",
              "    <tr>\n",
              "      <th>2930</th>\n",
              "      <td>4214</td>\n",
              "      <td>21957</td>\n",
              "      <td>Female</td>\n",
              "      <td>182</td>\n",
              "      <td>90.0</td>\n",
              "      <td>80</td>\n",
              "      <td>140</td>\n",
              "      <td>Very high</td>\n",
              "      <td>Very high</td>\n",
              "      <td>Non-smoker</td>\n",
              "      <td>Non-drinker</td>\n",
              "      <td>Active</td>\n",
              "      <td>CVD</td>\n",
              "      <td>-60</td>\n",
              "      <td>27.17</td>\n",
              "      <td>60</td>\n",
              "    </tr>\n",
              "    <tr>\n",
              "      <th>3382</th>\n",
              "      <td>4880</td>\n",
              "      <td>19992</td>\n",
              "      <td>Female</td>\n",
              "      <td>180</td>\n",
              "      <td>80.0</td>\n",
              "      <td>80</td>\n",
              "      <td>125</td>\n",
              "      <td>Very high</td>\n",
              "      <td>Very high</td>\n",
              "      <td>Smoker</td>\n",
              "      <td>Drinker</td>\n",
              "      <td>Active</td>\n",
              "      <td>CVD</td>\n",
              "      <td>-45</td>\n",
              "      <td>24.69</td>\n",
              "      <td>55</td>\n",
              "    </tr>\n",
              "    <tr>\n",
              "      <th>...</th>\n",
              "      <td>...</td>\n",
              "      <td>...</td>\n",
              "      <td>...</td>\n",
              "      <td>...</td>\n",
              "      <td>...</td>\n",
              "      <td>...</td>\n",
              "      <td>...</td>\n",
              "      <td>...</td>\n",
              "      <td>...</td>\n",
              "      <td>...</td>\n",
              "      <td>...</td>\n",
              "      <td>...</td>\n",
              "      <td>...</td>\n",
              "      <td>...</td>\n",
              "      <td>...</td>\n",
              "      <td>...</td>\n",
              "    </tr>\n",
              "    <tr>\n",
              "      <th>64604</th>\n",
              "      <td>93855</td>\n",
              "      <td>14375</td>\n",
              "      <td>Male</td>\n",
              "      <td>165</td>\n",
              "      <td>65.0</td>\n",
              "      <td>80</td>\n",
              "      <td>120</td>\n",
              "      <td>Normal</td>\n",
              "      <td>Normal</td>\n",
              "      <td>Non-smoker</td>\n",
              "      <td>Non-drinker</td>\n",
              "      <td>Active</td>\n",
              "      <td>No CVD</td>\n",
              "      <td>-40</td>\n",
              "      <td>23.88</td>\n",
              "      <td>39</td>\n",
              "    </tr>\n",
              "    <tr>\n",
              "      <th>65491</th>\n",
              "      <td>95164</td>\n",
              "      <td>19498</td>\n",
              "      <td>Female</td>\n",
              "      <td>160</td>\n",
              "      <td>81.0</td>\n",
              "      <td>80</td>\n",
              "      <td>120</td>\n",
              "      <td>Very high</td>\n",
              "      <td>Very high</td>\n",
              "      <td>Smoker</td>\n",
              "      <td>Drinker</td>\n",
              "      <td>Active</td>\n",
              "      <td>CVD</td>\n",
              "      <td>-40</td>\n",
              "      <td>31.64</td>\n",
              "      <td>53</td>\n",
              "    </tr>\n",
              "    <tr>\n",
              "      <th>66235</th>\n",
              "      <td>96271</td>\n",
              "      <td>23424</td>\n",
              "      <td>Male</td>\n",
              "      <td>153</td>\n",
              "      <td>74.0</td>\n",
              "      <td>80</td>\n",
              "      <td>130</td>\n",
              "      <td>Normal</td>\n",
              "      <td>Normal</td>\n",
              "      <td>Non-smoker</td>\n",
              "      <td>Non-drinker</td>\n",
              "      <td>Active</td>\n",
              "      <td>CVD</td>\n",
              "      <td>-50</td>\n",
              "      <td>31.61</td>\n",
              "      <td>64</td>\n",
              "    </tr>\n",
              "    <tr>\n",
              "      <th>66284</th>\n",
              "      <td>96339</td>\n",
              "      <td>21193</td>\n",
              "      <td>Female</td>\n",
              "      <td>172</td>\n",
              "      <td>57.0</td>\n",
              "      <td>80</td>\n",
              "      <td>120</td>\n",
              "      <td>Normal</td>\n",
              "      <td>Normal</td>\n",
              "      <td>Smoker</td>\n",
              "      <td>Non-drinker</td>\n",
              "      <td>Active</td>\n",
              "      <td>CVD</td>\n",
              "      <td>-40</td>\n",
              "      <td>19.27</td>\n",
              "      <td>58</td>\n",
              "    </tr>\n",
              "    <tr>\n",
              "      <th>66873</th>\n",
              "      <td>97210</td>\n",
              "      <td>18421</td>\n",
              "      <td>Male</td>\n",
              "      <td>152</td>\n",
              "      <td>65.0</td>\n",
              "      <td>80</td>\n",
              "      <td>120</td>\n",
              "      <td>Normal</td>\n",
              "      <td>Normal</td>\n",
              "      <td>Non-smoker</td>\n",
              "      <td>Non-drinker</td>\n",
              "      <td>Active</td>\n",
              "      <td>No CVD</td>\n",
              "      <td>-40</td>\n",
              "      <td>28.13</td>\n",
              "      <td>50</td>\n",
              "    </tr>\n",
              "  </tbody>\n",
              "</table>\n",
              "<p>86 rows × 16 columns</p>\n",
              "</div>"
            ],
            "text/plain": [
              "          id    age  gender  height  weight  ap_hi  ap_lo cholesterol  \\\n",
              "468      681  19099    Male     156    65.0    120    150        High   \n",
              "627      913  20457  Female     169    68.0     70    110      Normal   \n",
              "2341    3356  23361    Male     154   102.0     90    150      Normal   \n",
              "2930    4214  21957  Female     182    90.0     80    140   Very high   \n",
              "3382    4880  19992  Female     180    80.0     80    125   Very high   \n",
              "...      ...    ...     ...     ...     ...    ...    ...         ...   \n",
              "64604  93855  14375    Male     165    65.0     80    120      Normal   \n",
              "65491  95164  19498  Female     160    81.0     80    120   Very high   \n",
              "66235  96271  23424    Male     153    74.0     80    130      Normal   \n",
              "66284  96339  21193  Female     172    57.0     80    120      Normal   \n",
              "66873  97210  18421    Male     152    65.0     80    120      Normal   \n",
              "\n",
              "            gluc       smoke         alco    active  cardio  pp    bmi  \\\n",
              "468       Normal  Non-smoker  Non-drinker    Active  No CVD -30  26.71   \n",
              "627       Normal  Non-smoker  Non-drinker    Active  No CVD -40  23.81   \n",
              "2341      Normal  Non-smoker  Non-drinker  Inactive     CVD -60  43.01   \n",
              "2930   Very high  Non-smoker  Non-drinker    Active     CVD -60  27.17   \n",
              "3382   Very high      Smoker      Drinker    Active     CVD -45  24.69   \n",
              "...          ...         ...          ...       ...     ...  ..    ...   \n",
              "64604     Normal  Non-smoker  Non-drinker    Active  No CVD -40  23.88   \n",
              "65491  Very high      Smoker      Drinker    Active     CVD -40  31.64   \n",
              "66235     Normal  Non-smoker  Non-drinker    Active     CVD -50  31.61   \n",
              "66284     Normal      Smoker  Non-drinker    Active     CVD -40  19.27   \n",
              "66873     Normal  Non-smoker  Non-drinker    Active  No CVD -40  28.13   \n",
              "\n",
              "       age_years  \n",
              "468           52  \n",
              "627           56  \n",
              "2341          64  \n",
              "2930          60  \n",
              "3382          55  \n",
              "...          ...  \n",
              "64604         39  \n",
              "65491         53  \n",
              "66235         64  \n",
              "66284         58  \n",
              "66873         50  \n",
              "\n",
              "[86 rows x 16 columns]"
            ]
          },
          "execution_count": 11,
          "metadata": {},
          "output_type": "execute_result"
        }
      ],
      "source": [
        "df[df['pp'] < 0]"
      ]
    },
    {
      "cell_type": "markdown",
      "metadata": {},
      "source": [
        "Pulse pressure of 0 is impossible, and any pulse pressure below 10 is implausable. A pulse pressure of less than 25 mmHg is already considered to be dangerously low and requires medical evaluation."
      ]
    },
    {
      "cell_type": "code",
      "execution_count": 12,
      "metadata": {},
      "outputs": [
        {
          "data": {
            "text/html": [
              "<div>\n",
              "<style scoped>\n",
              "    .dataframe tbody tr th:only-of-type {\n",
              "        vertical-align: middle;\n",
              "    }\n",
              "\n",
              "    .dataframe tbody tr th {\n",
              "        vertical-align: top;\n",
              "    }\n",
              "\n",
              "    .dataframe thead th {\n",
              "        text-align: right;\n",
              "    }\n",
              "</style>\n",
              "<table border=\"1\" class=\"dataframe\">\n",
              "  <thead>\n",
              "    <tr style=\"text-align: right;\">\n",
              "      <th></th>\n",
              "      <th>id</th>\n",
              "      <th>age</th>\n",
              "      <th>gender</th>\n",
              "      <th>height</th>\n",
              "      <th>weight</th>\n",
              "      <th>ap_hi</th>\n",
              "      <th>ap_lo</th>\n",
              "      <th>cholesterol</th>\n",
              "      <th>gluc</th>\n",
              "      <th>smoke</th>\n",
              "      <th>alco</th>\n",
              "      <th>active</th>\n",
              "      <th>cardio</th>\n",
              "      <th>pp</th>\n",
              "      <th>bmi</th>\n",
              "      <th>age_years</th>\n",
              "    </tr>\n",
              "  </thead>\n",
              "  <tbody>\n",
              "    <tr>\n",
              "      <th>468</th>\n",
              "      <td>681</td>\n",
              "      <td>19099</td>\n",
              "      <td>Male</td>\n",
              "      <td>156</td>\n",
              "      <td>65.0</td>\n",
              "      <td>120</td>\n",
              "      <td>150</td>\n",
              "      <td>High</td>\n",
              "      <td>Normal</td>\n",
              "      <td>Non-smoker</td>\n",
              "      <td>Non-drinker</td>\n",
              "      <td>Active</td>\n",
              "      <td>No CVD</td>\n",
              "      <td>-30</td>\n",
              "      <td>26.71</td>\n",
              "      <td>52</td>\n",
              "    </tr>\n",
              "    <tr>\n",
              "      <th>627</th>\n",
              "      <td>913</td>\n",
              "      <td>20457</td>\n",
              "      <td>Female</td>\n",
              "      <td>169</td>\n",
              "      <td>68.0</td>\n",
              "      <td>70</td>\n",
              "      <td>110</td>\n",
              "      <td>Normal</td>\n",
              "      <td>Normal</td>\n",
              "      <td>Non-smoker</td>\n",
              "      <td>Non-drinker</td>\n",
              "      <td>Active</td>\n",
              "      <td>No CVD</td>\n",
              "      <td>-40</td>\n",
              "      <td>23.81</td>\n",
              "      <td>56</td>\n",
              "    </tr>\n",
              "    <tr>\n",
              "      <th>2341</th>\n",
              "      <td>3356</td>\n",
              "      <td>23361</td>\n",
              "      <td>Male</td>\n",
              "      <td>154</td>\n",
              "      <td>102.0</td>\n",
              "      <td>90</td>\n",
              "      <td>150</td>\n",
              "      <td>Normal</td>\n",
              "      <td>Normal</td>\n",
              "      <td>Non-smoker</td>\n",
              "      <td>Non-drinker</td>\n",
              "      <td>Inactive</td>\n",
              "      <td>CVD</td>\n",
              "      <td>-60</td>\n",
              "      <td>43.01</td>\n",
              "      <td>64</td>\n",
              "    </tr>\n",
              "    <tr>\n",
              "      <th>2930</th>\n",
              "      <td>4214</td>\n",
              "      <td>21957</td>\n",
              "      <td>Female</td>\n",
              "      <td>182</td>\n",
              "      <td>90.0</td>\n",
              "      <td>80</td>\n",
              "      <td>140</td>\n",
              "      <td>Very high</td>\n",
              "      <td>Very high</td>\n",
              "      <td>Non-smoker</td>\n",
              "      <td>Non-drinker</td>\n",
              "      <td>Active</td>\n",
              "      <td>CVD</td>\n",
              "      <td>-60</td>\n",
              "      <td>27.17</td>\n",
              "      <td>60</td>\n",
              "    </tr>\n",
              "    <tr>\n",
              "      <th>3382</th>\n",
              "      <td>4880</td>\n",
              "      <td>19992</td>\n",
              "      <td>Female</td>\n",
              "      <td>180</td>\n",
              "      <td>80.0</td>\n",
              "      <td>80</td>\n",
              "      <td>125</td>\n",
              "      <td>Very high</td>\n",
              "      <td>Very high</td>\n",
              "      <td>Smoker</td>\n",
              "      <td>Drinker</td>\n",
              "      <td>Active</td>\n",
              "      <td>CVD</td>\n",
              "      <td>-45</td>\n",
              "      <td>24.69</td>\n",
              "      <td>55</td>\n",
              "    </tr>\n",
              "    <tr>\n",
              "      <th>...</th>\n",
              "      <td>...</td>\n",
              "      <td>...</td>\n",
              "      <td>...</td>\n",
              "      <td>...</td>\n",
              "      <td>...</td>\n",
              "      <td>...</td>\n",
              "      <td>...</td>\n",
              "      <td>...</td>\n",
              "      <td>...</td>\n",
              "      <td>...</td>\n",
              "      <td>...</td>\n",
              "      <td>...</td>\n",
              "      <td>...</td>\n",
              "      <td>...</td>\n",
              "      <td>...</td>\n",
              "      <td>...</td>\n",
              "    </tr>\n",
              "    <tr>\n",
              "      <th>64604</th>\n",
              "      <td>93855</td>\n",
              "      <td>14375</td>\n",
              "      <td>Male</td>\n",
              "      <td>165</td>\n",
              "      <td>65.0</td>\n",
              "      <td>80</td>\n",
              "      <td>120</td>\n",
              "      <td>Normal</td>\n",
              "      <td>Normal</td>\n",
              "      <td>Non-smoker</td>\n",
              "      <td>Non-drinker</td>\n",
              "      <td>Active</td>\n",
              "      <td>No CVD</td>\n",
              "      <td>-40</td>\n",
              "      <td>23.88</td>\n",
              "      <td>39</td>\n",
              "    </tr>\n",
              "    <tr>\n",
              "      <th>65491</th>\n",
              "      <td>95164</td>\n",
              "      <td>19498</td>\n",
              "      <td>Female</td>\n",
              "      <td>160</td>\n",
              "      <td>81.0</td>\n",
              "      <td>80</td>\n",
              "      <td>120</td>\n",
              "      <td>Very high</td>\n",
              "      <td>Very high</td>\n",
              "      <td>Smoker</td>\n",
              "      <td>Drinker</td>\n",
              "      <td>Active</td>\n",
              "      <td>CVD</td>\n",
              "      <td>-40</td>\n",
              "      <td>31.64</td>\n",
              "      <td>53</td>\n",
              "    </tr>\n",
              "    <tr>\n",
              "      <th>66235</th>\n",
              "      <td>96271</td>\n",
              "      <td>23424</td>\n",
              "      <td>Male</td>\n",
              "      <td>153</td>\n",
              "      <td>74.0</td>\n",
              "      <td>80</td>\n",
              "      <td>130</td>\n",
              "      <td>Normal</td>\n",
              "      <td>Normal</td>\n",
              "      <td>Non-smoker</td>\n",
              "      <td>Non-drinker</td>\n",
              "      <td>Active</td>\n",
              "      <td>CVD</td>\n",
              "      <td>-50</td>\n",
              "      <td>31.61</td>\n",
              "      <td>64</td>\n",
              "    </tr>\n",
              "    <tr>\n",
              "      <th>66284</th>\n",
              "      <td>96339</td>\n",
              "      <td>21193</td>\n",
              "      <td>Female</td>\n",
              "      <td>172</td>\n",
              "      <td>57.0</td>\n",
              "      <td>80</td>\n",
              "      <td>120</td>\n",
              "      <td>Normal</td>\n",
              "      <td>Normal</td>\n",
              "      <td>Smoker</td>\n",
              "      <td>Non-drinker</td>\n",
              "      <td>Active</td>\n",
              "      <td>CVD</td>\n",
              "      <td>-40</td>\n",
              "      <td>19.27</td>\n",
              "      <td>58</td>\n",
              "    </tr>\n",
              "    <tr>\n",
              "      <th>66873</th>\n",
              "      <td>97210</td>\n",
              "      <td>18421</td>\n",
              "      <td>Male</td>\n",
              "      <td>152</td>\n",
              "      <td>65.0</td>\n",
              "      <td>80</td>\n",
              "      <td>120</td>\n",
              "      <td>Normal</td>\n",
              "      <td>Normal</td>\n",
              "      <td>Non-smoker</td>\n",
              "      <td>Non-drinker</td>\n",
              "      <td>Active</td>\n",
              "      <td>No CVD</td>\n",
              "      <td>-40</td>\n",
              "      <td>28.13</td>\n",
              "      <td>50</td>\n",
              "    </tr>\n",
              "  </tbody>\n",
              "</table>\n",
              "<p>90 rows × 16 columns</p>\n",
              "</div>"
            ],
            "text/plain": [
              "          id    age  gender  height  weight  ap_hi  ap_lo cholesterol  \\\n",
              "468      681  19099    Male     156    65.0    120    150        High   \n",
              "627      913  20457  Female     169    68.0     70    110      Normal   \n",
              "2341    3356  23361    Male     154   102.0     90    150      Normal   \n",
              "2930    4214  21957  Female     182    90.0     80    140   Very high   \n",
              "3382    4880  19992  Female     180    80.0     80    125   Very high   \n",
              "...      ...    ...     ...     ...     ...    ...    ...         ...   \n",
              "64604  93855  14375    Male     165    65.0     80    120      Normal   \n",
              "65491  95164  19498  Female     160    81.0     80    120   Very high   \n",
              "66235  96271  23424    Male     153    74.0     80    130      Normal   \n",
              "66284  96339  21193  Female     172    57.0     80    120      Normal   \n",
              "66873  97210  18421    Male     152    65.0     80    120      Normal   \n",
              "\n",
              "            gluc       smoke         alco    active  cardio  pp    bmi  \\\n",
              "468       Normal  Non-smoker  Non-drinker    Active  No CVD -30  26.71   \n",
              "627       Normal  Non-smoker  Non-drinker    Active  No CVD -40  23.81   \n",
              "2341      Normal  Non-smoker  Non-drinker  Inactive     CVD -60  43.01   \n",
              "2930   Very high  Non-smoker  Non-drinker    Active     CVD -60  27.17   \n",
              "3382   Very high      Smoker      Drinker    Active     CVD -45  24.69   \n",
              "...          ...         ...          ...       ...     ...  ..    ...   \n",
              "64604     Normal  Non-smoker  Non-drinker    Active  No CVD -40  23.88   \n",
              "65491  Very high      Smoker      Drinker    Active     CVD -40  31.64   \n",
              "66235     Normal  Non-smoker  Non-drinker    Active     CVD -50  31.61   \n",
              "66284     Normal      Smoker  Non-drinker    Active     CVD -40  19.27   \n",
              "66873     Normal  Non-smoker  Non-drinker    Active  No CVD -40  28.13   \n",
              "\n",
              "       age_years  \n",
              "468           52  \n",
              "627           56  \n",
              "2341          64  \n",
              "2930          60  \n",
              "3382          55  \n",
              "...          ...  \n",
              "64604         39  \n",
              "65491         53  \n",
              "66235         64  \n",
              "66284         58  \n",
              "66873         50  \n",
              "\n",
              "[90 rows x 16 columns]"
            ]
          },
          "execution_count": 12,
          "metadata": {},
          "output_type": "execute_result"
        }
      ],
      "source": [
        "df[df['pp']<10]"
      ]
    },
    {
      "cell_type": "code",
      "execution_count": 13,
      "metadata": {},
      "outputs": [
        {
          "data": {
            "text/plain": [
              "(68678, 16)"
            ]
          },
          "execution_count": 13,
          "metadata": {},
          "output_type": "execute_result"
        }
      ],
      "source": [
        "'''Removing entries with negative pulse pressure values and implausibly low pulse pressure values'''\n",
        "df = df[df['pp'] >= 10]\n",
        "df.shape"
      ]
    },
    {
      "cell_type": "markdown",
      "metadata": {},
      "source": [
        "The extremely low BMI Values are likely due to incorrect weight measurements. Its unrealistic for adults to have weights of below 30 kg, especially considering the height of the entries. "
      ]
    },
    {
      "cell_type": "code",
      "execution_count": 14,
      "metadata": {},
      "outputs": [
        {
          "data": {
            "text/html": [
              "<div>\n",
              "<style scoped>\n",
              "    .dataframe tbody tr th:only-of-type {\n",
              "        vertical-align: middle;\n",
              "    }\n",
              "\n",
              "    .dataframe tbody tr th {\n",
              "        vertical-align: top;\n",
              "    }\n",
              "\n",
              "    .dataframe thead th {\n",
              "        text-align: right;\n",
              "    }\n",
              "</style>\n",
              "<table border=\"1\" class=\"dataframe\">\n",
              "  <thead>\n",
              "    <tr style=\"text-align: right;\">\n",
              "      <th></th>\n",
              "      <th>id</th>\n",
              "      <th>age</th>\n",
              "      <th>gender</th>\n",
              "      <th>height</th>\n",
              "      <th>weight</th>\n",
              "      <th>ap_hi</th>\n",
              "      <th>ap_lo</th>\n",
              "      <th>cholesterol</th>\n",
              "      <th>gluc</th>\n",
              "      <th>smoke</th>\n",
              "      <th>alco</th>\n",
              "      <th>active</th>\n",
              "      <th>cardio</th>\n",
              "      <th>pp</th>\n",
              "      <th>bmi</th>\n",
              "      <th>age_years</th>\n",
              "    </tr>\n",
              "  </thead>\n",
              "  <tbody>\n",
              "    <tr>\n",
              "      <th>26331</th>\n",
              "      <td>38312</td>\n",
              "      <td>23284</td>\n",
              "      <td>Male</td>\n",
              "      <td>157</td>\n",
              "      <td>23.0</td>\n",
              "      <td>110</td>\n",
              "      <td>80</td>\n",
              "      <td>Normal</td>\n",
              "      <td>Normal</td>\n",
              "      <td>Non-smoker</td>\n",
              "      <td>Non-drinker</td>\n",
              "      <td>Active</td>\n",
              "      <td>No CVD</td>\n",
              "      <td>30</td>\n",
              "      <td>9.33</td>\n",
              "      <td>64</td>\n",
              "    </tr>\n",
              "    <tr>\n",
              "      <th>28967</th>\n",
              "      <td>42156</td>\n",
              "      <td>20408</td>\n",
              "      <td>Female</td>\n",
              "      <td>177</td>\n",
              "      <td>22.0</td>\n",
              "      <td>120</td>\n",
              "      <td>80</td>\n",
              "      <td>Normal</td>\n",
              "      <td>Normal</td>\n",
              "      <td>Smoker</td>\n",
              "      <td>Drinker</td>\n",
              "      <td>Active</td>\n",
              "      <td>No CVD</td>\n",
              "      <td>40</td>\n",
              "      <td>7.02</td>\n",
              "      <td>56</td>\n",
              "    </tr>\n",
              "    <tr>\n",
              "      <th>33222</th>\n",
              "      <td>48318</td>\n",
              "      <td>21582</td>\n",
              "      <td>Female</td>\n",
              "      <td>178</td>\n",
              "      <td>11.0</td>\n",
              "      <td>130</td>\n",
              "      <td>90</td>\n",
              "      <td>Normal</td>\n",
              "      <td>Normal</td>\n",
              "      <td>Non-smoker</td>\n",
              "      <td>Non-drinker</td>\n",
              "      <td>Active</td>\n",
              "      <td>CVD</td>\n",
              "      <td>40</td>\n",
              "      <td>3.47</td>\n",
              "      <td>59</td>\n",
              "    </tr>\n",
              "    <tr>\n",
              "      <th>59138</th>\n",
              "      <td>85931</td>\n",
              "      <td>21855</td>\n",
              "      <td>Male</td>\n",
              "      <td>162</td>\n",
              "      <td>21.0</td>\n",
              "      <td>120</td>\n",
              "      <td>80</td>\n",
              "      <td>High</td>\n",
              "      <td>Normal</td>\n",
              "      <td>Non-smoker</td>\n",
              "      <td>Non-drinker</td>\n",
              "      <td>Active</td>\n",
              "      <td>CVD</td>\n",
              "      <td>40</td>\n",
              "      <td>8.00</td>\n",
              "      <td>60</td>\n",
              "    </tr>\n",
              "    <tr>\n",
              "      <th>59636</th>\n",
              "      <td>86650</td>\n",
              "      <td>18875</td>\n",
              "      <td>Male</td>\n",
              "      <td>171</td>\n",
              "      <td>29.0</td>\n",
              "      <td>110</td>\n",
              "      <td>70</td>\n",
              "      <td>High</td>\n",
              "      <td>Normal</td>\n",
              "      <td>Non-smoker</td>\n",
              "      <td>Non-drinker</td>\n",
              "      <td>Active</td>\n",
              "      <td>CVD</td>\n",
              "      <td>40</td>\n",
              "      <td>9.92</td>\n",
              "      <td>52</td>\n",
              "    </tr>\n",
              "  </tbody>\n",
              "</table>\n",
              "</div>"
            ],
            "text/plain": [
              "          id    age  gender  height  weight  ap_hi  ap_lo cholesterol    gluc  \\\n",
              "26331  38312  23284    Male     157    23.0    110     80      Normal  Normal   \n",
              "28967  42156  20408  Female     177    22.0    120     80      Normal  Normal   \n",
              "33222  48318  21582  Female     178    11.0    130     90      Normal  Normal   \n",
              "59138  85931  21855    Male     162    21.0    120     80        High  Normal   \n",
              "59636  86650  18875    Male     171    29.0    110     70        High  Normal   \n",
              "\n",
              "            smoke         alco  active  cardio  pp   bmi  age_years  \n",
              "26331  Non-smoker  Non-drinker  Active  No CVD  30  9.33         64  \n",
              "28967      Smoker      Drinker  Active  No CVD  40  7.02         56  \n",
              "33222  Non-smoker  Non-drinker  Active     CVD  40  3.47         59  \n",
              "59138  Non-smoker  Non-drinker  Active     CVD  40  8.00         60  \n",
              "59636  Non-smoker  Non-drinker  Active     CVD  40  9.92         52  "
            ]
          },
          "execution_count": 14,
          "metadata": {},
          "output_type": "execute_result"
        }
      ],
      "source": [
        "df[df['bmi']<10]"
      ]
    },
    {
      "cell_type": "markdown",
      "metadata": {},
      "source": [
        "A BMI above 40 kg/m² is classified as [class III (severe) obesity](https://www.nhs.uk/conditions/obesity/). Values exceeding 60 kg/m² are more likely the result of data entry errors rather than genuine outliers. Upon inspecting these abnormally high BMI values, many entries have heights below 100 cm, which is highly unlikely for adults, even for individuals with restricted growth conditions. This further supports the idea that the high BMI values are likely caused by incorrect height or weight measurements and should be removed."
      ]
    },
    {
      "cell_type": "code",
      "execution_count": 15,
      "metadata": {},
      "outputs": [
        {
          "data": {
            "text/html": [
              "<div>\n",
              "<style scoped>\n",
              "    .dataframe tbody tr th:only-of-type {\n",
              "        vertical-align: middle;\n",
              "    }\n",
              "\n",
              "    .dataframe tbody tr th {\n",
              "        vertical-align: top;\n",
              "    }\n",
              "\n",
              "    .dataframe thead th {\n",
              "        text-align: right;\n",
              "    }\n",
              "</style>\n",
              "<table border=\"1\" class=\"dataframe\">\n",
              "  <thead>\n",
              "    <tr style=\"text-align: right;\">\n",
              "      <th></th>\n",
              "      <th>id</th>\n",
              "      <th>age</th>\n",
              "      <th>gender</th>\n",
              "      <th>height</th>\n",
              "      <th>weight</th>\n",
              "      <th>ap_hi</th>\n",
              "      <th>ap_lo</th>\n",
              "      <th>cholesterol</th>\n",
              "      <th>gluc</th>\n",
              "      <th>smoke</th>\n",
              "      <th>alco</th>\n",
              "      <th>active</th>\n",
              "      <th>cardio</th>\n",
              "      <th>pp</th>\n",
              "      <th>bmi</th>\n",
              "      <th>age_years</th>\n",
              "    </tr>\n",
              "  </thead>\n",
              "  <tbody>\n",
              "    <tr>\n",
              "      <th>38846</th>\n",
              "      <td>56496</td>\n",
              "      <td>14606</td>\n",
              "      <td>Male</td>\n",
              "      <td>108</td>\n",
              "      <td>70.0</td>\n",
              "      <td>140</td>\n",
              "      <td>90</td>\n",
              "      <td>Normal</td>\n",
              "      <td>Normal</td>\n",
              "      <td>Non-smoker</td>\n",
              "      <td>Non-drinker</td>\n",
              "      <td>Active</td>\n",
              "      <td>CVD</td>\n",
              "      <td>50</td>\n",
              "      <td>60.01</td>\n",
              "      <td>40</td>\n",
              "    </tr>\n",
              "    <tr>\n",
              "      <th>63520</th>\n",
              "      <td>92301</td>\n",
              "      <td>21705</td>\n",
              "      <td>Male</td>\n",
              "      <td>169</td>\n",
              "      <td>172.0</td>\n",
              "      <td>120</td>\n",
              "      <td>70</td>\n",
              "      <td>High</td>\n",
              "      <td>Normal</td>\n",
              "      <td>Non-smoker</td>\n",
              "      <td>Non-drinker</td>\n",
              "      <td>Active</td>\n",
              "      <td>No CVD</td>\n",
              "      <td>50</td>\n",
              "      <td>60.22</td>\n",
              "      <td>59</td>\n",
              "    </tr>\n",
              "    <tr>\n",
              "      <th>14418</th>\n",
              "      <td>20970</td>\n",
              "      <td>21135</td>\n",
              "      <td>Male</td>\n",
              "      <td>159</td>\n",
              "      <td>153.0</td>\n",
              "      <td>120</td>\n",
              "      <td>80</td>\n",
              "      <td>Normal</td>\n",
              "      <td>Normal</td>\n",
              "      <td>Non-smoker</td>\n",
              "      <td>Non-drinker</td>\n",
              "      <td>Active</td>\n",
              "      <td>CVD</td>\n",
              "      <td>40</td>\n",
              "      <td>60.52</td>\n",
              "      <td>58</td>\n",
              "    </tr>\n",
              "    <tr>\n",
              "      <th>41704</th>\n",
              "      <td>60631</td>\n",
              "      <td>19450</td>\n",
              "      <td>Male</td>\n",
              "      <td>160</td>\n",
              "      <td>155.0</td>\n",
              "      <td>120</td>\n",
              "      <td>80</td>\n",
              "      <td>Normal</td>\n",
              "      <td>Normal</td>\n",
              "      <td>Non-smoker</td>\n",
              "      <td>Non-drinker</td>\n",
              "      <td>Active</td>\n",
              "      <td>CVD</td>\n",
              "      <td>40</td>\n",
              "      <td>60.55</td>\n",
              "      <td>53</td>\n",
              "    </tr>\n",
              "    <tr>\n",
              "      <th>41116</th>\n",
              "      <td>59768</td>\n",
              "      <td>20464</td>\n",
              "      <td>Male</td>\n",
              "      <td>164</td>\n",
              "      <td>164.0</td>\n",
              "      <td>140</td>\n",
              "      <td>90</td>\n",
              "      <td>Very high</td>\n",
              "      <td>Very high</td>\n",
              "      <td>Non-smoker</td>\n",
              "      <td>Non-drinker</td>\n",
              "      <td>Active</td>\n",
              "      <td>CVD</td>\n",
              "      <td>50</td>\n",
              "      <td>60.98</td>\n",
              "      <td>56</td>\n",
              "    </tr>\n",
              "    <tr>\n",
              "      <th>...</th>\n",
              "      <td>...</td>\n",
              "      <td>...</td>\n",
              "      <td>...</td>\n",
              "      <td>...</td>\n",
              "      <td>...</td>\n",
              "      <td>...</td>\n",
              "      <td>...</td>\n",
              "      <td>...</td>\n",
              "      <td>...</td>\n",
              "      <td>...</td>\n",
              "      <td>...</td>\n",
              "      <td>...</td>\n",
              "      <td>...</td>\n",
              "      <td>...</td>\n",
              "      <td>...</td>\n",
              "      <td>...</td>\n",
              "    </tr>\n",
              "    <tr>\n",
              "      <th>28639</th>\n",
              "      <td>41661</td>\n",
              "      <td>19088</td>\n",
              "      <td>Male</td>\n",
              "      <td>60</td>\n",
              "      <td>69.0</td>\n",
              "      <td>110</td>\n",
              "      <td>70</td>\n",
              "      <td>Normal</td>\n",
              "      <td>Normal</td>\n",
              "      <td>Non-smoker</td>\n",
              "      <td>Non-drinker</td>\n",
              "      <td>Inactive</td>\n",
              "      <td>No CVD</td>\n",
              "      <td>40</td>\n",
              "      <td>191.67</td>\n",
              "      <td>52</td>\n",
              "    </tr>\n",
              "    <tr>\n",
              "      <th>23492</th>\n",
              "      <td>34186</td>\n",
              "      <td>19074</td>\n",
              "      <td>Male</td>\n",
              "      <td>81</td>\n",
              "      <td>156.0</td>\n",
              "      <td>140</td>\n",
              "      <td>90</td>\n",
              "      <td>Normal</td>\n",
              "      <td>Normal</td>\n",
              "      <td>Non-smoker</td>\n",
              "      <td>Non-drinker</td>\n",
              "      <td>Active</td>\n",
              "      <td>No CVD</td>\n",
              "      <td>50</td>\n",
              "      <td>237.77</td>\n",
              "      <td>52</td>\n",
              "    </tr>\n",
              "    <tr>\n",
              "      <th>22321</th>\n",
              "      <td>32456</td>\n",
              "      <td>23386</td>\n",
              "      <td>Male</td>\n",
              "      <td>55</td>\n",
              "      <td>81.0</td>\n",
              "      <td>130</td>\n",
              "      <td>90</td>\n",
              "      <td>Normal</td>\n",
              "      <td>Normal</td>\n",
              "      <td>Non-smoker</td>\n",
              "      <td>Non-drinker</td>\n",
              "      <td>Active</td>\n",
              "      <td>CVD</td>\n",
              "      <td>40</td>\n",
              "      <td>267.77</td>\n",
              "      <td>64</td>\n",
              "    </tr>\n",
              "    <tr>\n",
              "      <th>26900</th>\n",
              "      <td>39156</td>\n",
              "      <td>15292</td>\n",
              "      <td>Male</td>\n",
              "      <td>80</td>\n",
              "      <td>178.0</td>\n",
              "      <td>140</td>\n",
              "      <td>90</td>\n",
              "      <td>Very high</td>\n",
              "      <td>Very high</td>\n",
              "      <td>Non-smoker</td>\n",
              "      <td>Non-drinker</td>\n",
              "      <td>Active</td>\n",
              "      <td>CVD</td>\n",
              "      <td>50</td>\n",
              "      <td>278.12</td>\n",
              "      <td>42</td>\n",
              "    </tr>\n",
              "    <tr>\n",
              "      <th>12544</th>\n",
              "      <td>18218</td>\n",
              "      <td>19594</td>\n",
              "      <td>Male</td>\n",
              "      <td>75</td>\n",
              "      <td>168.0</td>\n",
              "      <td>120</td>\n",
              "      <td>80</td>\n",
              "      <td>Normal</td>\n",
              "      <td>Normal</td>\n",
              "      <td>Smoker</td>\n",
              "      <td>Non-drinker</td>\n",
              "      <td>Active</td>\n",
              "      <td>CVD</td>\n",
              "      <td>40</td>\n",
              "      <td>298.67</td>\n",
              "      <td>54</td>\n",
              "    </tr>\n",
              "  </tbody>\n",
              "</table>\n",
              "<p>61 rows × 16 columns</p>\n",
              "</div>"
            ],
            "text/plain": [
              "          id    age gender  height  weight  ap_hi  ap_lo cholesterol  \\\n",
              "38846  56496  14606   Male     108    70.0    140     90      Normal   \n",
              "63520  92301  21705   Male     169   172.0    120     70        High   \n",
              "14418  20970  21135   Male     159   153.0    120     80      Normal   \n",
              "41704  60631  19450   Male     160   155.0    120     80      Normal   \n",
              "41116  59768  20464   Male     164   164.0    140     90   Very high   \n",
              "...      ...    ...    ...     ...     ...    ...    ...         ...   \n",
              "28639  41661  19088   Male      60    69.0    110     70      Normal   \n",
              "23492  34186  19074   Male      81   156.0    140     90      Normal   \n",
              "22321  32456  23386   Male      55    81.0    130     90      Normal   \n",
              "26900  39156  15292   Male      80   178.0    140     90   Very high   \n",
              "12544  18218  19594   Male      75   168.0    120     80      Normal   \n",
              "\n",
              "            gluc       smoke         alco    active  cardio  pp     bmi  \\\n",
              "38846     Normal  Non-smoker  Non-drinker    Active     CVD  50   60.01   \n",
              "63520     Normal  Non-smoker  Non-drinker    Active  No CVD  50   60.22   \n",
              "14418     Normal  Non-smoker  Non-drinker    Active     CVD  40   60.52   \n",
              "41704     Normal  Non-smoker  Non-drinker    Active     CVD  40   60.55   \n",
              "41116  Very high  Non-smoker  Non-drinker    Active     CVD  50   60.98   \n",
              "...          ...         ...          ...       ...     ...  ..     ...   \n",
              "28639     Normal  Non-smoker  Non-drinker  Inactive  No CVD  40  191.67   \n",
              "23492     Normal  Non-smoker  Non-drinker    Active  No CVD  50  237.77   \n",
              "22321     Normal  Non-smoker  Non-drinker    Active     CVD  40  267.77   \n",
              "26900  Very high  Non-smoker  Non-drinker    Active     CVD  50  278.12   \n",
              "12544     Normal      Smoker  Non-drinker    Active     CVD  40  298.67   \n",
              "\n",
              "       age_years  \n",
              "38846         40  \n",
              "63520         59  \n",
              "14418         58  \n",
              "41704         53  \n",
              "41116         56  \n",
              "...          ...  \n",
              "28639         52  \n",
              "23492         52  \n",
              "22321         64  \n",
              "26900         42  \n",
              "12544         54  \n",
              "\n",
              "[61 rows x 16 columns]"
            ]
          },
          "execution_count": 15,
          "metadata": {},
          "output_type": "execute_result"
        }
      ],
      "source": [
        "'''Inspecting extremely high BMI values'''\n",
        "df[df['bmi']>60].sort_values(by='bmi')"
      ]
    },
    {
      "cell_type": "markdown",
      "metadata": {},
      "source": [
        "To maintain data quality, BMI values were limited to the range 10–60. This removes implausible entries likely due to data errors while preserving plausible extreme values. Values beyond this range are unrealistic for adults aged 30–65."
      ]
    },
    {
      "cell_type": "code",
      "execution_count": 16,
      "metadata": {},
      "outputs": [
        {
          "data": {
            "text/html": [
              "<div>\n",
              "<style scoped>\n",
              "    .dataframe tbody tr th:only-of-type {\n",
              "        vertical-align: middle;\n",
              "    }\n",
              "\n",
              "    .dataframe tbody tr th {\n",
              "        vertical-align: top;\n",
              "    }\n",
              "\n",
              "    .dataframe thead th {\n",
              "        text-align: right;\n",
              "    }\n",
              "</style>\n",
              "<table border=\"1\" class=\"dataframe\">\n",
              "  <thead>\n",
              "    <tr style=\"text-align: right;\">\n",
              "      <th></th>\n",
              "      <th>id</th>\n",
              "      <th>age</th>\n",
              "      <th>gender</th>\n",
              "      <th>height</th>\n",
              "      <th>weight</th>\n",
              "      <th>ap_hi</th>\n",
              "      <th>ap_lo</th>\n",
              "      <th>cholesterol</th>\n",
              "      <th>gluc</th>\n",
              "      <th>smoke</th>\n",
              "      <th>alco</th>\n",
              "      <th>active</th>\n",
              "      <th>cardio</th>\n",
              "      <th>pp</th>\n",
              "      <th>bmi</th>\n",
              "      <th>age_years</th>\n",
              "    </tr>\n",
              "  </thead>\n",
              "  <tbody>\n",
              "    <tr>\n",
              "      <th>0</th>\n",
              "      <td>0</td>\n",
              "      <td>18393</td>\n",
              "      <td>Female</td>\n",
              "      <td>168</td>\n",
              "      <td>62.0</td>\n",
              "      <td>110</td>\n",
              "      <td>80</td>\n",
              "      <td>Normal</td>\n",
              "      <td>Normal</td>\n",
              "      <td>Non-smoker</td>\n",
              "      <td>Non-drinker</td>\n",
              "      <td>Active</td>\n",
              "      <td>No CVD</td>\n",
              "      <td>30</td>\n",
              "      <td>21.97</td>\n",
              "      <td>50</td>\n",
              "    </tr>\n",
              "    <tr>\n",
              "      <th>1</th>\n",
              "      <td>1</td>\n",
              "      <td>20228</td>\n",
              "      <td>Male</td>\n",
              "      <td>156</td>\n",
              "      <td>85.0</td>\n",
              "      <td>140</td>\n",
              "      <td>90</td>\n",
              "      <td>Very high</td>\n",
              "      <td>Normal</td>\n",
              "      <td>Non-smoker</td>\n",
              "      <td>Non-drinker</td>\n",
              "      <td>Active</td>\n",
              "      <td>CVD</td>\n",
              "      <td>50</td>\n",
              "      <td>34.93</td>\n",
              "      <td>55</td>\n",
              "    </tr>\n",
              "    <tr>\n",
              "      <th>2</th>\n",
              "      <td>2</td>\n",
              "      <td>18857</td>\n",
              "      <td>Male</td>\n",
              "      <td>165</td>\n",
              "      <td>64.0</td>\n",
              "      <td>130</td>\n",
              "      <td>70</td>\n",
              "      <td>Very high</td>\n",
              "      <td>Normal</td>\n",
              "      <td>Non-smoker</td>\n",
              "      <td>Non-drinker</td>\n",
              "      <td>Inactive</td>\n",
              "      <td>CVD</td>\n",
              "      <td>60</td>\n",
              "      <td>23.51</td>\n",
              "      <td>52</td>\n",
              "    </tr>\n",
              "    <tr>\n",
              "      <th>3</th>\n",
              "      <td>3</td>\n",
              "      <td>17623</td>\n",
              "      <td>Female</td>\n",
              "      <td>169</td>\n",
              "      <td>82.0</td>\n",
              "      <td>150</td>\n",
              "      <td>100</td>\n",
              "      <td>Normal</td>\n",
              "      <td>Normal</td>\n",
              "      <td>Non-smoker</td>\n",
              "      <td>Non-drinker</td>\n",
              "      <td>Active</td>\n",
              "      <td>CVD</td>\n",
              "      <td>50</td>\n",
              "      <td>28.71</td>\n",
              "      <td>48</td>\n",
              "    </tr>\n",
              "    <tr>\n",
              "      <th>4</th>\n",
              "      <td>4</td>\n",
              "      <td>17474</td>\n",
              "      <td>Male</td>\n",
              "      <td>156</td>\n",
              "      <td>56.0</td>\n",
              "      <td>100</td>\n",
              "      <td>60</td>\n",
              "      <td>Normal</td>\n",
              "      <td>Normal</td>\n",
              "      <td>Non-smoker</td>\n",
              "      <td>Non-drinker</td>\n",
              "      <td>Inactive</td>\n",
              "      <td>No CVD</td>\n",
              "      <td>40</td>\n",
              "      <td>23.01</td>\n",
              "      <td>48</td>\n",
              "    </tr>\n",
              "    <tr>\n",
              "      <th>...</th>\n",
              "      <td>...</td>\n",
              "      <td>...</td>\n",
              "      <td>...</td>\n",
              "      <td>...</td>\n",
              "      <td>...</td>\n",
              "      <td>...</td>\n",
              "      <td>...</td>\n",
              "      <td>...</td>\n",
              "      <td>...</td>\n",
              "      <td>...</td>\n",
              "      <td>...</td>\n",
              "      <td>...</td>\n",
              "      <td>...</td>\n",
              "      <td>...</td>\n",
              "      <td>...</td>\n",
              "      <td>...</td>\n",
              "    </tr>\n",
              "    <tr>\n",
              "      <th>68763</th>\n",
              "      <td>99993</td>\n",
              "      <td>19240</td>\n",
              "      <td>Female</td>\n",
              "      <td>168</td>\n",
              "      <td>76.0</td>\n",
              "      <td>120</td>\n",
              "      <td>80</td>\n",
              "      <td>Normal</td>\n",
              "      <td>Normal</td>\n",
              "      <td>Smoker</td>\n",
              "      <td>Non-drinker</td>\n",
              "      <td>Active</td>\n",
              "      <td>No CVD</td>\n",
              "      <td>40</td>\n",
              "      <td>26.93</td>\n",
              "      <td>53</td>\n",
              "    </tr>\n",
              "    <tr>\n",
              "      <th>68764</th>\n",
              "      <td>99995</td>\n",
              "      <td>22601</td>\n",
              "      <td>Male</td>\n",
              "      <td>158</td>\n",
              "      <td>126.0</td>\n",
              "      <td>140</td>\n",
              "      <td>90</td>\n",
              "      <td>High</td>\n",
              "      <td>High</td>\n",
              "      <td>Non-smoker</td>\n",
              "      <td>Non-drinker</td>\n",
              "      <td>Active</td>\n",
              "      <td>CVD</td>\n",
              "      <td>50</td>\n",
              "      <td>50.47</td>\n",
              "      <td>62</td>\n",
              "    </tr>\n",
              "    <tr>\n",
              "      <th>68765</th>\n",
              "      <td>99996</td>\n",
              "      <td>19066</td>\n",
              "      <td>Female</td>\n",
              "      <td>183</td>\n",
              "      <td>105.0</td>\n",
              "      <td>180</td>\n",
              "      <td>90</td>\n",
              "      <td>Very high</td>\n",
              "      <td>Normal</td>\n",
              "      <td>Non-smoker</td>\n",
              "      <td>Drinker</td>\n",
              "      <td>Inactive</td>\n",
              "      <td>CVD</td>\n",
              "      <td>90</td>\n",
              "      <td>31.35</td>\n",
              "      <td>52</td>\n",
              "    </tr>\n",
              "    <tr>\n",
              "      <th>68766</th>\n",
              "      <td>99998</td>\n",
              "      <td>22431</td>\n",
              "      <td>Male</td>\n",
              "      <td>163</td>\n",
              "      <td>72.0</td>\n",
              "      <td>135</td>\n",
              "      <td>80</td>\n",
              "      <td>Normal</td>\n",
              "      <td>High</td>\n",
              "      <td>Non-smoker</td>\n",
              "      <td>Non-drinker</td>\n",
              "      <td>Inactive</td>\n",
              "      <td>CVD</td>\n",
              "      <td>55</td>\n",
              "      <td>27.10</td>\n",
              "      <td>61</td>\n",
              "    </tr>\n",
              "    <tr>\n",
              "      <th>68767</th>\n",
              "      <td>99999</td>\n",
              "      <td>20540</td>\n",
              "      <td>Male</td>\n",
              "      <td>170</td>\n",
              "      <td>72.0</td>\n",
              "      <td>120</td>\n",
              "      <td>80</td>\n",
              "      <td>High</td>\n",
              "      <td>Normal</td>\n",
              "      <td>Non-smoker</td>\n",
              "      <td>Non-drinker</td>\n",
              "      <td>Active</td>\n",
              "      <td>No CVD</td>\n",
              "      <td>40</td>\n",
              "      <td>24.91</td>\n",
              "      <td>56</td>\n",
              "    </tr>\n",
              "  </tbody>\n",
              "</table>\n",
              "<p>68612 rows × 16 columns</p>\n",
              "</div>"
            ],
            "text/plain": [
              "          id    age  gender  height  weight  ap_hi  ap_lo cholesterol    gluc  \\\n",
              "0          0  18393  Female     168    62.0    110     80      Normal  Normal   \n",
              "1          1  20228    Male     156    85.0    140     90   Very high  Normal   \n",
              "2          2  18857    Male     165    64.0    130     70   Very high  Normal   \n",
              "3          3  17623  Female     169    82.0    150    100      Normal  Normal   \n",
              "4          4  17474    Male     156    56.0    100     60      Normal  Normal   \n",
              "...      ...    ...     ...     ...     ...    ...    ...         ...     ...   \n",
              "68763  99993  19240  Female     168    76.0    120     80      Normal  Normal   \n",
              "68764  99995  22601    Male     158   126.0    140     90        High    High   \n",
              "68765  99996  19066  Female     183   105.0    180     90   Very high  Normal   \n",
              "68766  99998  22431    Male     163    72.0    135     80      Normal    High   \n",
              "68767  99999  20540    Male     170    72.0    120     80        High  Normal   \n",
              "\n",
              "            smoke         alco    active  cardio  pp    bmi  age_years  \n",
              "0      Non-smoker  Non-drinker    Active  No CVD  30  21.97         50  \n",
              "1      Non-smoker  Non-drinker    Active     CVD  50  34.93         55  \n",
              "2      Non-smoker  Non-drinker  Inactive     CVD  60  23.51         52  \n",
              "3      Non-smoker  Non-drinker    Active     CVD  50  28.71         48  \n",
              "4      Non-smoker  Non-drinker  Inactive  No CVD  40  23.01         48  \n",
              "...           ...          ...       ...     ...  ..    ...        ...  \n",
              "68763      Smoker  Non-drinker    Active  No CVD  40  26.93         53  \n",
              "68764  Non-smoker  Non-drinker    Active     CVD  50  50.47         62  \n",
              "68765  Non-smoker      Drinker  Inactive     CVD  90  31.35         52  \n",
              "68766  Non-smoker  Non-drinker  Inactive     CVD  55  27.10         61  \n",
              "68767  Non-smoker  Non-drinker    Active  No CVD  40  24.91         56  \n",
              "\n",
              "[68612 rows x 16 columns]"
            ]
          },
          "execution_count": 16,
          "metadata": {},
          "output_type": "execute_result"
        }
      ],
      "source": [
        "'''Removing BMI outliers'''\n",
        "df = df[(df['bmi'] <= 60) & (df['bmi'] >= 10)]\n",
        "df"
      ]
    },
    {
      "cell_type": "markdown",
      "metadata": {},
      "source": [
        "Whilst heights of below 130 cm seems unlikely in adults, it is plausable for thoses with [restricted growth conditions](https://www.nhs.uk/conditions/restricted-growth/). Therefore these entries will be kept. "
      ]
    },
    {
      "cell_type": "code",
      "execution_count": 17,
      "metadata": {},
      "outputs": [
        {
          "data": {
            "text/html": [
              "<div>\n",
              "<style scoped>\n",
              "    .dataframe tbody tr th:only-of-type {\n",
              "        vertical-align: middle;\n",
              "    }\n",
              "\n",
              "    .dataframe tbody tr th {\n",
              "        vertical-align: top;\n",
              "    }\n",
              "\n",
              "    .dataframe thead th {\n",
              "        text-align: right;\n",
              "    }\n",
              "</style>\n",
              "<table border=\"1\" class=\"dataframe\">\n",
              "  <thead>\n",
              "    <tr style=\"text-align: right;\">\n",
              "      <th></th>\n",
              "      <th>id</th>\n",
              "      <th>age</th>\n",
              "      <th>height</th>\n",
              "      <th>weight</th>\n",
              "      <th>ap_hi</th>\n",
              "      <th>ap_lo</th>\n",
              "      <th>pp</th>\n",
              "      <th>bmi</th>\n",
              "      <th>age_years</th>\n",
              "    </tr>\n",
              "  </thead>\n",
              "  <tbody>\n",
              "    <tr>\n",
              "      <th>count</th>\n",
              "      <td>46.00</td>\n",
              "      <td>46.00</td>\n",
              "      <td>46.00</td>\n",
              "      <td>46.00</td>\n",
              "      <td>46.00</td>\n",
              "      <td>46.00</td>\n",
              "      <td>46.00</td>\n",
              "      <td>46.00</td>\n",
              "      <td>46.00</td>\n",
              "    </tr>\n",
              "    <tr>\n",
              "      <th>mean</th>\n",
              "      <td>57050.67</td>\n",
              "      <td>18853.70</td>\n",
              "      <td>118.24</td>\n",
              "      <td>72.70</td>\n",
              "      <td>120.65</td>\n",
              "      <td>77.39</td>\n",
              "      <td>43.26</td>\n",
              "      <td>52.27</td>\n",
              "      <td>51.54</td>\n",
              "    </tr>\n",
              "    <tr>\n",
              "      <th>std</th>\n",
              "      <td>29288.79</td>\n",
              "      <td>2607.13</td>\n",
              "      <td>5.13</td>\n",
              "      <td>11.98</td>\n",
              "      <td>9.04</td>\n",
              "      <td>7.13</td>\n",
              "      <td>6.34</td>\n",
              "      <td>8.95</td>\n",
              "      <td>7.11</td>\n",
              "    </tr>\n",
              "    <tr>\n",
              "      <th>min</th>\n",
              "      <td>5278.00</td>\n",
              "      <td>14445.00</td>\n",
              "      <td>100.00</td>\n",
              "      <td>28.00</td>\n",
              "      <td>100.00</td>\n",
              "      <td>60.00</td>\n",
              "      <td>40.00</td>\n",
              "      <td>17.09</td>\n",
              "      <td>40.00</td>\n",
              "    </tr>\n",
              "    <tr>\n",
              "      <th>25%</th>\n",
              "      <td>33591.50</td>\n",
              "      <td>17071.75</td>\n",
              "      <td>120.00</td>\n",
              "      <td>70.00</td>\n",
              "      <td>120.00</td>\n",
              "      <td>70.00</td>\n",
              "      <td>40.00</td>\n",
              "      <td>54.52</td>\n",
              "      <td>46.50</td>\n",
              "    </tr>\n",
              "    <tr>\n",
              "      <th>50%</th>\n",
              "      <td>64626.00</td>\n",
              "      <td>18976.00</td>\n",
              "      <td>120.00</td>\n",
              "      <td>80.00</td>\n",
              "      <td>120.00</td>\n",
              "      <td>80.00</td>\n",
              "      <td>40.00</td>\n",
              "      <td>55.56</td>\n",
              "      <td>52.00</td>\n",
              "    </tr>\n",
              "    <tr>\n",
              "      <th>75%</th>\n",
              "      <td>82360.75</td>\n",
              "      <td>20693.75</td>\n",
              "      <td>120.00</td>\n",
              "      <td>80.00</td>\n",
              "      <td>120.00</td>\n",
              "      <td>80.00</td>\n",
              "      <td>40.00</td>\n",
              "      <td>55.56</td>\n",
              "      <td>56.75</td>\n",
              "    </tr>\n",
              "    <tr>\n",
              "      <th>max</th>\n",
              "      <td>98630.00</td>\n",
              "      <td>23422.00</td>\n",
              "      <td>128.00</td>\n",
              "      <td>80.00</td>\n",
              "      <td>150.00</td>\n",
              "      <td>90.00</td>\n",
              "      <td>60.00</td>\n",
              "      <td>60.00</td>\n",
              "      <td>64.00</td>\n",
              "    </tr>\n",
              "  </tbody>\n",
              "</table>\n",
              "</div>"
            ],
            "text/plain": [
              "             id       age  height  weight   ap_hi  ap_lo     pp    bmi  \\\n",
              "count     46.00     46.00   46.00   46.00   46.00  46.00  46.00  46.00   \n",
              "mean   57050.67  18853.70  118.24   72.70  120.65  77.39  43.26  52.27   \n",
              "std    29288.79   2607.13    5.13   11.98    9.04   7.13   6.34   8.95   \n",
              "min     5278.00  14445.00  100.00   28.00  100.00  60.00  40.00  17.09   \n",
              "25%    33591.50  17071.75  120.00   70.00  120.00  70.00  40.00  54.52   \n",
              "50%    64626.00  18976.00  120.00   80.00  120.00  80.00  40.00  55.56   \n",
              "75%    82360.75  20693.75  120.00   80.00  120.00  80.00  40.00  55.56   \n",
              "max    98630.00  23422.00  128.00   80.00  150.00  90.00  60.00  60.00   \n",
              "\n",
              "       age_years  \n",
              "count      46.00  \n",
              "mean       51.54  \n",
              "std         7.11  \n",
              "min        40.00  \n",
              "25%        46.50  \n",
              "50%        52.00  \n",
              "75%        56.75  \n",
              "max        64.00  "
            ]
          },
          "execution_count": 17,
          "metadata": {},
          "output_type": "execute_result"
        }
      ],
      "source": [
        "'''Inspecting extremely low height values'''\n",
        "(df[df['height']<130]\n",
        " .select_dtypes(exclude='category')\n",
        " .describe()\n",
        " .round(2)\n",
        " )"
      ]
    },
    {
      "cell_type": "markdown",
      "metadata": {},
      "source": [
        "Load Transformed Data"
      ]
    },
    {
      "cell_type": "code",
      "execution_count": 18,
      "metadata": {},
      "outputs": [],
      "source": [
        "'''Save dataframe as CSV'''\n",
        "df.to_csv('data/processed/processed_heart_data.csv', index=False)"
      ]
    },
    {
      "cell_type": "markdown",
      "metadata": {},
      "source": [
        "## Descriptive Analysis\n",
        "\n",
        "A statistical summary of the numerical features shows that most variables have acceptable skew and kurtosis values. Pulse pressure, however, shows a slightly high kurtosis, suggesting some outliers still present."
      ]
    },
    {
      "cell_type": "code",
      "execution_count": 19,
      "metadata": {},
      "outputs": [
        {
          "data": {
            "text/html": [
              "<div>\n",
              "<style scoped>\n",
              "    .dataframe tbody tr th:only-of-type {\n",
              "        vertical-align: middle;\n",
              "    }\n",
              "\n",
              "    .dataframe tbody tr th {\n",
              "        vertical-align: top;\n",
              "    }\n",
              "\n",
              "    .dataframe thead th {\n",
              "        text-align: right;\n",
              "    }\n",
              "</style>\n",
              "<table border=\"1\" class=\"dataframe\">\n",
              "  <thead>\n",
              "    <tr style=\"text-align: right;\">\n",
              "      <th></th>\n",
              "      <th>min</th>\n",
              "      <th>max</th>\n",
              "      <th>range</th>\n",
              "      <th>mean</th>\n",
              "      <th>50%</th>\n",
              "      <th>std</th>\n",
              "      <th>var</th>\n",
              "      <th>skew</th>\n",
              "      <th>kurtosis</th>\n",
              "    </tr>\n",
              "  </thead>\n",
              "  <tbody>\n",
              "    <tr>\n",
              "      <th>id</th>\n",
              "      <td>0.00</td>\n",
              "      <td>99999.0</td>\n",
              "      <td>99999.00</td>\n",
              "      <td>49975.68</td>\n",
              "      <td>50016.50</td>\n",
              "      <td>28844.58</td>\n",
              "      <td>8.320096e+08</td>\n",
              "      <td>-0.00</td>\n",
              "      <td>-1.20</td>\n",
              "    </tr>\n",
              "    <tr>\n",
              "      <th>age</th>\n",
              "      <td>10798.00</td>\n",
              "      <td>23713.0</td>\n",
              "      <td>12915.00</td>\n",
              "      <td>19464.32</td>\n",
              "      <td>19701.00</td>\n",
              "      <td>2468.13</td>\n",
              "      <td>6.091687e+06</td>\n",
              "      <td>-0.31</td>\n",
              "      <td>-0.83</td>\n",
              "    </tr>\n",
              "    <tr>\n",
              "      <th>height</th>\n",
              "      <td>100.00</td>\n",
              "      <td>250.0</td>\n",
              "      <td>150.00</td>\n",
              "      <td>164.41</td>\n",
              "      <td>165.00</td>\n",
              "      <td>7.94</td>\n",
              "      <td>6.306000e+01</td>\n",
              "      <td>0.00</td>\n",
              "      <td>1.06</td>\n",
              "    </tr>\n",
              "    <tr>\n",
              "      <th>weight</th>\n",
              "      <td>28.00</td>\n",
              "      <td>200.0</td>\n",
              "      <td>172.00</td>\n",
              "      <td>74.09</td>\n",
              "      <td>72.00</td>\n",
              "      <td>14.21</td>\n",
              "      <td>2.020200e+02</td>\n",
              "      <td>0.94</td>\n",
              "      <td>2.04</td>\n",
              "    </tr>\n",
              "    <tr>\n",
              "      <th>ap_hi</th>\n",
              "      <td>60.00</td>\n",
              "      <td>240.0</td>\n",
              "      <td>180.00</td>\n",
              "      <td>126.67</td>\n",
              "      <td>120.00</td>\n",
              "      <td>16.68</td>\n",
              "      <td>2.780900e+02</td>\n",
              "      <td>0.93</td>\n",
              "      <td>1.83</td>\n",
              "    </tr>\n",
              "    <tr>\n",
              "      <th>ap_lo</th>\n",
              "      <td>30.00</td>\n",
              "      <td>150.0</td>\n",
              "      <td>120.00</td>\n",
              "      <td>81.29</td>\n",
              "      <td>80.00</td>\n",
              "      <td>9.43</td>\n",
              "      <td>8.901000e+01</td>\n",
              "      <td>0.30</td>\n",
              "      <td>1.64</td>\n",
              "    </tr>\n",
              "    <tr>\n",
              "      <th>pp</th>\n",
              "      <td>10.00</td>\n",
              "      <td>140.0</td>\n",
              "      <td>130.00</td>\n",
              "      <td>45.37</td>\n",
              "      <td>40.00</td>\n",
              "      <td>11.67</td>\n",
              "      <td>1.362300e+02</td>\n",
              "      <td>1.32</td>\n",
              "      <td>3.59</td>\n",
              "    </tr>\n",
              "    <tr>\n",
              "      <th>bmi</th>\n",
              "      <td>10.73</td>\n",
              "      <td>60.0</td>\n",
              "      <td>49.27</td>\n",
              "      <td>27.45</td>\n",
              "      <td>26.35</td>\n",
              "      <td>5.21</td>\n",
              "      <td>2.716000e+01</td>\n",
              "      <td>1.19</td>\n",
              "      <td>2.43</td>\n",
              "    </tr>\n",
              "    <tr>\n",
              "      <th>age_years</th>\n",
              "      <td>30.00</td>\n",
              "      <td>65.0</td>\n",
              "      <td>35.00</td>\n",
              "      <td>53.29</td>\n",
              "      <td>54.00</td>\n",
              "      <td>6.76</td>\n",
              "      <td>4.573000e+01</td>\n",
              "      <td>-0.31</td>\n",
              "      <td>-0.82</td>\n",
              "    </tr>\n",
              "  </tbody>\n",
              "</table>\n",
              "</div>"
            ],
            "text/plain": [
              "                min      max     range      mean       50%       std  \\\n",
              "id             0.00  99999.0  99999.00  49975.68  50016.50  28844.58   \n",
              "age        10798.00  23713.0  12915.00  19464.32  19701.00   2468.13   \n",
              "height       100.00    250.0    150.00    164.41    165.00      7.94   \n",
              "weight        28.00    200.0    172.00     74.09     72.00     14.21   \n",
              "ap_hi         60.00    240.0    180.00    126.67    120.00     16.68   \n",
              "ap_lo         30.00    150.0    120.00     81.29     80.00      9.43   \n",
              "pp            10.00    140.0    130.00     45.37     40.00     11.67   \n",
              "bmi           10.73     60.0     49.27     27.45     26.35      5.21   \n",
              "age_years     30.00     65.0     35.00     53.29     54.00      6.76   \n",
              "\n",
              "                    var  skew  kurtosis  \n",
              "id         8.320096e+08 -0.00     -1.20  \n",
              "age        6.091687e+06 -0.31     -0.83  \n",
              "height     6.306000e+01  0.00      1.06  \n",
              "weight     2.020200e+02  0.94      2.04  \n",
              "ap_hi      2.780900e+02  0.93      1.83  \n",
              "ap_lo      8.901000e+01  0.30      1.64  \n",
              "pp         1.362300e+02  1.32      3.59  \n",
              "bmi        2.716000e+01  1.19      2.43  \n",
              "age_years  4.573000e+01 -0.31     -0.82  "
            ]
          },
          "execution_count": 19,
          "metadata": {},
          "output_type": "execute_result"
        }
      ],
      "source": [
        "'''Statistical summary of numerical values after outlier removal'''\n",
        "stat_summary(df.select_dtypes(exclude='category'))"
      ]
    },
    {
      "cell_type": "code",
      "execution_count": 20,
      "metadata": {},
      "outputs": [
        {
          "data": {
            "image/png": "[encoded data removed]",
            "text/plain": [
              "<Figure size 1200x600 with 1 Axes>"
            ]
          },
          "metadata": {},
          "output_type": "display_data"
        }
      ],
      "source": [
        "''' Plot boxplots for numerical features to visualize distributions'''\n",
        "numeric_cols = ['age_years', 'height', 'weight', 'ap_hi', 'ap_lo', 'pp', 'bmi']\n",
        "list_of_data = []\n",
        "plt.figure(figsize=(12,6))\n",
        "for col in numeric_cols:\n",
        "  list_of_data.append(df[col])\n",
        "\n",
        "plt.boxplot(x=list_of_data)\n",
        "plt.xticks(np.arange(1,len(numeric_cols)+1), numeric_cols)\n",
        "plt.show()"
      ]
    },
    {
      "cell_type": "code",
      "execution_count": 21,
      "metadata": {},
      "outputs": [
        {
          "data": {
            "text/html": [
              "<div>\n",
              "<style scoped>\n",
              "    .dataframe tbody tr th:only-of-type {\n",
              "        vertical-align: middle;\n",
              "    }\n",
              "\n",
              "    .dataframe tbody tr th {\n",
              "        vertical-align: top;\n",
              "    }\n",
              "\n",
              "    .dataframe thead th {\n",
              "        text-align: right;\n",
              "    }\n",
              "</style>\n",
              "<table border=\"1\" class=\"dataframe\">\n",
              "  <thead>\n",
              "    <tr style=\"text-align: right;\">\n",
              "      <th></th>\n",
              "      <th>col</th>\n",
              "      <th>value</th>\n",
              "      <th>count</th>\n",
              "      <th>percent</th>\n",
              "    </tr>\n",
              "  </thead>\n",
              "  <tbody>\n",
              "    <tr>\n",
              "      <th>0</th>\n",
              "      <td>gender</td>\n",
              "      <td>Male</td>\n",
              "      <td>44686</td>\n",
              "      <td>65.13</td>\n",
              "    </tr>\n",
              "    <tr>\n",
              "      <th>1</th>\n",
              "      <td>gender</td>\n",
              "      <td>Female</td>\n",
              "      <td>23926</td>\n",
              "      <td>34.87</td>\n",
              "    </tr>\n",
              "    <tr>\n",
              "      <th>2</th>\n",
              "      <td>cholesterol</td>\n",
              "      <td>Normal</td>\n",
              "      <td>51451</td>\n",
              "      <td>74.99</td>\n",
              "    </tr>\n",
              "    <tr>\n",
              "      <th>3</th>\n",
              "      <td>cholesterol</td>\n",
              "      <td>High</td>\n",
              "      <td>9296</td>\n",
              "      <td>13.55</td>\n",
              "    </tr>\n",
              "    <tr>\n",
              "      <th>4</th>\n",
              "      <td>cholesterol</td>\n",
              "      <td>Very high</td>\n",
              "      <td>7865</td>\n",
              "      <td>11.46</td>\n",
              "    </tr>\n",
              "    <tr>\n",
              "      <th>5</th>\n",
              "      <td>gluc</td>\n",
              "      <td>Normal</td>\n",
              "      <td>58336</td>\n",
              "      <td>85.02</td>\n",
              "    </tr>\n",
              "    <tr>\n",
              "      <th>6</th>\n",
              "      <td>gluc</td>\n",
              "      <td>Very high</td>\n",
              "      <td>5212</td>\n",
              "      <td>7.60</td>\n",
              "    </tr>\n",
              "    <tr>\n",
              "      <th>7</th>\n",
              "      <td>gluc</td>\n",
              "      <td>High</td>\n",
              "      <td>5064</td>\n",
              "      <td>7.38</td>\n",
              "    </tr>\n",
              "    <tr>\n",
              "      <th>8</th>\n",
              "      <td>smoke</td>\n",
              "      <td>Non-smoker</td>\n",
              "      <td>62577</td>\n",
              "      <td>91.20</td>\n",
              "    </tr>\n",
              "    <tr>\n",
              "      <th>9</th>\n",
              "      <td>smoke</td>\n",
              "      <td>Smoker</td>\n",
              "      <td>6035</td>\n",
              "      <td>8.80</td>\n",
              "    </tr>\n",
              "    <tr>\n",
              "      <th>10</th>\n",
              "      <td>alco</td>\n",
              "      <td>Non-drinker</td>\n",
              "      <td>64953</td>\n",
              "      <td>94.67</td>\n",
              "    </tr>\n",
              "    <tr>\n",
              "      <th>11</th>\n",
              "      <td>alco</td>\n",
              "      <td>Drinker</td>\n",
              "      <td>3659</td>\n",
              "      <td>5.33</td>\n",
              "    </tr>\n",
              "    <tr>\n",
              "      <th>12</th>\n",
              "      <td>active</td>\n",
              "      <td>Active</td>\n",
              "      <td>55118</td>\n",
              "      <td>80.33</td>\n",
              "    </tr>\n",
              "    <tr>\n",
              "      <th>13</th>\n",
              "      <td>active</td>\n",
              "      <td>Inactive</td>\n",
              "      <td>13494</td>\n",
              "      <td>19.67</td>\n",
              "    </tr>\n",
              "    <tr>\n",
              "      <th>14</th>\n",
              "      <td>cardio</td>\n",
              "      <td>No CVD</td>\n",
              "      <td>34669</td>\n",
              "      <td>50.53</td>\n",
              "    </tr>\n",
              "    <tr>\n",
              "      <th>15</th>\n",
              "      <td>cardio</td>\n",
              "      <td>CVD</td>\n",
              "      <td>33943</td>\n",
              "      <td>49.47</td>\n",
              "    </tr>\n",
              "  </tbody>\n",
              "</table>\n",
              "</div>"
            ],
            "text/plain": [
              "            col        value  count  percent\n",
              "0        gender         Male  44686    65.13\n",
              "1        gender       Female  23926    34.87\n",
              "2   cholesterol       Normal  51451    74.99\n",
              "3   cholesterol         High   9296    13.55\n",
              "4   cholesterol    Very high   7865    11.46\n",
              "5          gluc       Normal  58336    85.02\n",
              "6          gluc    Very high   5212     7.60\n",
              "7          gluc         High   5064     7.38\n",
              "8         smoke   Non-smoker  62577    91.20\n",
              "9         smoke       Smoker   6035     8.80\n",
              "10         alco  Non-drinker  64953    94.67\n",
              "11         alco      Drinker   3659     5.33\n",
              "12       active       Active  55118    80.33\n",
              "13       active     Inactive  13494    19.67\n",
              "14       cardio       No CVD  34669    50.53\n",
              "15       cardio          CVD  33943    49.47"
            ]
          },
          "execution_count": 21,
          "metadata": {},
          "output_type": "execute_result"
        }
      ],
      "source": [
        "'''Get the distribution of categorical columns and put into a dataframe'''\n",
        "stats = []\n",
        "for col in df.select_dtypes(include='category').columns:\n",
        "    counts = df[col].value_counts()\n",
        "    percents = df[col].value_counts(normalize=True)* 100\n",
        "    stat = pd.DataFrame({\n",
        "        'col': col,\n",
        "        'value': counts.index, \n",
        "        'count': counts.values, \n",
        "        'percent': percents.round(2)\n",
        "        })\n",
        "    stats.append(stat)\n",
        "\n",
        "catago_stats = pd.concat(stats).reset_index(drop=True)\n",
        "catago_stats"
      ]
    },
    {
      "cell_type": "markdown",
      "metadata": {},
      "source": [
        "A brief description of the population of the dataset and its characteristics after removing outliers:\n",
        "- Total of 68612 individuals\n",
        "- Population has more males (65.1%) than females (34.9%)\n",
        "- ≈75% have normal cholesterol levels, others have higher than normal cholesterol levels\n",
        "- ≈85% have normal glucose levels, others have higher than normal glucose levels\n",
        "- Majority of the population does not drink or smoke\n",
        "- ≈80% of the population are physically active\n",
        "- Roughly half of the population have CVD present"
      ]
    },
    {
      "cell_type": "markdown",
      "metadata": {},
      "source": [
        "---"
      ]
    },
    {
      "cell_type": "markdown",
      "metadata": {},
      "source": [
        "# EDA: Visualisation and Hypothesis Testing"
      ]
    },
    {
      "cell_type": "markdown",
      "metadata": {},
      "source": [
        "The following hypotheses will be tested using statistical tests:\n",
        "1. Older individuals are more likely to develope cardiovascular disease (CVD)\n",
        "2. Males are more likely to develope CVD than females\n",
        "3. High blood pressure increase the likelihood of developing CDV\n",
        "4. High cholesterol individuals are more likely to have CDV\n",
        "5. Physically active individuals are less likely to have CDV\n",
        "6. Smokers are more likely to have CDV\n",
        "7. Alcohol consumption increase the likelyhood of developing CDV\n",
        "\n",
        "Visualisations will be also created using matplotlib, seaborn and plotly to show trends and distributions of the data and support the conclusions from testing the hypotheses. "
      ]
    },
    {
      "cell_type": "code",
      "execution_count": 22,
      "metadata": {},
      "outputs": [],
      "source": [
        "'''Set seaborn theme for all plots'''\n",
        "sns.set_theme(style=\"whitegrid\", palette=\"colorblind\")"
      ]
    },
    {
      "cell_type": "markdown",
      "metadata": {},
      "source": [
        "## Hypothesis 1:\n",
        "\n",
        ">H0: Older individuals does not have a higher chance of having CVD <br>\n",
        ">H1: Older individuals are more likely to have CVD"
      ]
    },
    {
      "cell_type": "code",
      "execution_count": 23,
      "metadata": {},
      "outputs": [],
      "source": [
        "from scipy.stats import ttest_ind, shapiro, mannwhitneyu, levene"
      ]
    },
    {
      "cell_type": "code",
      "execution_count": 24,
      "metadata": {},
      "outputs": [],
      "source": [
        "'''Split age data into two groups based on CVD status'''\n",
        "age_cvd = df[df['cardio']=='CVD']['age_years']\n",
        "age_no_cvd = df[df['cardio']=='No CVD']['age_years']"
      ]
    },
    {
      "cell_type": "markdown",
      "metadata": {},
      "source": [
        "Shapiro-Wilk test is used to test for normality, as both groups gave a p-value much smaller than the significant level of 0.05, normality is rejected and a non parametric statistical test must be used."
      ]
    },
    {
      "cell_type": "code",
      "execution_count": 25,
      "metadata": {},
      "outputs": [
        {
          "name": "stdout",
          "output_type": "stream",
          "text": [
            "  CVD group p-value: 5.932556579591069e-36\n",
            "  No CVD group p-value: 8.238124942747106e-33\n"
          ]
        }
      ],
      "source": [
        "'''Test for normality using the Shapiro-Wilk test'''\n",
        "sample_size = 5000\n",
        "\n",
        "def normality_test(dataset, n=5000):\n",
        "    '''Shapiro-Wilk test for normality'''\n",
        "    sample = dataset.sample(n=n, random_state=123)\n",
        "    stat, p = shapiro(sample)\n",
        "    return stat, p\n",
        "\n",
        "stat_cvd, p_cvd = normality_test(age_cvd)\n",
        "stat_no_cvd, p_no_cvd = normality_test(age_no_cvd)\n",
        "\n",
        "print(f\"  CVD group p-value: {p_cvd}\")\n",
        "print(f\"  No CVD group p-value: {p_no_cvd}\")"
      ]
    },
    {
      "cell_type": "code",
      "execution_count": 26,
      "metadata": {},
      "outputs": [
        {
          "name": "stdout",
          "output_type": "stream",
          "text": [
            "Mann–Whitney U Test for Age vs CVD\n",
            "U-statistic = 748951099.0\n",
            "p-value = 0.0\n"
          ]
        }
      ],
      "source": [
        "'''Mann-Whitney U test'''\n",
        "u_stat, p_value = mannwhitneyu(age_cvd, age_no_cvd, alternative='greater')\n",
        "\n",
        "print(\"Mann–Whitney U Test for Age vs CVD\")\n",
        "print(f\"U-statistic = {u_stat}\")\n",
        "print(f\"p-value = {p_value}\")\n"
      ]
    },
    {
      "cell_type": "markdown",
      "metadata": {},
      "source": [
        "Mann-Whitney test is used to test the null hypothesis:\n",
        ">H0: Older individuals does not have a higher chance of having CVD\n",
        "\n",
        "A upper tailed test is used as H1 states \"*older* individuals are more likely to have CVD\". \n",
        "\n",
        "The resulted p-value is so small that it is rounded to 0.0, meaning it is too small to calculate. As p-value is much smaller than 0.05 H0 is confidently rejected at the 5% significance level and H1 is accepted. \n",
        "\n",
        "Conclusion: ***Older individuals are more likely to have CVD***\n"
      ]
    },
    {
      "cell_type": "markdown",
      "metadata": {},
      "source": [
        "### Visualisations"
      ]
    },
    {
      "cell_type": "code",
      "execution_count": 27,
      "metadata": {},
      "outputs": [
        {
          "data": {
            "image/png": "[encoded data removed]",
            "text/plain": [
              "<Figure size 800x500 with 1 Axes>"
            ]
          },
          "metadata": {},
          "output_type": "display_data"
        }
      ],
      "source": [
        "plt.figure(figsize=(8, 5))\n",
        "sns.boxplot(data=df, y='cardio', x='age_years',)\n",
        "plt.show()"
      ]
    },
    {
      "cell_type": "code",
      "execution_count": 28,
      "metadata": {},
      "outputs": [
        {
          "data": {
            "image/png": "[encoded data removed]",
            "text/plain": [
              "<Figure size 1073.38x400 with 2 Axes>"
            ]
          },
          "metadata": {},
          "output_type": "display_data"
        }
      ],
      "source": [
        "'''Visualize the age distribution for both CVD and No CVD groups'''\n",
        "sns.displot(\n",
        "    data=df,\n",
        "    x=\"age_years\",\n",
        "    col=\"cardio\",\n",
        "    hue=\"cardio\",\n",
        "    bins=30,\n",
        "    kde=True,\n",
        "    height=4, aspect=1.2\n",
        ")\n",
        "plt.show()"
      ]
    },
    {
      "cell_type": "markdown",
      "metadata": {},
      "source": [
        "## Hypothesis 2:\n",
        ">H0: No significant difference in the likelihood of developing CVD between males and females <br>\n",
        ">H1: Significant difference in the likelihood of developing CVD between genders"
      ]
    },
    {
      "cell_type": "code",
      "execution_count": 29,
      "metadata": {},
      "outputs": [],
      "source": [
        "from scipy.stats import chi2_contingency"
      ]
    },
    {
      "cell_type": "code",
      "execution_count": 30,
      "metadata": {},
      "outputs": [
        {
          "name": "stdout",
          "output_type": "stream",
          "text": [
            "Contingency Table:\n",
            " cardio    CVD  No CVD\n",
            "gender               \n",
            "Female  11955   11971\n",
            "Male    21988   22698\n",
            "\n",
            "Chi-Square Test Results:\n",
            "Chi2 statistic = 3.57968306145962\n",
            "Degrees of freedom = 1\n",
            "p-value = 0.058490309641719154\n"
          ]
        }
      ],
      "source": [
        "'''Chi-square test'''\n",
        "def chi2_square_test(var1, var2):\n",
        "    '''Chi-square test function'''\n",
        "    contingency_table = pd.crosstab(df[var1], df[var2])\n",
        "    print(\"Contingency Table:\\n\", contingency_table)\n",
        "\n",
        "    chi2, p, dof, expected = chi2_contingency(contingency_table)\n",
        "    print(\"\\nChi-Square Test Results:\")\n",
        "    print(f\"Chi2 statistic = {chi2}\")\n",
        "    print(f\"Degrees of freedom = {dof}\")\n",
        "    print(f\"p-value = {p}\")\n",
        "chi2_square_test('gender', 'cardio')"
      ]
    },
    {
      "cell_type": "markdown",
      "metadata": {},
      "source": [
        "Chi square test is used to test the null hypothesis:\n",
        ">H0: No significant difference in the likelihood of developing CVD between males and females\n",
        "\n",
        "The p-value of 0.058 is recieved. As 0.058 > 0.05, there is not enough evidence to reject the null hypothesis and H0 is accepted at the 5% significance level.\n",
        "\n",
        "Conclusion: ***No significant difference in the likelihood of developing CVD between males and females***"
      ]
    },
    {
      "cell_type": "markdown",
      "metadata": {},
      "source": [
        "### Visualisation"
      ]
    },
    {
      "cell_type": "code",
      "execution_count": 31,
      "metadata": {},
      "outputs": [
        {
          "data": {
            "image/png": "[encoded data removed]",
            "text/plain": [
              "<Figure size 640x480 with 1 Axes>"
            ]
          },
          "metadata": {},
          "output_type": "display_data"
        }
      ],
      "source": [
        "sns.countplot(data=df, x='cardio',hue='gender')\n",
        "plt.show()"
      ]
    },
    {
      "cell_type": "markdown",
      "metadata": {},
      "source": [
        "The visualisation shows how male and female distribution are very similar for those with CVD and without CVD"
      ]
    },
    {
      "cell_type": "markdown",
      "metadata": {},
      "source": [
        "## Hypothesis 3:\n",
        ">H0: Blood pressure has no correlation with developing CVD <br>\n",
        ">H1: High blood pressure increases the likelihood of developing CVD"
      ]
    },
    {
      "cell_type": "code",
      "execution_count": 32,
      "metadata": {},
      "outputs": [],
      "source": [
        "'''Splitting blood pressure data'''\n",
        "# Systolic BP\n",
        "hi_cvd = df[df['cardio'] == 'CVD']['ap_hi']\n",
        "hi_no_cvd = df[df['cardio'] == 'No CVD']['ap_hi']\n",
        "\n",
        "# Diastolic BP\n",
        "lo_cvd = df[df['cardio'] == 'CVD']['ap_lo']\n",
        "lo_no_cvd = df[df['cardio'] == 'No CVD']['ap_lo']\n"
      ]
    },
    {
      "cell_type": "markdown",
      "metadata": {},
      "source": [
        "All groups have a p-value much lower than 0.05, normality is rejected at the 5% significance level and non parametric test is needed."
      ]
    },
    {
      "cell_type": "code",
      "execution_count": 33,
      "metadata": {},
      "outputs": [
        {
          "name": "stdout",
          "output_type": "stream",
          "text": [
            "Systolic BP normality p-values: CVD=2.7908729858652275e-40, No CVD=1.0550031772591162e-55\n",
            "Diastolic BP normality p-values: CVD=2.2169384952703853e-50, No CVD=3.6683254738619266e-56\n"
          ]
        }
      ],
      "source": [
        "'''Normality test'''\n",
        "#sys\n",
        "p_hi_cvd = normality_test(hi_cvd)[1]\n",
        "p_hi_no_cvd = normality_test(hi_no_cvd)[1]\n",
        "\n",
        "# Dia\n",
        "p_lo_cvd = normality_test(lo_cvd)[1]\n",
        "p_lo_no_cvd = normality_test(lo_no_cvd)[1]\n",
        "\n",
        "print(f\"Systolic BP normality p-values: CVD={p_hi_cvd}, No CVD={p_hi_no_cvd}\")\n",
        "print(f\"Diastolic BP normality p-values: CVD={p_lo_cvd}, No CVD={p_lo_no_cvd}\")"
      ]
    },
    {
      "cell_type": "code",
      "execution_count": 34,
      "metadata": {},
      "outputs": [
        {
          "name": "stdout",
          "output_type": "stream",
          "text": [
            "Mann–Whitney U Test Results\n",
            "Systolic BP: U = 884063397.5, p = 0.0\n",
            "Diastolic BP: U = 812828489.0, p = 0.0\n"
          ]
        }
      ],
      "source": [
        "'''Mann-Whitney test'''\n",
        "# Sys\n",
        "u_hi, p_hi = mannwhitneyu(hi_cvd, hi_no_cvd, alternative='greater')\n",
        "\n",
        "# Dia\n",
        "u_lo, p_lo = mannwhitneyu(lo_cvd, lo_no_cvd, alternative='greater')\n",
        "\n",
        "print(\"Mann–Whitney U Test Results\")\n",
        "print(f\"Systolic BP: U = {u_hi}, p = {p_hi}\")\n",
        "print(f\"Diastolic BP: U = {u_lo}, p = {p_lo}\")"
      ]
    },
    {
      "cell_type": "markdown",
      "metadata": {},
      "source": [
        "Mann-Whitney test is used to test the null hypothesis for both Systolic and Diastolic readings:\n",
        ">H0: Blood pressure has no correlation with developing CVD\n",
        "\n",
        "A upper tailed test is used for both tests as H1 mentions \"*Higher* blood pressure\". \n",
        "\n",
        "The resulted p-values are so small that it is rounded to 0.0, as p-value is much smaller than 0.05, H0 is confidently rejected at the 5% significance level and H1 is accepted. \n",
        "\n",
        "Conclusion: ***High blood pressure increases the likelihood of developing CVD***"
      ]
    },
    {
      "cell_type": "markdown",
      "metadata": {},
      "source": [
        "### Visualisation"
      ]
    },
    {
      "cell_type": "code",
      "execution_count": 35,
      "metadata": {},
      "outputs": [
        {
          "data": {
            "image/png": "[encoded data removed]",
            "text/plain": [
              "<Figure size 800x500 with 1 Axes>"
            ]
          },
          "metadata": {},
          "output_type": "display_data"
        },
        {
          "data": {
            "image/png": "[encoded data removed]",
            "text/plain": [
              "<Figure size 800x500 with 1 Axes>"
            ]
          },
          "metadata": {},
          "output_type": "display_data"
        }
      ],
      "source": [
        "for col in ['ap_hi', 'ap_lo']:\n",
        "    plt.figure(figsize=(8, 5))\n",
        "    sns.boxplot(data=df, y='cardio', x=col,)\n",
        "    plt.show()"
      ]
    },
    {
      "cell_type": "code",
      "execution_count": 36,
      "metadata": {},
      "outputs": [
        {
          "data": {
            "image/png": "[encoded data removed]",
            "text/plain": [
              "<Figure size 1073.38x400 with 2 Axes>"
            ]
          },
          "metadata": {},
          "output_type": "display_data"
        },
        {
          "data": {
            "image/png": "[encoded data removed]",
            "text/plain": [
              "<Figure size 1073.38x400 with 2 Axes>"
            ]
          },
          "metadata": {},
          "output_type": "display_data"
        }
      ],
      "source": [
        "'''Visualize the bp distribution for both CVD and No CVD groups'''\n",
        "for col in ['ap_hi', 'ap_lo']:\n",
        "    sns.displot(\n",
        "        data=df,\n",
        "        x=col,\n",
        "        col=\"cardio\",\n",
        "        hue=\"cardio\",\n",
        "        bins=30,\n",
        "        kde=True,\n",
        "        height=4, aspect=1.2\n",
        "    )\n",
        "    plt.show()"
      ]
    },
    {
      "cell_type": "markdown",
      "metadata": {},
      "source": [
        "## Hypothesis 4:\n",
        ">H0: No significant correlation between cholesterol level and developing CVD <br>\n",
        ">H1: High cholesterol individuals are more likely to have CVD"
      ]
    },
    {
      "cell_type": "code",
      "execution_count": 37,
      "metadata": {},
      "outputs": [
        {
          "name": "stdout",
          "output_type": "stream",
          "text": [
            "Contingency Table:\n",
            " cardio         CVD  No CVD\n",
            "cholesterol               \n",
            "High          5542    3754\n",
            "Normal       22403   29048\n",
            "Very high     5998    1867\n",
            "\n",
            "Chi-Square Test Results:\n",
            "Chi2 statistic = 3364.574982312851\n",
            "Degrees of freedom = 2\n",
            "p-value = 0.0\n"
          ]
        }
      ],
      "source": [
        "'''Chi-square test'''\n",
        "chi2_square_test('cholesterol', 'cardio')"
      ]
    },
    {
      "cell_type": "markdown",
      "metadata": {},
      "source": [
        "Chi square test is used to test the null hypothesis:\n",
        ">H0: No significant correlation between cholesterol level and developing CVD\n",
        "\n",
        "The p-value of 0.0 is recieved. As 0.0 is much smaller than 0.05, there is enough evidence to reject the null hypothesis and H1 is accepted at the 5% significance level.\n",
        "\n",
        "Conclusion: ***High cholesterol individuals are more likely to have CVD***"
      ]
    },
    {
      "cell_type": "markdown",
      "metadata": {},
      "source": [
        "### Visualisation"
      ]
    },
    {
      "cell_type": "code",
      "execution_count": 38,
      "metadata": {},
      "outputs": [
        {
          "data": {
            "image/png": "[encoded data removed]",
            "text/plain": [
              "<Figure size 640x480 with 1 Axes>"
            ]
          },
          "metadata": {},
          "output_type": "display_data"
        }
      ],
      "source": [
        "sns.countplot(data=df, x='cardio',hue='cholesterol')\n",
        "plt.show()"
      ]
    },
    {
      "cell_type": "markdown",
      "metadata": {},
      "source": [
        "High and Very high levels of cholesterol are more in the CVD group."
      ]
    },
    {
      "cell_type": "markdown",
      "metadata": {},
      "source": [
        "## Hypothesis 5:\n",
        ">H0: No correlation between physical activity and developing CVD<br>\n",
        ">H1: Physically active individuals are less likely to have CVD"
      ]
    },
    {
      "cell_type": "code",
      "execution_count": 39,
      "metadata": {},
      "outputs": [
        {
          "name": "stdout",
          "output_type": "stream",
          "text": [
            "Contingency Table:\n",
            " cardio      CVD  No CVD\n",
            "active                 \n",
            "Active    26754   28364\n",
            "Inactive   7189    6305\n",
            "\n",
            "Chi-Square Test Results:\n",
            "Chi2 statistic = 97.07910241308448\n",
            "Degrees of freedom = 1\n",
            "p-value = 6.661224540118629e-23\n"
          ]
        }
      ],
      "source": [
        "'''chi-square test'''\n",
        "chi2_square_test('active', 'cardio')"
      ]
    },
    {
      "cell_type": "markdown",
      "metadata": {},
      "source": [
        "Chi square test is used to test the null hypothesis:\n",
        ">H0: No correlation between physical activity and developing CVD\n",
        "\n",
        "The p-value of 6.66e-23 is recieved. As p-value is much smaller than 0.05, there is enough evidence to reject the null hypothesis and H1 is accepted at the 5% significance level.\n",
        "\n",
        "Conclusion: ***Physically active individuals are less likely to have CVD***"
      ]
    },
    {
      "cell_type": "markdown",
      "metadata": {},
      "source": [
        "### Visualisation"
      ]
    },
    {
      "cell_type": "code",
      "execution_count": 40,
      "metadata": {},
      "outputs": [
        {
          "data": {
            "image/png": "[encoded data removed]",
            "text/plain": [
              "<Figure size 640x480 with 1 Axes>"
            ]
          },
          "metadata": {},
          "output_type": "display_data"
        }
      ],
      "source": [
        "sns.countplot(data=df, x='active',hue='cardio')\n",
        "plt.show()"
      ]
    },
    {
      "cell_type": "markdown",
      "metadata": {},
      "source": [
        "The preportion of individuals with CVD is less than half in the active group where as the proportion is more than half in the inactive group."
      ]
    },
    {
      "cell_type": "markdown",
      "metadata": {},
      "source": [
        "## Hypothesis 6:\n",
        ">H0: No correlation between smoking status and developing CVD <br>\n",
        ">H1: Smoking correlates to developing CVD"
      ]
    },
    {
      "cell_type": "code",
      "execution_count": 41,
      "metadata": {},
      "outputs": [
        {
          "name": "stdout",
          "output_type": "stream",
          "text": [
            "Contingency Table:\n",
            " cardio        CVD  No CVD\n",
            "smoke                    \n",
            "Non-smoker  31115   31462\n",
            "Smoker       2828    3207\n",
            "\n",
            "Chi-Square Test Results:\n",
            "Chi2 statistic = 17.931198168779083\n",
            "Degrees of freedom = 1\n",
            "p-value = 2.290357635682803e-05\n"
          ]
        }
      ],
      "source": [
        "'''Chi square test'''\n",
        "chi2_square_test('smoke', 'cardio')"
      ]
    },
    {
      "cell_type": "markdown",
      "metadata": {},
      "source": [
        "Chi square test is used to test the null hypothesis:\n",
        ">H0: No correlation between physical activity and developing CVD\n",
        "\n",
        "The p-value of 2.29e-5 is recieved. As p-value is smaller than 0.05, there is enough evidence to reject the null hypothesis and H1 is accepted at the 5% significance level.\n",
        "\n",
        "Conclusion: ***Smoking correlates to developing CVD***"
      ]
    },
    {
      "cell_type": "markdown",
      "metadata": {},
      "source": [
        "### Visualisation"
      ]
    },
    {
      "cell_type": "code",
      "execution_count": 42,
      "metadata": {},
      "outputs": [
        {
          "data": {
            "image/png": "[encoded data removed]",
            "text/plain": [
              "<Figure size 640x480 with 1 Axes>"
            ]
          },
          "metadata": {},
          "output_type": "display_data"
        }
      ],
      "source": [
        "sns.countplot(data=df, x='smoke',hue='cardio')\n",
        "plt.show()"
      ]
    },
    {
      "cell_type": "code",
      "execution_count": 43,
      "metadata": {},
      "outputs": [
        {
          "data": {
            "image/png": "[encoded data removed]",
            "text/plain": [
              "<Figure size 640x480 with 1 Axes>"
            ]
          },
          "metadata": {},
          "output_type": "display_data"
        },
        {
          "data": {
            "image/png": "[encoded data removed]",
            "text/plain": [
              "<Figure size 640x480 with 1 Axes>"
            ]
          },
          "metadata": {},
          "output_type": "display_data"
        }
      ],
      "source": [
        "for val in df['smoke'].unique():\n",
        "    counts = df[df['smoke'] == val]['cardio'].value_counts()\n",
        "    plt.figure()\n",
        "    counts.plot.pie(autopct='%1.1f%%', startangle=90, ylabel='')\n",
        "    plt.title(f'{val} - CVD Distribution')\n",
        "    plt.show()"
      ]
    },
    {
      "cell_type": "markdown",
      "metadata": {},
      "source": [
        "Visualisations indicate that smokers have a lower proportion of CVD, which is contrary to the initial hypothesis that smoking increases the likelihood of developing CVD. This could be due to reasons such as selection bias, where the dataset does not represent the general populatiopn evenly. For example, having fewer older smokers in the dataset.\n",
        "\n"
      ]
    },
    {
      "cell_type": "code",
      "execution_count": 44,
      "metadata": {},
      "outputs": [],
      "source": [
        "'''Age distribution by smoking status'''\n",
        "df_smoker_age = df[df['smoke']=='Smoker']['age_years']\n",
        "df_non_smoker_age = df[df['smoke']=='Non-smoker']['age_years']"
      ]
    },
    {
      "cell_type": "code",
      "execution_count": 45,
      "metadata": {},
      "outputs": [
        {
          "name": "stdout",
          "output_type": "stream",
          "text": [
            "Smoker age normality p-value: 1.2351686626596242e-32\n",
            "Non-smoker age normality p-value: 4.328012369473215e-34\n"
          ]
        }
      ],
      "source": [
        "'''Normality'''\n",
        "p_smoker_age = normality_test(df_smoker_age)[1]\n",
        "p_non_smoker_age = normality_test(df_non_smoker_age)[1]\n",
        "\n",
        "print(f\"Smoker age normality p-value: {p_smoker_age}\")\n",
        "print(f\"Non-smoker age normality p-value: {p_non_smoker_age}\")"
      ]
    },
    {
      "cell_type": "code",
      "execution_count": 46,
      "metadata": {},
      "outputs": [
        {
          "name": "stdout",
          "output_type": "stream",
          "text": [
            "Mann–Whitney Test\n",
            "U-statistic = 170590137.0\n",
            "p-value = 8.574508264664024e-36\n"
          ]
        }
      ],
      "source": [
        "'''Mann-Whitney'''\n",
        "u_smoker_age, p_smoker_age = mannwhitneyu(df_smoker_age, df_non_smoker_age, alternative='less')\n",
        "print(\"Mann–Whitney Test\")\n",
        "print(f\"U-statistic = {u_smoker_age}\")\n",
        "print(f\"p-value = {p_smoker_age}\")"
      ]
    },
    {
      "cell_type": "markdown",
      "metadata": {},
      "source": [
        "A lower tail Mann-whitney test for age compared with smokers and non smokers gives a p-value of 8.57e-36. Much smaller than the 5% significant level, rejecting the null hypothesis:\n",
        ">H0: Smokers and non-smokers have the same age distribution.\n",
        "\n",
        "Conclusion ***Smokers have lower age values than non-smokers in the dataset used***"
      ]
    },
    {
      "cell_type": "code",
      "execution_count": 47,
      "metadata": {},
      "outputs": [
        {
          "data": {
            "image/png": "[encoded data removed]",
            "text/plain": [
              "<Figure size 640x480 with 1 Axes>"
            ]
          },
          "metadata": {},
          "output_type": "display_data"
        }
      ],
      "source": [
        "\n",
        "sns.boxplot(data=df, y='smoke', x='age_years',)\n",
        "plt.show()"
      ]
    },
    {
      "cell_type": "markdown",
      "metadata": {},
      "source": [
        "A younger distribution of smokers compared to non smokers seen by the younger median value and younger first quartile."
      ]
    },
    {
      "cell_type": "markdown",
      "metadata": {},
      "source": [
        "## Hypothesis 7:\n",
        ">H0: Alcohol consumption has no effect on developing CVD<br>\n",
        ">H1: Alcohol consumption has significant effect on developing CVD"
      ]
    },
    {
      "cell_type": "code",
      "execution_count": 48,
      "metadata": {},
      "outputs": [
        {
          "name": "stdout",
          "output_type": "stream",
          "text": [
            "Contingency Table:\n",
            " cardio         CVD  No CVD\n",
            "alco                      \n",
            "Drinker       1745    1914\n",
            "Non-drinker  32198   32755\n",
            "\n",
            "Chi-Square Test Results:\n",
            "Chi2 statistic = 4.825825014755592\n",
            "Degrees of freedom = 1\n",
            "p-value = 0.028036444341398778\n"
          ]
        }
      ],
      "source": [
        "'''Chi square test'''\n",
        "chi2_square_test('alco', 'cardio')"
      ]
    },
    {
      "cell_type": "markdown",
      "metadata": {},
      "source": [
        "Chi square test is used to test the null hypothesis:\n",
        ">H0: Alcohol consumption has no effect on developing CVD\n",
        "\n",
        "The p-value of 0.028 is recieved. As p-value is smaller than 0.05, there is enough evidence to reject the null hypothesis and H1 is accepted at the 5% significance level.\n",
        "\n",
        "Conclusion: ***Alcohol consumption has significant effect on developing CVD***"
      ]
    },
    {
      "cell_type": "markdown",
      "metadata": {},
      "source": [
        "### Visualisation"
      ]
    },
    {
      "cell_type": "code",
      "execution_count": 49,
      "metadata": {},
      "outputs": [
        {
          "data": {
            "image/png": "[encoded data removed]",
            "text/plain": [
              "<Figure size 640x480 with 1 Axes>"
            ]
          },
          "metadata": {},
          "output_type": "display_data"
        }
      ],
      "source": [
        "sns.countplot(data=df, x='alco',hue='cardio')\n",
        "plt.show()"
      ]
    },
    {
      "cell_type": "code",
      "execution_count": 50,
      "metadata": {},
      "outputs": [
        {
          "data": {
            "image/png": "[encoded data removed]",
            "text/plain": [
              "<Figure size 640x480 with 1 Axes>"
            ]
          },
          "metadata": {},
          "output_type": "display_data"
        },
        {
          "data": {
            "image/png": "[encoded data removed]",
            "text/plain": [
              "<Figure size 640x480 with 1 Axes>"
            ]
          },
          "metadata": {},
          "output_type": "display_data"
        }
      ],
      "source": [
        "for val in df['alco'].unique():\n",
        "    counts = df[df['alco'] == val]['cardio'].value_counts()\n",
        "    plt.figure()\n",
        "    counts.plot.pie(autopct='%1.1f%%', startangle=90, ylabel='')\n",
        "    plt.title(f'{val} - CVD Distribution')\n",
        "    plt.show()"
      ]
    },
    {
      "cell_type": "markdown",
      "metadata": {},
      "source": [
        "Same patterns as smoker distribution can be see where proportion of CVD for drinkers is acturally less than non drinkers."
      ]
    },
    {
      "cell_type": "code",
      "execution_count": 51,
      "metadata": {},
      "outputs": [],
      "source": [
        "'''Split age distribution by alcohol consumption status'''\n",
        "df_alco_age = df[df['alco']=='Drinker']['age_years']\n",
        "df_non_alco_age = df[df['alco']=='Non-drinker']['age_years']"
      ]
    },
    {
      "cell_type": "code",
      "execution_count": 52,
      "metadata": {},
      "outputs": [
        {
          "name": "stdout",
          "output_type": "stream",
          "text": [
            "Drinker age normality p-value: 3.877591808449404e-28\n",
            "Non-drinker age normality p-value: 1.3603249940902447e-33\n"
          ]
        }
      ],
      "source": [
        "'''Normality'''\n",
        "stat_alco, p_alco_age = shapiro(df_alco_age) # No sampling for sample size < 5000\n",
        "\n",
        "p_non_alco_age = normality_test(df_non_alco_age)[1]\n",
        "print(f\"Drinker age normality p-value: {p_alco_age}\")\n",
        "print(f\"Non-drinker age normality p-value: {p_non_alco_age}\")"
      ]
    },
    {
      "cell_type": "code",
      "execution_count": 53,
      "metadata": {},
      "outputs": [
        {
          "name": "stdout",
          "output_type": "stream",
          "text": [
            "Mann–Whitney Test\n",
            "U-statistic = 110012008.0\n",
            "p-value = 1.724930123392766e-14\n"
          ]
        }
      ],
      "source": [
        "'''Mann-Whitney'''\n",
        "u_alco_age, p_alco_age = mannwhitneyu(df_alco_age, df_non_alco_age, alternative='less')\n",
        "print(\"Mann–Whitney Test\")\n",
        "print(f\"U-statistic = {u_alco_age}\")\n",
        "print(f\"p-value = {p_alco_age}\")"
      ]
    },
    {
      "cell_type": "markdown",
      "metadata": {},
      "source": [
        "A lower tail Mann-whitney test for age compared with drinkers and non drinkers gives a p-value of 1.72e-14. Much smaller than the 5% significant level, rejecting the null hypothesis:\n",
        ">H0: drinkers and non-drinkers have the same age distribution.\n",
        "\n",
        "Conclusion ***drinkers have lower age values than non-drinkers in the dataset used***"
      ]
    },
    {
      "cell_type": "code",
      "execution_count": 54,
      "metadata": {},
      "outputs": [
        {
          "data": {
            "image/png": "[encoded data removed]",
            "text/plain": [
              "<Figure size 640x480 with 1 Axes>"
            ]
          },
          "metadata": {},
          "output_type": "display_data"
        }
      ],
      "source": [
        "sns.boxplot(data=df, y='alco', x='age_years',)\n",
        "plt.show()"
      ]
    },
    {
      "cell_type": "markdown",
      "metadata": {},
      "source": [
        "A younger drinker distribution shown by the younger median value."
      ]
    },
    {
      "cell_type": "markdown",
      "metadata": {},
      "source": [
        "---"
      ]
    },
    {
      "cell_type": "markdown",
      "metadata": {
        "id": "ltNetd085qHf"
      },
      "source": [
        "# Conclusion\n",
        "The following insights can be drawn:\n",
        "1. Older individuals are more likely to have CVD\n",
        "2. No significant difference in the likelihood of developing CVD between males and females\n",
        "3. High blood pressure increases the likelihood of developing CVD\n",
        "4. High cholesterol individuals are more likely to have CVD\n",
        "5. Physically active individuals are less likely to have CVD\n",
        "\n",
        "Smokers and drinkers in the dataset were statistically significantly younger than non-smokers and non-drinkers. This suggests possible bias, where younger individuals are more represented in these groups. As age is a major confounder for CVD, this may explain why smoking and alcohol consumption appeared negatively correlated with CVD in the initial analysis."
      ]
    }
  ],
  "metadata": {
    "accelerator": "GPU",
    "colab": {
      "name": "Data Practitioner Jupyter Notebook.ipynb",
      "provenance": [],
      "toc_visible": true
    },
    "kernelspec": {
      "display_name": ".venv",
      "language": "python",
      "name": "python3"
    },
    "language_info": {
      "codemirror_mode": {
        "name": "ipython",
        "version": 3
      },
      "file_extension": ".py",
      "mimetype": "text/x-python",
      "name": "python",
      "nbconvert_exporter": "python",
      "pygments_lexer": "ipython3",
      "version": "3.12.1"
    },
    "orig_nbformat": 2
  },
  "nbformat": 4,
  "nbformat_minor": 2
}
