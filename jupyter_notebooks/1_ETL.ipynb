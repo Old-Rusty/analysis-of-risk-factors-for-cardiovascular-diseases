{
  "cells": [
    {
      "cell_type": "markdown",
      "metadata": {
        "id": "0aStgWSO0E0E"
      },
      "source": [
        "# **Extract Transform Load (ETL)**"
      ]
    },
    {
      "cell_type": "markdown",
      "metadata": {
        "id": "1eLEkw5O0ECa"
      },
      "source": [
        "## Objectives\n",
        "\n",
        "The objective of this notebook is to: \n",
        "- **Extract** raw data from a csv file downloaded from Kaggle\n",
        "- **Transform** and clean the extracted data\n",
        "- **Load** processed data into the cleaned data folder as a csv file\n",
        "\n",
        "## Prerequisites\n",
        "- Python 3.12.8 is installed\n",
        "- Required Python Libaries from `requirements.txt` and their dependencies must be installed\n",
        "- Optional to set up Python virtual enviornment\n",
        "\n",
        "## Inputs\n",
        "\n",
        "- `heart_data.csv` file\n",
        "- Data source: https://data.world/kudem/heart-disease-dataset\n",
        "- Data author: [Kuzak Dempsy](https://data.world/kudem)\n",
        "- Kaggle download link: https://www.kaggle.com/datasets/thedevastator/exploring-risk-factors-for-cardiovascular-diseas \n",
        "\n",
        "## Outputs\n",
        "\n",
        "* Cleaned dataset saved as `cleaned_heart_data.csv`.\n",
        "\n",
        "## Additional Comments\n",
        "- The transformations on the data in this section aims to mainly clean the dataset. More indepth analysis of the dataset will take place in a dedicated EDA section later on.\n",
        "\n"
      ]
    },
    {
      "cell_type": "markdown",
      "metadata": {
        "id": "9uWZXH9LwoQg"
      },
      "source": [
        "---"
      ]
    },
    {
      "cell_type": "markdown",
      "metadata": {
        "id": "cqP-UeN-z3i2"
      },
      "source": [
        "# Change working directory"
      ]
    },
    {
      "cell_type": "markdown",
      "metadata": {
        "id": "aOGIGS-uz3i2"
      },
      "source": [
        "The working directory must be changed from its current folder to its parent folder\n",
        "* The current directory can be accessed with `os.getcwd()`"
      ]
    },
    {
      "cell_type": "code",
      "execution_count": 1,
      "metadata": {
        "id": "wZfF_j-Bz3i4",
        "outputId": "66943449-1436-4c3d-85c7-b85f9f78349b"
      },
      "outputs": [
        {
          "data": {
            "text/plain": [
              "'c:\\\\Users\\\\fanxi\\\\OneDrive\\\\Documents\\\\Code projects\\\\Capstone\\\\analysis-of-risk-factors-for-cardiovascular-diseases\\\\jupyter_notebooks'"
            ]
          },
          "execution_count": 1,
          "metadata": {},
          "output_type": "execute_result"
        }
      ],
      "source": [
        "import os\n",
        "current_dir = os.getcwd()\n",
        "current_dir"
      ]
    },
    {
      "cell_type": "markdown",
      "metadata": {
        "id": "9MWW8E7lz3i7"
      },
      "source": [
        "The parent of the current directory will be the new current directory\n",
        "* os.path.dirname() gets the parent directory\n",
        "* os.chir() defines the new current directory"
      ]
    },
    {
      "cell_type": "code",
      "execution_count": 2,
      "metadata": {
        "id": "TwHsQRWjz3i9",
        "outputId": "86849db3-cd2f-4cc5-ebb8-2d0caafa1a2c"
      },
      "outputs": [
        {
          "name": "stdout",
          "output_type": "stream",
          "text": [
            "You set a new current directory\n"
          ]
        }
      ],
      "source": [
        "os.chdir(os.path.dirname(current_dir))\n",
        "print(\"You set a new current directory\")"
      ]
    },
    {
      "cell_type": "markdown",
      "metadata": {
        "id": "M_xPk_Ijz3i-"
      },
      "source": [
        "Confirm the new current directory"
      ]
    },
    {
      "cell_type": "code",
      "execution_count": 3,
      "metadata": {
        "id": "vz3S-_kjz3jA",
        "outputId": "00b79ae4-75d0-4a96-d193-ac9ef9847ea2"
      },
      "outputs": [
        {
          "data": {
            "text/plain": [
              "'c:\\\\Users\\\\fanxi\\\\OneDrive\\\\Documents\\\\Code projects\\\\Capstone\\\\analysis-of-risk-factors-for-cardiovascular-diseases'"
            ]
          },
          "execution_count": 3,
          "metadata": {},
          "output_type": "execute_result"
        }
      ],
      "source": [
        "current_dir = os.getcwd()\n",
        "current_dir"
      ]
    },
    {
      "cell_type": "markdown",
      "metadata": {},
      "source": [
        "---"
      ]
    },
    {
      "cell_type": "markdown",
      "metadata": {
        "id": "-mavJ8DibrcQ"
      },
      "source": [
        "# ETL: Extraction"
      ]
    },
    {
      "cell_type": "markdown",
      "metadata": {},
      "source": [
        "In this section, a pandas DataFrame will be extracted from the csv file. \n",
        "\n",
        "Firstly, Import essential libaries for ETL before data extraction."
      ]
    },
    {
      "cell_type": "code",
      "execution_count": 4,
      "metadata": {},
      "outputs": [],
      "source": [
        "import pandas as pd\n",
        "import numpy as np"
      ]
    },
    {
      "cell_type": "markdown",
      "metadata": {},
      "source": [
        "Use `.read_csv()` to read the csv file and save it as a pandas DataFrame."
      ]
    },
    {
      "cell_type": "code",
      "execution_count": 5,
      "metadata": {},
      "outputs": [
        {
          "data": {
            "text/html": [
              "<div>\n",
              "<style scoped>\n",
              "    .dataframe tbody tr th:only-of-type {\n",
              "        vertical-align: middle;\n",
              "    }\n",
              "\n",
              "    .dataframe tbody tr th {\n",
              "        vertical-align: top;\n",
              "    }\n",
              "\n",
              "    .dataframe thead th {\n",
              "        text-align: right;\n",
              "    }\n",
              "</style>\n",
              "<table border=\"1\" class=\"dataframe\">\n",
              "  <thead>\n",
              "    <tr style=\"text-align: right;\">\n",
              "      <th></th>\n",
              "      <th>index</th>\n",
              "      <th>id</th>\n",
              "      <th>age</th>\n",
              "      <th>gender</th>\n",
              "      <th>height</th>\n",
              "      <th>weight</th>\n",
              "      <th>ap_hi</th>\n",
              "      <th>ap_lo</th>\n",
              "      <th>cholesterol</th>\n",
              "      <th>gluc</th>\n",
              "      <th>smoke</th>\n",
              "      <th>alco</th>\n",
              "      <th>active</th>\n",
              "      <th>cardio</th>\n",
              "    </tr>\n",
              "  </thead>\n",
              "  <tbody>\n",
              "    <tr>\n",
              "      <th>0</th>\n",
              "      <td>0</td>\n",
              "      <td>0</td>\n",
              "      <td>18393</td>\n",
              "      <td>2</td>\n",
              "      <td>168</td>\n",
              "      <td>62.0</td>\n",
              "      <td>110</td>\n",
              "      <td>80</td>\n",
              "      <td>1</td>\n",
              "      <td>1</td>\n",
              "      <td>0</td>\n",
              "      <td>0</td>\n",
              "      <td>1</td>\n",
              "      <td>0</td>\n",
              "    </tr>\n",
              "    <tr>\n",
              "      <th>1</th>\n",
              "      <td>1</td>\n",
              "      <td>1</td>\n",
              "      <td>20228</td>\n",
              "      <td>1</td>\n",
              "      <td>156</td>\n",
              "      <td>85.0</td>\n",
              "      <td>140</td>\n",
              "      <td>90</td>\n",
              "      <td>3</td>\n",
              "      <td>1</td>\n",
              "      <td>0</td>\n",
              "      <td>0</td>\n",
              "      <td>1</td>\n",
              "      <td>1</td>\n",
              "    </tr>\n",
              "    <tr>\n",
              "      <th>2</th>\n",
              "      <td>2</td>\n",
              "      <td>2</td>\n",
              "      <td>18857</td>\n",
              "      <td>1</td>\n",
              "      <td>165</td>\n",
              "      <td>64.0</td>\n",
              "      <td>130</td>\n",
              "      <td>70</td>\n",
              "      <td>3</td>\n",
              "      <td>1</td>\n",
              "      <td>0</td>\n",
              "      <td>0</td>\n",
              "      <td>0</td>\n",
              "      <td>1</td>\n",
              "    </tr>\n",
              "    <tr>\n",
              "      <th>3</th>\n",
              "      <td>3</td>\n",
              "      <td>3</td>\n",
              "      <td>17623</td>\n",
              "      <td>2</td>\n",
              "      <td>169</td>\n",
              "      <td>82.0</td>\n",
              "      <td>150</td>\n",
              "      <td>100</td>\n",
              "      <td>1</td>\n",
              "      <td>1</td>\n",
              "      <td>0</td>\n",
              "      <td>0</td>\n",
              "      <td>1</td>\n",
              "      <td>1</td>\n",
              "    </tr>\n",
              "    <tr>\n",
              "      <th>4</th>\n",
              "      <td>4</td>\n",
              "      <td>4</td>\n",
              "      <td>17474</td>\n",
              "      <td>1</td>\n",
              "      <td>156</td>\n",
              "      <td>56.0</td>\n",
              "      <td>100</td>\n",
              "      <td>60</td>\n",
              "      <td>1</td>\n",
              "      <td>1</td>\n",
              "      <td>0</td>\n",
              "      <td>0</td>\n",
              "      <td>0</td>\n",
              "      <td>0</td>\n",
              "    </tr>\n",
              "  </tbody>\n",
              "</table>\n",
              "</div>"
            ],
            "text/plain": [
              "   index  id    age  gender  height  weight  ap_hi  ap_lo  cholesterol  gluc  \\\n",
              "0      0   0  18393       2     168    62.0    110     80            1     1   \n",
              "1      1   1  20228       1     156    85.0    140     90            3     1   \n",
              "2      2   2  18857       1     165    64.0    130     70            3     1   \n",
              "3      3   3  17623       2     169    82.0    150    100            1     1   \n",
              "4      4   4  17474       1     156    56.0    100     60            1     1   \n",
              "\n",
              "   smoke  alco  active  cardio  \n",
              "0      0     0       1       0  \n",
              "1      0     0       1       1  \n",
              "2      0     0       0       1  \n",
              "3      0     0       1       1  \n",
              "4      0     0       0       0  "
            ]
          },
          "execution_count": 5,
          "metadata": {},
          "output_type": "execute_result"
        }
      ],
      "source": [
        "df = pd.read_csv('data/raw/heart_data.csv') # Directory of the input csv file\n",
        "df.head()"
      ]
    },
    {
      "cell_type": "markdown",
      "metadata": {},
      "source": [
        "Current DataFrame contains 14 different columns/features. The table below contains the name of the original features and a description of each.\n",
        "\n",
        "|Name of feature|Description|Data type|\n",
        "| ----------- | ----------- | ----------- |\n",
        "|`index`|Index of the entry|Integer|\n",
        "|`id`|Unique identifier assigned to each person|Integer|\n",
        "|`age`|Age of the person in days|Integer|\n",
        "|`gender`|Gender of the person, 1 = male, 2 = female|Integer|\n",
        "|`height`|Height of the person in cm|Integer|\n",
        "|`weight`|Weight of the person in kg|Float|\n",
        "|`ap_hi`|Systolic blood pressure reading|Integer|\n",
        "|`ap_lo`|Diastolic blood pressure reading|Integer|\n",
        "|`cholesterol`|Cholesterol level|Integer|\n",
        "|`gluc`|Glucose level|Integer|\n",
        "|`smoke`|Smoking status, 0 = non smoker, 1 = smoker|Integer|\n",
        "|`alco`|Alcohol status, 0 = do not consume alcohol, 1 = consume alcohol|Integer|\n",
        "|`active`|Physical activity status, 0 = non active, 1= active|Integer|\n",
        "|`cardio`|Presence of cardiovascular disease, 0 = non present, 1 = present|Integer|"
      ]
    },
    {
      "cell_type": "markdown",
      "metadata": {
        "id": "ZY3l0-AxO93d"
      },
      "source": [
        "---"
      ]
    },
    {
      "cell_type": "markdown",
      "metadata": {
        "id": "uFQo3ycuO-v6"
      },
      "source": [
        "# ETL: Transformation"
      ]
    },
    {
      "cell_type": "markdown",
      "metadata": {},
      "source": [
        "In this section, descriptive analysis will be done to get an overview of the DataFrame. The DataFrame will then be transformed and cleaned. More indepth transformations of the DataFrame such as finding and handling outliers will be explored in a dedicated EDA notebook."
      ]
    },
    {
      "cell_type": "markdown",
      "metadata": {},
      "source": [
        "Index column is not needed as a pandas DataFrame already has indexing. It will therefore be removed."
      ]
    },
    {
      "cell_type": "code",
      "execution_count": 6,
      "metadata": {},
      "outputs": [
        {
          "data": {
            "text/html": [
              "<div>\n",
              "<style scoped>\n",
              "    .dataframe tbody tr th:only-of-type {\n",
              "        vertical-align: middle;\n",
              "    }\n",
              "\n",
              "    .dataframe tbody tr th {\n",
              "        vertical-align: top;\n",
              "    }\n",
              "\n",
              "    .dataframe thead th {\n",
              "        text-align: right;\n",
              "    }\n",
              "</style>\n",
              "<table border=\"1\" class=\"dataframe\">\n",
              "  <thead>\n",
              "    <tr style=\"text-align: right;\">\n",
              "      <th></th>\n",
              "      <th>id</th>\n",
              "      <th>age</th>\n",
              "      <th>gender</th>\n",
              "      <th>height</th>\n",
              "      <th>weight</th>\n",
              "      <th>ap_hi</th>\n",
              "      <th>ap_lo</th>\n",
              "      <th>cholesterol</th>\n",
              "      <th>gluc</th>\n",
              "      <th>smoke</th>\n",
              "      <th>alco</th>\n",
              "      <th>active</th>\n",
              "      <th>cardio</th>\n",
              "    </tr>\n",
              "  </thead>\n",
              "  <tbody>\n",
              "    <tr>\n",
              "      <th>0</th>\n",
              "      <td>0</td>\n",
              "      <td>18393</td>\n",
              "      <td>2</td>\n",
              "      <td>168</td>\n",
              "      <td>62.0</td>\n",
              "      <td>110</td>\n",
              "      <td>80</td>\n",
              "      <td>1</td>\n",
              "      <td>1</td>\n",
              "      <td>0</td>\n",
              "      <td>0</td>\n",
              "      <td>1</td>\n",
              "      <td>0</td>\n",
              "    </tr>\n",
              "    <tr>\n",
              "      <th>1</th>\n",
              "      <td>1</td>\n",
              "      <td>20228</td>\n",
              "      <td>1</td>\n",
              "      <td>156</td>\n",
              "      <td>85.0</td>\n",
              "      <td>140</td>\n",
              "      <td>90</td>\n",
              "      <td>3</td>\n",
              "      <td>1</td>\n",
              "      <td>0</td>\n",
              "      <td>0</td>\n",
              "      <td>1</td>\n",
              "      <td>1</td>\n",
              "    </tr>\n",
              "    <tr>\n",
              "      <th>2</th>\n",
              "      <td>2</td>\n",
              "      <td>18857</td>\n",
              "      <td>1</td>\n",
              "      <td>165</td>\n",
              "      <td>64.0</td>\n",
              "      <td>130</td>\n",
              "      <td>70</td>\n",
              "      <td>3</td>\n",
              "      <td>1</td>\n",
              "      <td>0</td>\n",
              "      <td>0</td>\n",
              "      <td>0</td>\n",
              "      <td>1</td>\n",
              "    </tr>\n",
              "    <tr>\n",
              "      <th>3</th>\n",
              "      <td>3</td>\n",
              "      <td>17623</td>\n",
              "      <td>2</td>\n",
              "      <td>169</td>\n",
              "      <td>82.0</td>\n",
              "      <td>150</td>\n",
              "      <td>100</td>\n",
              "      <td>1</td>\n",
              "      <td>1</td>\n",
              "      <td>0</td>\n",
              "      <td>0</td>\n",
              "      <td>1</td>\n",
              "      <td>1</td>\n",
              "    </tr>\n",
              "    <tr>\n",
              "      <th>4</th>\n",
              "      <td>4</td>\n",
              "      <td>17474</td>\n",
              "      <td>1</td>\n",
              "      <td>156</td>\n",
              "      <td>56.0</td>\n",
              "      <td>100</td>\n",
              "      <td>60</td>\n",
              "      <td>1</td>\n",
              "      <td>1</td>\n",
              "      <td>0</td>\n",
              "      <td>0</td>\n",
              "      <td>0</td>\n",
              "      <td>0</td>\n",
              "    </tr>\n",
              "  </tbody>\n",
              "</table>\n",
              "</div>"
            ],
            "text/plain": [
              "   id    age  gender  height  weight  ap_hi  ap_lo  cholesterol  gluc  smoke  \\\n",
              "0   0  18393       2     168    62.0    110     80            1     1      0   \n",
              "1   1  20228       1     156    85.0    140     90            3     1      0   \n",
              "2   2  18857       1     165    64.0    130     70            3     1      0   \n",
              "3   3  17623       2     169    82.0    150    100            1     1      0   \n",
              "4   4  17474       1     156    56.0    100     60            1     1      0   \n",
              "\n",
              "   alco  active  cardio  \n",
              "0     0       1       0  \n",
              "1     0       1       1  \n",
              "2     0       0       1  \n",
              "3     0       1       1  \n",
              "4     0       0       0  "
            ]
          },
          "execution_count": 6,
          "metadata": {},
          "output_type": "execute_result"
        }
      ],
      "source": [
        "df.drop(columns=['index'], inplace=True)\n",
        "df.head()"
      ]
    },
    {
      "cell_type": "markdown",
      "metadata": {},
      "source": [
        "## Initial data summary"
      ]
    },
    {
      "cell_type": "markdown",
      "metadata": {},
      "source": [
        "After removing the index column, the dimensions of the DataFrame can be checked using `.shape`. The output of `(70000, 13)` indicates a total of 70000 entries of data with 13 different features."
      ]
    },
    {
      "cell_type": "code",
      "execution_count": 7,
      "metadata": {},
      "outputs": [
        {
          "data": {
            "text/plain": [
              "(70000, 13)"
            ]
          },
          "execution_count": 7,
          "metadata": {},
          "output_type": "execute_result"
        }
      ],
      "source": [
        "df.shape"
      ]
    },
    {
      "cell_type": "markdown",
      "metadata": {},
      "source": [
        "A basic summary of the DataFrame is produced using `df.info()`. Each column have 70000 non-null values, suggesting no missing values. All 13 columns consists of numerical values, with the `weight` column having a float dtype. "
      ]
    },
    {
      "cell_type": "code",
      "execution_count": 8,
      "metadata": {},
      "outputs": [
        {
          "name": "stdout",
          "output_type": "stream",
          "text": [
            "<class 'pandas.core.frame.DataFrame'>\n",
            "RangeIndex: 70000 entries, 0 to 69999\n",
            "Data columns (total 13 columns):\n",
            " #   Column       Non-Null Count  Dtype  \n",
            "---  ------       --------------  -----  \n",
            " 0   id           70000 non-null  int64  \n",
            " 1   age          70000 non-null  int64  \n",
            " 2   gender       70000 non-null  int64  \n",
            " 3   height       70000 non-null  int64  \n",
            " 4   weight       70000 non-null  float64\n",
            " 5   ap_hi        70000 non-null  int64  \n",
            " 6   ap_lo        70000 non-null  int64  \n",
            " 7   cholesterol  70000 non-null  int64  \n",
            " 8   gluc         70000 non-null  int64  \n",
            " 9   smoke        70000 non-null  int64  \n",
            " 10  alco         70000 non-null  int64  \n",
            " 11  active       70000 non-null  int64  \n",
            " 12  cardio       70000 non-null  int64  \n",
            "dtypes: float64(1), int64(12)\n",
            "memory usage: 6.9 MB\n"
          ]
        }
      ],
      "source": [
        "df.info()"
      ]
    },
    {
      "cell_type": "markdown",
      "metadata": {},
      "source": [
        "## Handling missing values\n",
        "The existance of any missing values can be confirmed using `.isnull().sum()`. It sums all null values in each column. Output of 0 for all columns means that there are no missing values."
      ]
    },
    {
      "cell_type": "code",
      "execution_count": 9,
      "metadata": {},
      "outputs": [
        {
          "data": {
            "text/plain": [
              "id             0\n",
              "age            0\n",
              "gender         0\n",
              "height         0\n",
              "weight         0\n",
              "ap_hi          0\n",
              "ap_lo          0\n",
              "cholesterol    0\n",
              "gluc           0\n",
              "smoke          0\n",
              "alco           0\n",
              "active         0\n",
              "cardio         0\n",
              "dtype: int64"
            ]
          },
          "execution_count": 9,
          "metadata": {},
          "output_type": "execute_result"
        }
      ],
      "source": [
        "df.isnull().sum()"
      ]
    },
    {
      "cell_type": "markdown",
      "metadata": {},
      "source": [
        "Any duplicated entries are checked with `.duplicated().sum()`. Output of 0 means no instances of duplicated entries."
      ]
    },
    {
      "cell_type": "code",
      "execution_count": 10,
      "metadata": {},
      "outputs": [
        {
          "data": {
            "text/plain": [
              "0"
            ]
          },
          "execution_count": 10,
          "metadata": {},
          "output_type": "execute_result"
        }
      ],
      "source": [
        "df.duplicated().sum()"
      ]
    },
    {
      "cell_type": "markdown",
      "metadata": {},
      "source": [
        "## Changing data types\n",
        "\n",
        "Some columns have numerical dtypes when they should have categorical dtypes. Columns such as age should be converted to categorical data to allow for easier categorical operations such as grouping and segmentation later on.\n",
        "\n",
        "Starting with the **'id'** column. Normally, it is better to convert it to a categorical data type if there are multiple entries with the same id. But as there are no duplicated id values, seen by the 7000 counts of unique values, conversion is not needed.\n",
        "\n",
        "Other columns with only 2 or 3 unique values should be converted into a categorical dtype as they are not continuous."
      ]
    },
    {
      "cell_type": "code",
      "execution_count": 11,
      "metadata": {},
      "outputs": [
        {
          "data": {
            "text/plain": [
              "id             70000\n",
              "age             8076\n",
              "gender             2\n",
              "height           109\n",
              "weight           287\n",
              "ap_hi            153\n",
              "ap_lo            157\n",
              "cholesterol        3\n",
              "gluc               3\n",
              "smoke              2\n",
              "alco               2\n",
              "active             2\n",
              "cardio             2\n",
              "dtype: int64"
            ]
          },
          "execution_count": 11,
          "metadata": {},
          "output_type": "execute_result"
        }
      ],
      "source": [
        "'''Check the number of unique values in each column'''\n",
        "\n",
        "df.nunique()"
      ]
    },
    {
      "cell_type": "markdown",
      "metadata": {},
      "source": [
        "The other values are converted to a category dtype."
      ]
    },
    {
      "cell_type": "code",
      "execution_count": 12,
      "metadata": {},
      "outputs": [
        {
          "name": "stdout",
          "output_type": "stream",
          "text": [
            "<class 'pandas.core.frame.DataFrame'>\n",
            "RangeIndex: 70000 entries, 0 to 69999\n",
            "Data columns (total 13 columns):\n",
            " #   Column       Non-Null Count  Dtype   \n",
            "---  ------       --------------  -----   \n",
            " 0   id           70000 non-null  int64   \n",
            " 1   age          70000 non-null  int64   \n",
            " 2   gender       70000 non-null  category\n",
            " 3   height       70000 non-null  int64   \n",
            " 4   weight       70000 non-null  float64 \n",
            " 5   ap_hi        70000 non-null  int64   \n",
            " 6   ap_lo        70000 non-null  int64   \n",
            " 7   cholesterol  70000 non-null  category\n",
            " 8   gluc         70000 non-null  category\n",
            " 9   smoke        70000 non-null  category\n",
            " 10  alco         70000 non-null  category\n",
            " 11  active       70000 non-null  category\n",
            " 12  cardio       70000 non-null  category\n",
            "dtypes: category(7), float64(1), int64(5)\n",
            "memory usage: 3.7 MB\n"
          ]
        }
      ],
      "source": [
        "'''Convert categorical columns from 'int64' to 'category' dtype'''\n",
        "\n",
        "catag_cols = ['gender', 'cholesterol', 'gluc', 'smoke', 'alco', 'active', 'cardio']\n",
        "df[catag_cols] = df[catag_cols].astype('category')\n",
        "df.info()"
      ]
    },
    {
      "cell_type": "markdown",
      "metadata": {},
      "source": [
        "## Handling impossible values"
      ]
    },
    {
      "cell_type": "markdown",
      "metadata": {},
      "source": [
        "An overview of the distribution of the numerical data can be obtained using `.describe()`. From the statistics generated, the maximum and minimum values of each features can be seen. \n",
        "\n",
        "The minimum values for `height`, `weight` and `age` are all very small, but it can be a statistical outlier and are not impossible(e.g. a small child). This will be investigated further in the EDA. \n",
        "\n",
        "However, the minimum and maximum values for `ap_hi` and `ap_lo` are not possible and likely data errors. A realistic range for systolic and diastolic pressure is between 60–250 and 30–150, respectively. Anything outside of that range is clinically implausable. The min and max values shown in the data are far outside of that range."
      ]
    },
    {
      "cell_type": "code",
      "execution_count": 18,
      "metadata": {},
      "outputs": [
        {
          "data": {
            "text/html": [
              "<div>\n",
              "<style scoped>\n",
              "    .dataframe tbody tr th:only-of-type {\n",
              "        vertical-align: middle;\n",
              "    }\n",
              "\n",
              "    .dataframe tbody tr th {\n",
              "        vertical-align: top;\n",
              "    }\n",
              "\n",
              "    .dataframe thead th {\n",
              "        text-align: right;\n",
              "    }\n",
              "</style>\n",
              "<table border=\"1\" class=\"dataframe\">\n",
              "  <thead>\n",
              "    <tr style=\"text-align: right;\">\n",
              "      <th></th>\n",
              "      <th>id</th>\n",
              "      <th>age</th>\n",
              "      <th>height</th>\n",
              "      <th>weight</th>\n",
              "      <th>ap_hi</th>\n",
              "      <th>ap_lo</th>\n",
              "    </tr>\n",
              "  </thead>\n",
              "  <tbody>\n",
              "    <tr>\n",
              "      <th>count</th>\n",
              "      <td>70000.000000</td>\n",
              "      <td>70000.000000</td>\n",
              "      <td>70000.000000</td>\n",
              "      <td>70000.000000</td>\n",
              "      <td>70000.000000</td>\n",
              "      <td>70000.000000</td>\n",
              "    </tr>\n",
              "    <tr>\n",
              "      <th>mean</th>\n",
              "      <td>49972.419900</td>\n",
              "      <td>19468.865814</td>\n",
              "      <td>164.359229</td>\n",
              "      <td>74.205690</td>\n",
              "      <td>128.817286</td>\n",
              "      <td>96.630414</td>\n",
              "    </tr>\n",
              "    <tr>\n",
              "      <th>std</th>\n",
              "      <td>28851.302323</td>\n",
              "      <td>2467.251667</td>\n",
              "      <td>8.210126</td>\n",
              "      <td>14.395757</td>\n",
              "      <td>154.011419</td>\n",
              "      <td>188.472530</td>\n",
              "    </tr>\n",
              "    <tr>\n",
              "      <th>min</th>\n",
              "      <td>0.000000</td>\n",
              "      <td>10798.000000</td>\n",
              "      <td>55.000000</td>\n",
              "      <td>10.000000</td>\n",
              "      <td>-150.000000</td>\n",
              "      <td>-70.000000</td>\n",
              "    </tr>\n",
              "    <tr>\n",
              "      <th>25%</th>\n",
              "      <td>25006.750000</td>\n",
              "      <td>17664.000000</td>\n",
              "      <td>159.000000</td>\n",
              "      <td>65.000000</td>\n",
              "      <td>120.000000</td>\n",
              "      <td>80.000000</td>\n",
              "    </tr>\n",
              "    <tr>\n",
              "      <th>50%</th>\n",
              "      <td>50001.500000</td>\n",
              "      <td>19703.000000</td>\n",
              "      <td>165.000000</td>\n",
              "      <td>72.000000</td>\n",
              "      <td>120.000000</td>\n",
              "      <td>80.000000</td>\n",
              "    </tr>\n",
              "    <tr>\n",
              "      <th>75%</th>\n",
              "      <td>74889.250000</td>\n",
              "      <td>21327.000000</td>\n",
              "      <td>170.000000</td>\n",
              "      <td>82.000000</td>\n",
              "      <td>140.000000</td>\n",
              "      <td>90.000000</td>\n",
              "    </tr>\n",
              "    <tr>\n",
              "      <th>max</th>\n",
              "      <td>99999.000000</td>\n",
              "      <td>23713.000000</td>\n",
              "      <td>250.000000</td>\n",
              "      <td>200.000000</td>\n",
              "      <td>16020.000000</td>\n",
              "      <td>11000.000000</td>\n",
              "    </tr>\n",
              "  </tbody>\n",
              "</table>\n",
              "</div>"
            ],
            "text/plain": [
              "                 id           age        height        weight         ap_hi  \\\n",
              "count  70000.000000  70000.000000  70000.000000  70000.000000  70000.000000   \n",
              "mean   49972.419900  19468.865814    164.359229     74.205690    128.817286   \n",
              "std    28851.302323   2467.251667      8.210126     14.395757    154.011419   \n",
              "min        0.000000  10798.000000     55.000000     10.000000   -150.000000   \n",
              "25%    25006.750000  17664.000000    159.000000     65.000000    120.000000   \n",
              "50%    50001.500000  19703.000000    165.000000     72.000000    120.000000   \n",
              "75%    74889.250000  21327.000000    170.000000     82.000000    140.000000   \n",
              "max    99999.000000  23713.000000    250.000000    200.000000  16020.000000   \n",
              "\n",
              "              ap_lo  \n",
              "count  70000.000000  \n",
              "mean      96.630414  \n",
              "std      188.472530  \n",
              "min      -70.000000  \n",
              "25%       80.000000  \n",
              "50%       80.000000  \n",
              "75%       90.000000  \n",
              "max    11000.000000  "
            ]
          },
          "execution_count": 18,
          "metadata": {},
          "output_type": "execute_result"
        }
      ],
      "source": [
        "'''Check the summary statistics of numerical columns'''\n",
        "\n",
        "df.select_dtypes(exclude=['category']).describe() "
      ]
    },
    {
      "cell_type": "markdown",
      "metadata": {},
      "source": [
        "There are 1239 entries with unrealistic blood pressure readings."
      ]
    },
    {
      "cell_type": "code",
      "execution_count": null,
      "metadata": {},
      "outputs": [
        {
          "data": {
            "text/html": [
              "<div>\n",
              "<style scoped>\n",
              "    .dataframe tbody tr th:only-of-type {\n",
              "        vertical-align: middle;\n",
              "    }\n",
              "\n",
              "    .dataframe tbody tr th {\n",
              "        vertical-align: top;\n",
              "    }\n",
              "\n",
              "    .dataframe thead th {\n",
              "        text-align: right;\n",
              "    }\n",
              "</style>\n",
              "<table border=\"1\" class=\"dataframe\">\n",
              "  <thead>\n",
              "    <tr style=\"text-align: right;\">\n",
              "      <th></th>\n",
              "      <th>id</th>\n",
              "      <th>age</th>\n",
              "      <th>gender</th>\n",
              "      <th>height</th>\n",
              "      <th>weight</th>\n",
              "      <th>ap_hi</th>\n",
              "      <th>ap_lo</th>\n",
              "      <th>cholesterol</th>\n",
              "      <th>gluc</th>\n",
              "      <th>smoke</th>\n",
              "      <th>alco</th>\n",
              "      <th>active</th>\n",
              "      <th>cardio</th>\n",
              "    </tr>\n",
              "  </thead>\n",
              "  <tbody>\n",
              "    <tr>\n",
              "      <th>228</th>\n",
              "      <td>314</td>\n",
              "      <td>17489</td>\n",
              "      <td>2</td>\n",
              "      <td>183</td>\n",
              "      <td>98.0</td>\n",
              "      <td>160</td>\n",
              "      <td>1100</td>\n",
              "      <td>1</td>\n",
              "      <td>2</td>\n",
              "      <td>1</td>\n",
              "      <td>0</td>\n",
              "      <td>1</td>\n",
              "      <td>1</td>\n",
              "    </tr>\n",
              "    <tr>\n",
              "      <th>241</th>\n",
              "      <td>334</td>\n",
              "      <td>21932</td>\n",
              "      <td>2</td>\n",
              "      <td>157</td>\n",
              "      <td>60.0</td>\n",
              "      <td>160</td>\n",
              "      <td>1000</td>\n",
              "      <td>2</td>\n",
              "      <td>1</td>\n",
              "      <td>0</td>\n",
              "      <td>0</td>\n",
              "      <td>0</td>\n",
              "      <td>1</td>\n",
              "    </tr>\n",
              "    <tr>\n",
              "      <th>260</th>\n",
              "      <td>357</td>\n",
              "      <td>18217</td>\n",
              "      <td>1</td>\n",
              "      <td>150</td>\n",
              "      <td>83.0</td>\n",
              "      <td>140</td>\n",
              "      <td>800</td>\n",
              "      <td>1</td>\n",
              "      <td>1</td>\n",
              "      <td>0</td>\n",
              "      <td>0</td>\n",
              "      <td>1</td>\n",
              "      <td>1</td>\n",
              "    </tr>\n",
              "    <tr>\n",
              "      <th>329</th>\n",
              "      <td>458</td>\n",
              "      <td>23407</td>\n",
              "      <td>1</td>\n",
              "      <td>176</td>\n",
              "      <td>63.0</td>\n",
              "      <td>160</td>\n",
              "      <td>1000</td>\n",
              "      <td>2</td>\n",
              "      <td>2</td>\n",
              "      <td>0</td>\n",
              "      <td>0</td>\n",
              "      <td>0</td>\n",
              "      <td>1</td>\n",
              "    </tr>\n",
              "    <tr>\n",
              "      <th>345</th>\n",
              "      <td>482</td>\n",
              "      <td>18704</td>\n",
              "      <td>1</td>\n",
              "      <td>154</td>\n",
              "      <td>81.0</td>\n",
              "      <td>140</td>\n",
              "      <td>1000</td>\n",
              "      <td>2</td>\n",
              "      <td>1</td>\n",
              "      <td>0</td>\n",
              "      <td>0</td>\n",
              "      <td>1</td>\n",
              "      <td>1</td>\n",
              "    </tr>\n",
              "    <tr>\n",
              "      <th>...</th>\n",
              "      <td>...</td>\n",
              "      <td>...</td>\n",
              "      <td>...</td>\n",
              "      <td>...</td>\n",
              "      <td>...</td>\n",
              "      <td>...</td>\n",
              "      <td>...</td>\n",
              "      <td>...</td>\n",
              "      <td>...</td>\n",
              "      <td>...</td>\n",
              "      <td>...</td>\n",
              "      <td>...</td>\n",
              "      <td>...</td>\n",
              "    </tr>\n",
              "    <tr>\n",
              "      <th>69771</th>\n",
              "      <td>99659</td>\n",
              "      <td>23330</td>\n",
              "      <td>1</td>\n",
              "      <td>167</td>\n",
              "      <td>81.0</td>\n",
              "      <td>160</td>\n",
              "      <td>1000</td>\n",
              "      <td>1</td>\n",
              "      <td>1</td>\n",
              "      <td>0</td>\n",
              "      <td>0</td>\n",
              "      <td>1</td>\n",
              "      <td>1</td>\n",
              "    </tr>\n",
              "    <tr>\n",
              "      <th>69872</th>\n",
              "      <td>99798</td>\n",
              "      <td>21808</td>\n",
              "      <td>1</td>\n",
              "      <td>152</td>\n",
              "      <td>56.0</td>\n",
              "      <td>160</td>\n",
              "      <td>1000</td>\n",
              "      <td>1</td>\n",
              "      <td>1</td>\n",
              "      <td>0</td>\n",
              "      <td>0</td>\n",
              "      <td>1</td>\n",
              "      <td>1</td>\n",
              "    </tr>\n",
              "    <tr>\n",
              "      <th>69878</th>\n",
              "      <td>99807</td>\n",
              "      <td>21239</td>\n",
              "      <td>2</td>\n",
              "      <td>168</td>\n",
              "      <td>95.0</td>\n",
              "      <td>160</td>\n",
              "      <td>1000</td>\n",
              "      <td>1</td>\n",
              "      <td>1</td>\n",
              "      <td>0</td>\n",
              "      <td>0</td>\n",
              "      <td>1</td>\n",
              "      <td>1</td>\n",
              "    </tr>\n",
              "    <tr>\n",
              "      <th>69885</th>\n",
              "      <td>99816</td>\n",
              "      <td>22417</td>\n",
              "      <td>2</td>\n",
              "      <td>166</td>\n",
              "      <td>78.0</td>\n",
              "      <td>170</td>\n",
              "      <td>1000</td>\n",
              "      <td>1</td>\n",
              "      <td>1</td>\n",
              "      <td>0</td>\n",
              "      <td>0</td>\n",
              "      <td>0</td>\n",
              "      <td>0</td>\n",
              "    </tr>\n",
              "    <tr>\n",
              "      <th>69967</th>\n",
              "      <td>99955</td>\n",
              "      <td>21416</td>\n",
              "      <td>2</td>\n",
              "      <td>168</td>\n",
              "      <td>63.0</td>\n",
              "      <td>140</td>\n",
              "      <td>1000</td>\n",
              "      <td>1</td>\n",
              "      <td>1</td>\n",
              "      <td>0</td>\n",
              "      <td>0</td>\n",
              "      <td>1</td>\n",
              "      <td>1</td>\n",
              "    </tr>\n",
              "  </tbody>\n",
              "</table>\n",
              "<p>1239 rows × 13 columns</p>\n",
              "</div>"
            ],
            "text/plain": [
              "          id    age gender  height  weight  ap_hi  ap_lo cholesterol gluc  \\\n",
              "228      314  17489      2     183    98.0    160   1100           1    2   \n",
              "241      334  21932      2     157    60.0    160   1000           2    1   \n",
              "260      357  18217      1     150    83.0    140    800           1    1   \n",
              "329      458  23407      1     176    63.0    160   1000           2    2   \n",
              "345      482  18704      1     154    81.0    140   1000           2    1   \n",
              "...      ...    ...    ...     ...     ...    ...    ...         ...  ...   \n",
              "69771  99659  23330      1     167    81.0    160   1000           1    1   \n",
              "69872  99798  21808      1     152    56.0    160   1000           1    1   \n",
              "69878  99807  21239      2     168    95.0    160   1000           1    1   \n",
              "69885  99816  22417      2     166    78.0    170   1000           1    1   \n",
              "69967  99955  21416      2     168    63.0    140   1000           1    1   \n",
              "\n",
              "      smoke alco active cardio  \n",
              "228       1    0      1      1  \n",
              "241       0    0      0      1  \n",
              "260       0    0      1      1  \n",
              "329       0    0      0      1  \n",
              "345       0    0      1      1  \n",
              "...     ...  ...    ...    ...  \n",
              "69771     0    0      1      1  \n",
              "69872     0    0      1      1  \n",
              "69878     0    0      1      1  \n",
              "69885     0    0      0      0  \n",
              "69967     0    0      1      1  \n",
              "\n",
              "[1239 rows x 13 columns]"
            ]
          },
          "execution_count": 15,
          "metadata": {},
          "output_type": "execute_result"
        }
      ],
      "source": [
        "'''Find entries with unrealistic systolic or diastolic BP'''\n",
        "df[(df[\"ap_hi\"] < 60) | (df[\"ap_hi\"] > 250) | (df[\"ap_lo\"] < 30) | (df[\"ap_lo\"] > 150)]"
      ]
    },
    {
      "cell_type": "markdown",
      "metadata": {},
      "source": [
        "Negative values for `ap_hi` and `ap_lo` are assumed to be input errors and changed to positive values. The minimum and Maximum values are still far outside of the acceptable range."
      ]
    },
    {
      "cell_type": "code",
      "execution_count": 16,
      "metadata": {},
      "outputs": [
        {
          "data": {
            "text/html": [
              "<div>\n",
              "<style scoped>\n",
              "    .dataframe tbody tr th:only-of-type {\n",
              "        vertical-align: middle;\n",
              "    }\n",
              "\n",
              "    .dataframe tbody tr th {\n",
              "        vertical-align: top;\n",
              "    }\n",
              "\n",
              "    .dataframe thead th {\n",
              "        text-align: right;\n",
              "    }\n",
              "</style>\n",
              "<table border=\"1\" class=\"dataframe\">\n",
              "  <thead>\n",
              "    <tr style=\"text-align: right;\">\n",
              "      <th></th>\n",
              "      <th>id</th>\n",
              "      <th>age</th>\n",
              "      <th>height</th>\n",
              "      <th>weight</th>\n",
              "      <th>ap_hi</th>\n",
              "      <th>ap_lo</th>\n",
              "    </tr>\n",
              "  </thead>\n",
              "  <tbody>\n",
              "    <tr>\n",
              "      <th>count</th>\n",
              "      <td>70000.000000</td>\n",
              "      <td>70000.000000</td>\n",
              "      <td>70000.000000</td>\n",
              "      <td>70000.000000</td>\n",
              "      <td>70000.000000</td>\n",
              "      <td>70000.000000</td>\n",
              "    </tr>\n",
              "    <tr>\n",
              "      <th>mean</th>\n",
              "      <td>49972.419900</td>\n",
              "      <td>19468.865814</td>\n",
              "      <td>164.359229</td>\n",
              "      <td>74.205690</td>\n",
              "      <td>128.841429</td>\n",
              "      <td>96.632414</td>\n",
              "    </tr>\n",
              "    <tr>\n",
              "      <th>std</th>\n",
              "      <td>28851.302323</td>\n",
              "      <td>2467.251667</td>\n",
              "      <td>8.210126</td>\n",
              "      <td>14.395757</td>\n",
              "      <td>153.991223</td>\n",
              "      <td>188.471505</td>\n",
              "    </tr>\n",
              "    <tr>\n",
              "      <th>min</th>\n",
              "      <td>0.000000</td>\n",
              "      <td>10798.000000</td>\n",
              "      <td>55.000000</td>\n",
              "      <td>10.000000</td>\n",
              "      <td>1.000000</td>\n",
              "      <td>0.000000</td>\n",
              "    </tr>\n",
              "    <tr>\n",
              "      <th>25%</th>\n",
              "      <td>25006.750000</td>\n",
              "      <td>17664.000000</td>\n",
              "      <td>159.000000</td>\n",
              "      <td>65.000000</td>\n",
              "      <td>120.000000</td>\n",
              "      <td>80.000000</td>\n",
              "    </tr>\n",
              "    <tr>\n",
              "      <th>50%</th>\n",
              "      <td>50001.500000</td>\n",
              "      <td>19703.000000</td>\n",
              "      <td>165.000000</td>\n",
              "      <td>72.000000</td>\n",
              "      <td>120.000000</td>\n",
              "      <td>80.000000</td>\n",
              "    </tr>\n",
              "    <tr>\n",
              "      <th>75%</th>\n",
              "      <td>74889.250000</td>\n",
              "      <td>21327.000000</td>\n",
              "      <td>170.000000</td>\n",
              "      <td>82.000000</td>\n",
              "      <td>140.000000</td>\n",
              "      <td>90.000000</td>\n",
              "    </tr>\n",
              "    <tr>\n",
              "      <th>max</th>\n",
              "      <td>99999.000000</td>\n",
              "      <td>23713.000000</td>\n",
              "      <td>250.000000</td>\n",
              "      <td>200.000000</td>\n",
              "      <td>16020.000000</td>\n",
              "      <td>11000.000000</td>\n",
              "    </tr>\n",
              "  </tbody>\n",
              "</table>\n",
              "</div>"
            ],
            "text/plain": [
              "                 id           age        height        weight         ap_hi  \\\n",
              "count  70000.000000  70000.000000  70000.000000  70000.000000  70000.000000   \n",
              "mean   49972.419900  19468.865814    164.359229     74.205690    128.841429   \n",
              "std    28851.302323   2467.251667      8.210126     14.395757    153.991223   \n",
              "min        0.000000  10798.000000     55.000000     10.000000      1.000000   \n",
              "25%    25006.750000  17664.000000    159.000000     65.000000    120.000000   \n",
              "50%    50001.500000  19703.000000    165.000000     72.000000    120.000000   \n",
              "75%    74889.250000  21327.000000    170.000000     82.000000    140.000000   \n",
              "max    99999.000000  23713.000000    250.000000    200.000000  16020.000000   \n",
              "\n",
              "              ap_lo  \n",
              "count  70000.000000  \n",
              "mean      96.632414  \n",
              "std      188.471505  \n",
              "min        0.000000  \n",
              "25%       80.000000  \n",
              "50%       80.000000  \n",
              "75%       90.000000  \n",
              "max    11000.000000  "
            ]
          },
          "execution_count": 16,
          "metadata": {},
          "output_type": "execute_result"
        }
      ],
      "source": [
        "'''Make systolic and diastolic blood pressure values positive'''\n",
        "df['ap_hi'] = df[['ap_hi']].abs()\n",
        "df['ap_lo'] = df[['ap_lo']].abs()\n",
        "df.select_dtypes(exclude=['category']).describe()"
      ]
    },
    {
      "cell_type": "markdown",
      "metadata": {},
      "source": [
        "There are still 1232 entries with unrealistic blood pressure readings after making all values positive."
      ]
    },
    {
      "cell_type": "code",
      "execution_count": 17,
      "metadata": {},
      "outputs": [
        {
          "data": {
            "text/html": [
              "<div>\n",
              "<style scoped>\n",
              "    .dataframe tbody tr th:only-of-type {\n",
              "        vertical-align: middle;\n",
              "    }\n",
              "\n",
              "    .dataframe tbody tr th {\n",
              "        vertical-align: top;\n",
              "    }\n",
              "\n",
              "    .dataframe thead th {\n",
              "        text-align: right;\n",
              "    }\n",
              "</style>\n",
              "<table border=\"1\" class=\"dataframe\">\n",
              "  <thead>\n",
              "    <tr style=\"text-align: right;\">\n",
              "      <th></th>\n",
              "      <th>id</th>\n",
              "      <th>age</th>\n",
              "      <th>gender</th>\n",
              "      <th>height</th>\n",
              "      <th>weight</th>\n",
              "      <th>ap_hi</th>\n",
              "      <th>ap_lo</th>\n",
              "      <th>cholesterol</th>\n",
              "      <th>gluc</th>\n",
              "      <th>smoke</th>\n",
              "      <th>alco</th>\n",
              "      <th>active</th>\n",
              "      <th>cardio</th>\n",
              "    </tr>\n",
              "  </thead>\n",
              "  <tbody>\n",
              "    <tr>\n",
              "      <th>228</th>\n",
              "      <td>314</td>\n",
              "      <td>17489</td>\n",
              "      <td>2</td>\n",
              "      <td>183</td>\n",
              "      <td>98.0</td>\n",
              "      <td>160</td>\n",
              "      <td>1100</td>\n",
              "      <td>1</td>\n",
              "      <td>2</td>\n",
              "      <td>1</td>\n",
              "      <td>0</td>\n",
              "      <td>1</td>\n",
              "      <td>1</td>\n",
              "    </tr>\n",
              "    <tr>\n",
              "      <th>241</th>\n",
              "      <td>334</td>\n",
              "      <td>21932</td>\n",
              "      <td>2</td>\n",
              "      <td>157</td>\n",
              "      <td>60.0</td>\n",
              "      <td>160</td>\n",
              "      <td>1000</td>\n",
              "      <td>2</td>\n",
              "      <td>1</td>\n",
              "      <td>0</td>\n",
              "      <td>0</td>\n",
              "      <td>0</td>\n",
              "      <td>1</td>\n",
              "    </tr>\n",
              "    <tr>\n",
              "      <th>260</th>\n",
              "      <td>357</td>\n",
              "      <td>18217</td>\n",
              "      <td>1</td>\n",
              "      <td>150</td>\n",
              "      <td>83.0</td>\n",
              "      <td>140</td>\n",
              "      <td>800</td>\n",
              "      <td>1</td>\n",
              "      <td>1</td>\n",
              "      <td>0</td>\n",
              "      <td>0</td>\n",
              "      <td>1</td>\n",
              "      <td>1</td>\n",
              "    </tr>\n",
              "    <tr>\n",
              "      <th>329</th>\n",
              "      <td>458</td>\n",
              "      <td>23407</td>\n",
              "      <td>1</td>\n",
              "      <td>176</td>\n",
              "      <td>63.0</td>\n",
              "      <td>160</td>\n",
              "      <td>1000</td>\n",
              "      <td>2</td>\n",
              "      <td>2</td>\n",
              "      <td>0</td>\n",
              "      <td>0</td>\n",
              "      <td>0</td>\n",
              "      <td>1</td>\n",
              "    </tr>\n",
              "    <tr>\n",
              "      <th>345</th>\n",
              "      <td>482</td>\n",
              "      <td>18704</td>\n",
              "      <td>1</td>\n",
              "      <td>154</td>\n",
              "      <td>81.0</td>\n",
              "      <td>140</td>\n",
              "      <td>1000</td>\n",
              "      <td>2</td>\n",
              "      <td>1</td>\n",
              "      <td>0</td>\n",
              "      <td>0</td>\n",
              "      <td>1</td>\n",
              "      <td>1</td>\n",
              "    </tr>\n",
              "    <tr>\n",
              "      <th>...</th>\n",
              "      <td>...</td>\n",
              "      <td>...</td>\n",
              "      <td>...</td>\n",
              "      <td>...</td>\n",
              "      <td>...</td>\n",
              "      <td>...</td>\n",
              "      <td>...</td>\n",
              "      <td>...</td>\n",
              "      <td>...</td>\n",
              "      <td>...</td>\n",
              "      <td>...</td>\n",
              "      <td>...</td>\n",
              "      <td>...</td>\n",
              "    </tr>\n",
              "    <tr>\n",
              "      <th>69771</th>\n",
              "      <td>99659</td>\n",
              "      <td>23330</td>\n",
              "      <td>1</td>\n",
              "      <td>167</td>\n",
              "      <td>81.0</td>\n",
              "      <td>160</td>\n",
              "      <td>1000</td>\n",
              "      <td>1</td>\n",
              "      <td>1</td>\n",
              "      <td>0</td>\n",
              "      <td>0</td>\n",
              "      <td>1</td>\n",
              "      <td>1</td>\n",
              "    </tr>\n",
              "    <tr>\n",
              "      <th>69872</th>\n",
              "      <td>99798</td>\n",
              "      <td>21808</td>\n",
              "      <td>1</td>\n",
              "      <td>152</td>\n",
              "      <td>56.0</td>\n",
              "      <td>160</td>\n",
              "      <td>1000</td>\n",
              "      <td>1</td>\n",
              "      <td>1</td>\n",
              "      <td>0</td>\n",
              "      <td>0</td>\n",
              "      <td>1</td>\n",
              "      <td>1</td>\n",
              "    </tr>\n",
              "    <tr>\n",
              "      <th>69878</th>\n",
              "      <td>99807</td>\n",
              "      <td>21239</td>\n",
              "      <td>2</td>\n",
              "      <td>168</td>\n",
              "      <td>95.0</td>\n",
              "      <td>160</td>\n",
              "      <td>1000</td>\n",
              "      <td>1</td>\n",
              "      <td>1</td>\n",
              "      <td>0</td>\n",
              "      <td>0</td>\n",
              "      <td>1</td>\n",
              "      <td>1</td>\n",
              "    </tr>\n",
              "    <tr>\n",
              "      <th>69885</th>\n",
              "      <td>99816</td>\n",
              "      <td>22417</td>\n",
              "      <td>2</td>\n",
              "      <td>166</td>\n",
              "      <td>78.0</td>\n",
              "      <td>170</td>\n",
              "      <td>1000</td>\n",
              "      <td>1</td>\n",
              "      <td>1</td>\n",
              "      <td>0</td>\n",
              "      <td>0</td>\n",
              "      <td>0</td>\n",
              "      <td>0</td>\n",
              "    </tr>\n",
              "    <tr>\n",
              "      <th>69967</th>\n",
              "      <td>99955</td>\n",
              "      <td>21416</td>\n",
              "      <td>2</td>\n",
              "      <td>168</td>\n",
              "      <td>63.0</td>\n",
              "      <td>140</td>\n",
              "      <td>1000</td>\n",
              "      <td>1</td>\n",
              "      <td>1</td>\n",
              "      <td>0</td>\n",
              "      <td>0</td>\n",
              "      <td>1</td>\n",
              "      <td>1</td>\n",
              "    </tr>\n",
              "  </tbody>\n",
              "</table>\n",
              "<p>1232 rows × 13 columns</p>\n",
              "</div>"
            ],
            "text/plain": [
              "          id    age gender  height  weight  ap_hi  ap_lo cholesterol gluc  \\\n",
              "228      314  17489      2     183    98.0    160   1100           1    2   \n",
              "241      334  21932      2     157    60.0    160   1000           2    1   \n",
              "260      357  18217      1     150    83.0    140    800           1    1   \n",
              "329      458  23407      1     176    63.0    160   1000           2    2   \n",
              "345      482  18704      1     154    81.0    140   1000           2    1   \n",
              "...      ...    ...    ...     ...     ...    ...    ...         ...  ...   \n",
              "69771  99659  23330      1     167    81.0    160   1000           1    1   \n",
              "69872  99798  21808      1     152    56.0    160   1000           1    1   \n",
              "69878  99807  21239      2     168    95.0    160   1000           1    1   \n",
              "69885  99816  22417      2     166    78.0    170   1000           1    1   \n",
              "69967  99955  21416      2     168    63.0    140   1000           1    1   \n",
              "\n",
              "      smoke alco active cardio  \n",
              "228       1    0      1      1  \n",
              "241       0    0      0      1  \n",
              "260       0    0      1      1  \n",
              "329       0    0      0      1  \n",
              "345       0    0      1      1  \n",
              "...     ...  ...    ...    ...  \n",
              "69771     0    0      1      1  \n",
              "69872     0    0      1      1  \n",
              "69878     0    0      1      1  \n",
              "69885     0    0      0      0  \n",
              "69967     0    0      1      1  \n",
              "\n",
              "[1232 rows x 13 columns]"
            ]
          },
          "execution_count": 17,
          "metadata": {},
          "output_type": "execute_result"
        }
      ],
      "source": [
        "'''Find entries with unrealistic systolic or diastolic BP'''\n",
        "df[(df[\"ap_hi\"] < 60) | (df[\"ap_hi\"] > 250) | (df[\"ap_lo\"] < 30) | (df[\"ap_lo\"] > 150)]"
      ]
    },
    {
      "cell_type": "code",
      "execution_count": 22,
      "metadata": {},
      "outputs": [
        {
          "data": {
            "text/html": [
              "<div>\n",
              "<style scoped>\n",
              "    .dataframe tbody tr th:only-of-type {\n",
              "        vertical-align: middle;\n",
              "    }\n",
              "\n",
              "    .dataframe tbody tr th {\n",
              "        vertical-align: top;\n",
              "    }\n",
              "\n",
              "    .dataframe thead th {\n",
              "        text-align: right;\n",
              "    }\n",
              "</style>\n",
              "<table border=\"1\" class=\"dataframe\">\n",
              "  <thead>\n",
              "    <tr style=\"text-align: right;\">\n",
              "      <th></th>\n",
              "      <th>id</th>\n",
              "      <th>age</th>\n",
              "      <th>height</th>\n",
              "      <th>weight</th>\n",
              "      <th>ap_hi</th>\n",
              "      <th>ap_lo</th>\n",
              "    </tr>\n",
              "  </thead>\n",
              "  <tbody>\n",
              "    <tr>\n",
              "      <th>count</th>\n",
              "      <td>1232.000000</td>\n",
              "      <td>1232.000000</td>\n",
              "      <td>1232.000000</td>\n",
              "      <td>1232.000000</td>\n",
              "      <td>1232.000000</td>\n",
              "      <td>1232.000000</td>\n",
              "    </tr>\n",
              "    <tr>\n",
              "      <th>mean</th>\n",
              "      <td>50126.608766</td>\n",
              "      <td>19721.268669</td>\n",
              "      <td>164.214286</td>\n",
              "      <td>78.913799</td>\n",
              "      <td>253.230519</td>\n",
              "      <td>949.594968</td>\n",
              "    </tr>\n",
              "    <tr>\n",
              "      <th>std</th>\n",
              "      <td>29239.541719</td>\n",
              "      <td>2400.673766</td>\n",
              "      <td>9.523643</td>\n",
              "      <td>16.950492</td>\n",
              "      <td>1147.602819</td>\n",
              "      <td>1128.531610</td>\n",
              "    </tr>\n",
              "    <tr>\n",
              "      <th>min</th>\n",
              "      <td>314.000000</td>\n",
              "      <td>14297.000000</td>\n",
              "      <td>66.000000</td>\n",
              "      <td>10.000000</td>\n",
              "      <td>1.000000</td>\n",
              "      <td>0.000000</td>\n",
              "    </tr>\n",
              "    <tr>\n",
              "      <th>25%</th>\n",
              "      <td>25600.000000</td>\n",
              "      <td>18178.500000</td>\n",
              "      <td>158.000000</td>\n",
              "      <td>68.000000</td>\n",
              "      <td>140.000000</td>\n",
              "      <td>901.750000</td>\n",
              "    </tr>\n",
              "    <tr>\n",
              "      <th>50%</th>\n",
              "      <td>49629.500000</td>\n",
              "      <td>19885.500000</td>\n",
              "      <td>165.000000</td>\n",
              "      <td>76.000000</td>\n",
              "      <td>150.000000</td>\n",
              "      <td>1000.000000</td>\n",
              "    </tr>\n",
              "    <tr>\n",
              "      <th>75%</th>\n",
              "      <td>76250.750000</td>\n",
              "      <td>21690.500000</td>\n",
              "      <td>170.000000</td>\n",
              "      <td>89.000000</td>\n",
              "      <td>160.000000</td>\n",
              "      <td>1000.000000</td>\n",
              "    </tr>\n",
              "    <tr>\n",
              "      <th>max</th>\n",
              "      <td>99955.000000</td>\n",
              "      <td>23652.000000</td>\n",
              "      <td>200.000000</td>\n",
              "      <td>181.000000</td>\n",
              "      <td>16020.000000</td>\n",
              "      <td>11000.000000</td>\n",
              "    </tr>\n",
              "  </tbody>\n",
              "</table>\n",
              "</div>"
            ],
            "text/plain": [
              "                 id           age       height       weight         ap_hi  \\\n",
              "count   1232.000000   1232.000000  1232.000000  1232.000000   1232.000000   \n",
              "mean   50126.608766  19721.268669   164.214286    78.913799    253.230519   \n",
              "std    29239.541719   2400.673766     9.523643    16.950492   1147.602819   \n",
              "min      314.000000  14297.000000    66.000000    10.000000      1.000000   \n",
              "25%    25600.000000  18178.500000   158.000000    68.000000    140.000000   \n",
              "50%    49629.500000  19885.500000   165.000000    76.000000    150.000000   \n",
              "75%    76250.750000  21690.500000   170.000000    89.000000    160.000000   \n",
              "max    99955.000000  23652.000000   200.000000   181.000000  16020.000000   \n",
              "\n",
              "              ap_lo  \n",
              "count   1232.000000  \n",
              "mean     949.594968  \n",
              "std     1128.531610  \n",
              "min        0.000000  \n",
              "25%      901.750000  \n",
              "50%     1000.000000  \n",
              "75%     1000.000000  \n",
              "max    11000.000000  "
            ]
          },
          "execution_count": 22,
          "metadata": {},
          "output_type": "execute_result"
        }
      ],
      "source": [
        "df[(df[\"ap_hi\"] < 60) | (df[\"ap_hi\"] > 250) | (df[\"ap_lo\"] < 30) | (df[\"ap_lo\"] > 150)].describe()"
      ]
    },
    {
      "cell_type": "markdown",
      "metadata": {},
      "source": [
        "---"
      ]
    },
    {
      "cell_type": "markdown",
      "metadata": {},
      "source": [
        "# ETL: Load"
      ]
    },
    {
      "cell_type": "markdown",
      "metadata": {},
      "source": [
        "In this section, the cleaned DataFrame will be saved as a csv file named `cleaned_heart_data.csv`."
      ]
    },
    {
      "cell_type": "code",
      "execution_count": 12,
      "metadata": {},
      "outputs": [
        {
          "name": "stdout",
          "output_type": "stream",
          "text": [
            "Cleaned data saved to data/cleaned/cleaned_heart_data.csv\n"
          ]
        }
      ],
      "source": [
        "dir = 'data/cleaned/cleaned_heart_data.csv'\n",
        "df.to_csv(dir, index=False) # Directory of the output csv file\n",
        "print(f\"Cleaned data saved to {dir}\")"
      ]
    },
    {
      "cell_type": "markdown",
      "metadata": {},
      "source": [
        "---"
      ]
    },
    {
      "cell_type": "markdown",
      "metadata": {
        "id": "ltNetd085qHf"
      },
      "source": [
        "# Conclusion"
      ]
    },
    {
      "cell_type": "markdown",
      "metadata": {},
      "source": [
        "- A basic cleaning of the dataset has been completed.\n",
        "- Cleaned dataset saved as a csv file.\n",
        "- More indepth analysis and transformation of the dataset will be conducted in the following EDA section."
      ]
    }
  ],
  "metadata": {
    "accelerator": "GPU",
    "colab": {
      "name": "Data Practitioner Jupyter Notebook.ipynb",
      "provenance": [],
      "toc_visible": true
    },
    "kernelspec": {
      "display_name": ".venv (3.12.8)",
      "language": "python",
      "name": "python3"
    },
    "language_info": {
      "codemirror_mode": {
        "name": "ipython",
        "version": 3
      },
      "file_extension": ".py",
      "mimetype": "text/x-python",
      "name": "python",
      "nbconvert_exporter": "python",
      "pygments_lexer": "ipython3",
      "version": "3.12.8"
    },
    "orig_nbformat": 2
  },
  "nbformat": 4,
  "nbformat_minor": 2
}
